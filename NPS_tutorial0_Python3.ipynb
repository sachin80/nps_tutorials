{
 "cells": [
  {
   "cell_type": "markdown",
   "metadata": {},
   "source": [
    "# Tutorial 0 - Python3"
   ]
  },
  {
   "cell_type": "markdown",
   "metadata": {},
   "source": [
    "This is a short tutorial on Python version 3. For a more comprehensive treatment of Python please visit\n",
    "https://wiki.python.org/moin/BeginnersGuide"
   ]
  },
  {
   "cell_type": "markdown",
   "metadata": {},
   "source": [
    "## 1. Objects and Data Structures\n",
    "\n",
    "Everything in Python is an *object*. \n",
    "\n",
    "An object in Python has a *type* that defines the kinds of things that programs can do with objects of that particular type.\n",
    "\n",
    "Types are either scalar or non-scalar. \n",
    "\n",
    "Scalar objects are indivisible like *int* and *float*. \n",
    "\n",
    "Non-scalar objects, for example *strings*, have internal structure."
   ]
  },
  {
   "cell_type": "code",
   "execution_count": 153,
   "metadata": {},
   "outputs": [],
   "source": [
    "# <- The hash symbol in Python is reserved for comments"
   ]
  },
  {
   "cell_type": "code",
   "execution_count": null,
   "metadata": {},
   "outputs": [],
   "source": [
    "\"\"\" THIS IS CALLED A DOCSTRING.\n",
    "    It is a multi-line comment that is must have 3 opening a closing\n",
    "    quotation marks. These a generally used for function headers. \"\"\""
   ]
  },
  {
   "cell_type": "code",
   "execution_count": 11,
   "metadata": {},
   "outputs": [],
   "source": [
    "a = 5.0"
   ]
  },
  {
   "cell_type": "code",
   "execution_count": 12,
   "metadata": {},
   "outputs": [
    {
     "data": {
      "text/plain": [
       "float"
      ]
     },
     "execution_count": 12,
     "metadata": {},
     "output_type": "execute_result"
    }
   ],
   "source": [
    "# What is variable a's type?\n",
    "type(a)"
   ]
  },
  {
   "cell_type": "code",
   "execution_count": 13,
   "metadata": {},
   "outputs": [
    {
     "name": "stdout",
     "output_type": "stream",
     "text": [
      "Hello World\n"
     ]
    }
   ],
   "source": [
    "# Print statement\n",
    "print(\"Hello World\")"
   ]
  },
  {
   "cell_type": "code",
   "execution_count": 14,
   "metadata": {},
   "outputs": [
    {
     "data": {
      "text/plain": [
       "11"
      ]
     },
     "execution_count": 14,
     "metadata": {},
     "output_type": "execute_result"
    }
   ],
   "source": [
    "# Find the length of the input string \n",
    "len(\"Hello World\")"
   ]
  },
  {
   "cell_type": "code",
   "execution_count": 15,
   "metadata": {},
   "outputs": [],
   "source": [
    "mystring = \"Hello World\""
   ]
  },
  {
   "cell_type": "markdown",
   "metadata": {},
   "source": [
    "Python uses 0 as the first index for an array or list. This is different than Matlab, which uses 1."
   ]
  },
  {
   "cell_type": "code",
   "execution_count": 16,
   "metadata": {},
   "outputs": [
    {
     "data": {
      "text/plain": [
       "'H'"
      ]
     },
     "execution_count": 16,
     "metadata": {},
     "output_type": "execute_result"
    }
   ],
   "source": [
    "# 0 will return the first element. From now one we call this the 0th element. \n",
    "mystring[0]"
   ]
  },
  {
   "cell_type": "code",
   "execution_count": 17,
   "metadata": {},
   "outputs": [
    {
     "data": {
      "text/plain": [
       "'d'"
      ]
     },
     "execution_count": 17,
     "metadata": {},
     "output_type": "execute_result"
    }
   ],
   "source": [
    "# -1 will return the last element\n",
    "mystring[-1]"
   ]
  },
  {
   "cell_type": "code",
   "execution_count": 18,
   "metadata": {},
   "outputs": [
    {
     "data": {
      "text/plain": [
       "'Hel'"
      ]
     },
     "execution_count": 18,
     "metadata": {},
     "output_type": "execute_result"
    }
   ],
   "source": [
    "# :3 returns elements up to but not including the 3rd element\n",
    "mystring[:3]"
   ]
  },
  {
   "cell_type": "code",
   "execution_count": 19,
   "metadata": {},
   "outputs": [
    {
     "data": {
      "text/plain": [
       "'lo '"
      ]
     },
     "execution_count": 19,
     "metadata": {},
     "output_type": "execute_result"
    }
   ],
   "source": [
    "# 3:6 returns 3rd to 5th element\n",
    "mystring[3:6]"
   ]
  },
  {
   "cell_type": "code",
   "execution_count": 20,
   "metadata": {},
   "outputs": [
    {
     "data": {
      "text/plain": [
       "'Hlo'"
      ]
     },
     "execution_count": 20,
     "metadata": {},
     "output_type": "execute_result"
    }
   ],
   "source": [
    "# 0:6:2 returns 0th to 6th element but skips by 2\n",
    "mystring[0:6:2]"
   ]
  },
  {
   "cell_type": "code",
   "execution_count": 20,
   "metadata": {},
   "outputs": [
    {
     "data": {
      "text/plain": [
       "'Hello World'"
      ]
     },
     "execution_count": 20,
     "metadata": {},
     "output_type": "execute_result"
    }
   ],
   "source": [
    "# :: returns all elements \n",
    "mystring[::]"
   ]
  },
  {
   "cell_type": "code",
   "execution_count": 18,
   "metadata": {},
   "outputs": [
    {
     "data": {
      "text/plain": [
       "'HloWrd'"
      ]
     },
     "execution_count": 18,
     "metadata": {},
     "output_type": "execute_result"
    }
   ],
   "source": [
    "# ::2 returns all elements but skip by 2\n",
    "mystring[::2]"
   ]
  },
  {
   "cell_type": "code",
   "execution_count": 21,
   "metadata": {},
   "outputs": [
    {
     "data": {
      "text/plain": [
       "'dlroW olleH'"
      ]
     },
     "execution_count": 21,
     "metadata": {},
     "output_type": "execute_result"
    }
   ],
   "source": [
    "# ::-1 returns all element but backwards\n",
    "mystring[::-1]"
   ]
  },
  {
   "cell_type": "markdown",
   "metadata": {},
   "source": [
    "   ### a) Strings \n",
    "Strings are immutable in Python meaning they can't be changed once they are created. "
   ]
  },
  {
   "cell_type": "code",
   "execution_count": 22,
   "metadata": {},
   "outputs": [
    {
     "ename": "TypeError",
     "evalue": "'str' object does not support item assignment",
     "output_type": "error",
     "traceback": [
      "\u001b[0;31m---------------------------------------------------------------------------\u001b[0m",
      "\u001b[0;31mTypeError\u001b[0m                                 Traceback (most recent call last)",
      "\u001b[0;32m<ipython-input-22-42c5bc7285ef>\u001b[0m in \u001b[0;36m<module>\u001b[0;34m()\u001b[0m\n\u001b[0;32m----> 1\u001b[0;31m \u001b[0mmystring\u001b[0m\u001b[0;34m[\u001b[0m\u001b[0;36m0\u001b[0m\u001b[0;34m]\u001b[0m \u001b[0;34m=\u001b[0m \u001b[0;34m\"p\"\u001b[0m\u001b[0;34m\u001b[0m\u001b[0m\n\u001b[0m",
      "\u001b[0;31mTypeError\u001b[0m: 'str' object does not support item assignment"
     ]
    }
   ],
   "source": [
    "mystring[0] = \"p\""
   ]
  },
  {
   "cell_type": "markdown",
   "metadata": {},
   "source": [
    "We can combine two strings using the `+` operation."
   ]
  },
  {
   "cell_type": "code",
   "execution_count": 3,
   "metadata": {},
   "outputs": [],
   "source": [
    "name = \"Sam\""
   ]
  },
  {
   "cell_type": "code",
   "execution_count": 6,
   "metadata": {},
   "outputs": [
    {
     "data": {
      "text/plain": [
       "'am'"
      ]
     },
     "execution_count": 6,
     "metadata": {},
     "output_type": "execute_result"
    }
   ],
   "source": [
    "last_letters = name[1:]\n",
    "last_letters"
   ]
  },
  {
   "cell_type": "code",
   "execution_count": 5,
   "metadata": {},
   "outputs": [
    {
     "data": {
      "text/plain": [
       "'Pam'"
      ]
     },
     "execution_count": 5,
     "metadata": {},
     "output_type": "execute_result"
    }
   ],
   "source": [
    "'P'+last_letters"
   ]
  },
  {
   "cell_type": "code",
   "execution_count": 31,
   "metadata": {},
   "outputs": [],
   "source": [
    "letter = 'ha'"
   ]
  },
  {
   "cell_type": "code",
   "execution_count": 32,
   "metadata": {},
   "outputs": [
    {
     "data": {
      "text/plain": [
       "'hahahahaha'"
      ]
     },
     "execution_count": 32,
     "metadata": {},
     "output_type": "execute_result"
    }
   ],
   "source": [
    "letter*5"
   ]
  },
  {
   "cell_type": "markdown",
   "metadata": {},
   "source": [
    "We can also split strings in Python using `x.split()`."
   ]
  },
  {
   "cell_type": "code",
   "execution_count": 7,
   "metadata": {},
   "outputs": [
    {
     "data": {
      "text/plain": [
       "['Hello', 'World']"
      ]
     },
     "execution_count": 7,
     "metadata": {},
     "output_type": "execute_result"
    }
   ],
   "source": [
    "x = \"Hello World\"\n",
    "# Here we are splitting on the space\n",
    "x.split()"
   ]
  },
  {
   "cell_type": "code",
   "execution_count": 8,
   "metadata": {},
   "outputs": [
    {
     "data": {
      "text/plain": [
       "['Th', 's ', 's a str', 'ng']"
      ]
     },
     "execution_count": 8,
     "metadata": {},
     "output_type": "execute_result"
    }
   ],
   "source": [
    "y = \"This is a string\"\n",
    "# Here we are splitting on 'i'\n",
    "y.split(\"i\")"
   ]
  },
  {
   "cell_type": "markdown",
   "metadata": {},
   "source": [
    "String formatting "
   ]
  },
  {
   "cell_type": "code",
   "execution_count": 22,
   "metadata": {},
   "outputs": [
    {
     "name": "stdout",
     "output_type": "stream",
     "text": [
      "This is a string INSERTED\n"
     ]
    }
   ],
   "source": [
    "print('This is a string {}'.format('INSERTED'))"
   ]
  },
  {
   "cell_type": "code",
   "execution_count": 23,
   "metadata": {},
   "outputs": [
    {
     "data": {
      "text/plain": [
       "0.1287001287001287"
      ]
     },
     "execution_count": 23,
     "metadata": {},
     "output_type": "execute_result"
    }
   ],
   "source": [
    "# Float formatting {value:width.precisonf}\n",
    "result = 100/777\n",
    "result"
   ]
  },
  {
   "cell_type": "code",
   "execution_count": 24,
   "metadata": {},
   "outputs": [
    {
     "name": "stdout",
     "output_type": "stream",
     "text": [
      "The result was 0.13\n"
     ]
    }
   ],
   "source": [
    "print(\"The result was {r:1.2f}\".format(r=result))"
   ]
  },
  {
   "cell_type": "markdown",
   "metadata": {},
   "source": [
    "String literals"
   ]
  },
  {
   "cell_type": "code",
   "execution_count": 25,
   "metadata": {},
   "outputs": [],
   "source": [
    "name = \"Sam\"\n",
    "age = 3"
   ]
  },
  {
   "cell_type": "code",
   "execution_count": 26,
   "metadata": {},
   "outputs": [
    {
     "name": "stdout",
     "output_type": "stream",
     "text": [
      "Sam is 3 years old.\n"
     ]
    }
   ],
   "source": [
    "print(f'{name} is {age} years old.')"
   ]
  },
  {
   "cell_type": "markdown",
   "metadata": {},
   "source": [
    "### b) Lists \n",
    "Are ordered sequences that can hold a variety of objects. They can be indexed and sliced. "
   ]
  },
  {
   "cell_type": "code",
   "execution_count": 2,
   "metadata": {},
   "outputs": [],
   "source": [
    "mylist = ['one', 'two', 'three']"
   ]
  },
  {
   "cell_type": "code",
   "execution_count": 4,
   "metadata": {},
   "outputs": [
    {
     "data": {
      "text/plain": [
       "['two', 'three']"
      ]
     },
     "execution_count": 4,
     "metadata": {},
     "output_type": "execute_result"
    }
   ],
   "source": [
    "# Return all elements including 1 to the end of the list\n",
    "mylist[1:]"
   ]
  },
  {
   "cell_type": "code",
   "execution_count": 6,
   "metadata": {},
   "outputs": [],
   "source": [
    "another_list = ['four', 'five']"
   ]
  },
  {
   "cell_type": "code",
   "execution_count": 7,
   "metadata": {},
   "outputs": [
    {
     "data": {
      "text/plain": [
       "['one', 'two', 'three', 'four', 'five']"
      ]
     },
     "execution_count": 7,
     "metadata": {},
     "output_type": "execute_result"
    }
   ],
   "source": [
    "# + concatenates lists\n",
    "new_list = mylist + another_list\n",
    "new_list"
   ]
  },
  {
   "cell_type": "code",
   "execution_count": 9,
   "metadata": {},
   "outputs": [
    {
     "data": {
      "text/plain": [
       "['ONE', 'two', 'three', 'four', 'five']"
      ]
     },
     "execution_count": 9,
     "metadata": {},
     "output_type": "execute_result"
    }
   ],
   "source": [
    "# list are mutable\n",
    "new_list[0] = 'ONE'\n",
    "new_list"
   ]
  },
  {
   "cell_type": "code",
   "execution_count": 10,
   "metadata": {},
   "outputs": [
    {
     "data": {
      "text/plain": [
       "['ONE', 'two', 'three', 'four', 'five', 'six']"
      ]
     },
     "execution_count": 10,
     "metadata": {},
     "output_type": "execute_result"
    }
   ],
   "source": [
    "# Append will insert the argument at the end \n",
    "new_list.append('six')\n",
    "new_list"
   ]
  },
  {
   "cell_type": "code",
   "execution_count": 11,
   "metadata": {},
   "outputs": [
    {
     "data": {
      "text/plain": [
       "'six'"
      ]
     },
     "execution_count": 11,
     "metadata": {},
     "output_type": "execute_result"
    }
   ],
   "source": [
    "# This pops off the item designated by argument, by default it's -1 \n",
    "# or the end of the list\n",
    "new_list.pop()"
   ]
  },
  {
   "cell_type": "code",
   "execution_count": 12,
   "metadata": {},
   "outputs": [
    {
     "data": {
      "text/plain": [
       "['ONE', 'two', 'three', 'four', 'five']"
      ]
     },
     "execution_count": 12,
     "metadata": {},
     "output_type": "execute_result"
    }
   ],
   "source": [
    "new_list"
   ]
  },
  {
   "cell_type": "markdown",
   "metadata": {},
   "source": [
    "A function that is `NoneType` in Python is a function that does not return anything. "
   ]
  },
  {
   "cell_type": "code",
   "execution_count": null,
   "metadata": {},
   "outputs": [],
   "source": []
  },
  {
   "cell_type": "code",
   "execution_count": 15,
   "metadata": {},
   "outputs": [],
   "source": [
    "num_list = [4, 1, 8, 3]\n",
    "# sort() is a NoneTyoe. Below will not return anything\n",
    "num_list.sort()"
   ]
  },
  {
   "cell_type": "code",
   "execution_count": 18,
   "metadata": {},
   "outputs": [
    {
     "data": {
      "text/plain": [
       "list"
      ]
     },
     "execution_count": 18,
     "metadata": {},
     "output_type": "execute_result"
    }
   ],
   "source": [
    "type(num_list)"
   ]
  },
  {
   "cell_type": "code",
   "execution_count": 16,
   "metadata": {},
   "outputs": [
    {
     "data": {
      "text/plain": [
       "NoneType"
      ]
     },
     "execution_count": 16,
     "metadata": {},
     "output_type": "execute_result"
    }
   ],
   "source": [
    "type(num_list.sort())"
   ]
  },
  {
   "cell_type": "code",
   "execution_count": 17,
   "metadata": {},
   "outputs": [
    {
     "data": {
      "text/plain": [
       "[1, 3, 4, 8]"
      ]
     },
     "execution_count": 17,
     "metadata": {},
     "output_type": "execute_result"
    }
   ],
   "source": [
    "num_list"
   ]
  },
  {
   "cell_type": "code",
   "execution_count": 22,
   "metadata": {},
   "outputs": [],
   "source": [
    "# Instead we must assign to a new list\n",
    "num_list = [4, 1, 8, 3]\n",
    "new_num_list = num_list.sort()"
   ]
  },
  {
   "cell_type": "markdown",
   "metadata": {},
   "source": [
    "Many functions in Python use the `None` object constant to indicate a function doesn't return anything. "
   ]
  },
  {
   "cell_type": "code",
   "execution_count": 72,
   "metadata": {},
   "outputs": [],
   "source": [
    "# None is a placeholder for variable b, has a NoneType (doesn't \n",
    "# return anything)\n",
    "b = None\n",
    "b"
   ]
  },
  {
   "cell_type": "markdown",
   "metadata": {},
   "source": [
    "### c) Dictionaries\n",
    "\n",
    "Objects in dictionaries are retrieved by the key-value pair. They are unordered and cannot be sorted. "
   ]
  },
  {
   "cell_type": "code",
   "execution_count": 30,
   "metadata": {},
   "outputs": [
    {
     "data": {
      "text/plain": [
       "{'key1': 'value1', 'key2': 'value2'}"
      ]
     },
     "execution_count": 30,
     "metadata": {},
     "output_type": "execute_result"
    }
   ],
   "source": [
    "my_dict = {'key1':'value1', 'key2':'value2'}\n",
    "my_dict"
   ]
  },
  {
   "cell_type": "code",
   "execution_count": 31,
   "metadata": {},
   "outputs": [
    {
     "data": {
      "text/plain": [
       "{'k1': 123, 'k2': [1, 2, 3], 'k3': {'insidekey': 100}}"
      ]
     },
     "execution_count": 31,
     "metadata": {},
     "output_type": "execute_result"
    }
   ],
   "source": [
    "d = {'k1': 123, 'k2': [1, 2, 3], 'k3': {'insidekey': 100}}\n",
    "d"
   ]
  },
  {
   "cell_type": "code",
   "execution_count": 32,
   "metadata": {},
   "outputs": [
    {
     "data": {
      "text/plain": [
       "[1, 2, 3]"
      ]
     },
     "execution_count": 32,
     "metadata": {},
     "output_type": "execute_result"
    }
   ],
   "source": [
    "# Look up the value at 'k2'\n",
    "d['k2']"
   ]
  },
  {
   "cell_type": "code",
   "execution_count": 33,
   "metadata": {},
   "outputs": [
    {
     "data": {
      "text/plain": [
       "{'insidekey': 100}"
      ]
     },
     "execution_count": 33,
     "metadata": {},
     "output_type": "execute_result"
    }
   ],
   "source": [
    "# Look up the value at 'k3'\n",
    "d['k3']"
   ]
  },
  {
   "cell_type": "code",
   "execution_count": 34,
   "metadata": {},
   "outputs": [
    {
     "data": {
      "text/plain": [
       "100"
      ]
     },
     "execution_count": 34,
     "metadata": {},
     "output_type": "execute_result"
    }
   ],
   "source": [
    "# Look up the value at 'insidekey'\n",
    "d['k3']['insidekey']"
   ]
  },
  {
   "cell_type": "code",
   "execution_count": 35,
   "metadata": {},
   "outputs": [
    {
     "data": {
      "text/plain": [
       "{'key1': ['a', 'b', 'c']}"
      ]
     },
     "execution_count": 35,
     "metadata": {},
     "output_type": "execute_result"
    }
   ],
   "source": [
    "d = {'key1': ['a', 'b', 'c']}\n",
    "d"
   ]
  },
  {
   "cell_type": "code",
   "execution_count": 38,
   "metadata": {},
   "outputs": [
    {
     "data": {
      "text/plain": [
       "['a', 'b', 'c']"
      ]
     },
     "execution_count": 38,
     "metadata": {},
     "output_type": "execute_result"
    }
   ],
   "source": [
    "mylist = d['key1']\n",
    "mylist"
   ]
  },
  {
   "cell_type": "code",
   "execution_count": 39,
   "metadata": {},
   "outputs": [
    {
     "data": {
      "text/plain": [
       "'c'"
      ]
     },
     "execution_count": 39,
     "metadata": {},
     "output_type": "execute_result"
    }
   ],
   "source": [
    "letter = mylist[2]\n",
    "letter"
   ]
  },
  {
   "cell_type": "code",
   "execution_count": 40,
   "metadata": {},
   "outputs": [
    {
     "data": {
      "text/plain": [
       "'C'"
      ]
     },
     "execution_count": 40,
     "metadata": {},
     "output_type": "execute_result"
    }
   ],
   "source": [
    "# make letter uppercase\n",
    "letter.upper()"
   ]
  },
  {
   "cell_type": "code",
   "execution_count": 41,
   "metadata": {},
   "outputs": [
    {
     "data": {
      "text/plain": [
       "'C'"
      ]
     },
     "execution_count": 41,
     "metadata": {},
     "output_type": "execute_result"
    }
   ],
   "source": [
    "# in one step\n",
    "d['key1'][2].upper()"
   ]
  },
  {
   "cell_type": "code",
   "execution_count": 42,
   "metadata": {},
   "outputs": [
    {
     "data": {
      "text/plain": [
       "{'k1': 100, 'k2': 200}"
      ]
     },
     "execution_count": 42,
     "metadata": {},
     "output_type": "execute_result"
    }
   ],
   "source": [
    "d = {'k1':100, 'k2':200}\n",
    "d"
   ]
  },
  {
   "cell_type": "code",
   "execution_count": 44,
   "metadata": {},
   "outputs": [
    {
     "data": {
      "text/plain": [
       "{'k1': 100, 'k2': 200, 'k3': 300}"
      ]
     },
     "execution_count": 44,
     "metadata": {},
     "output_type": "execute_result"
    }
   ],
   "source": [
    "d['k3'] = 300\n",
    "d"
   ]
  },
  {
   "cell_type": "code",
   "execution_count": 46,
   "metadata": {},
   "outputs": [
    {
     "data": {
      "text/plain": [
       "{'k1': 'NEW VALUE', 'k2': 200, 'k3': 300}"
      ]
     },
     "execution_count": 46,
     "metadata": {},
     "output_type": "execute_result"
    }
   ],
   "source": [
    "d['k1'] = 'NEW VALUE'\n",
    "d"
   ]
  },
  {
   "cell_type": "code",
   "execution_count": 47,
   "metadata": {},
   "outputs": [
    {
     "data": {
      "text/plain": [
       "dict_keys(['k1', 'k2', 'k3'])"
      ]
     },
     "execution_count": 47,
     "metadata": {},
     "output_type": "execute_result"
    }
   ],
   "source": [
    "# What are the keys of d?\n",
    "d.keys()"
   ]
  },
  {
   "cell_type": "code",
   "execution_count": 48,
   "metadata": {},
   "outputs": [
    {
     "data": {
      "text/plain": [
       "dict_values(['NEW VALUE', 200, 300])"
      ]
     },
     "execution_count": 48,
     "metadata": {},
     "output_type": "execute_result"
    }
   ],
   "source": [
    "# What are the values of d?\n",
    "d.values()"
   ]
  },
  {
   "cell_type": "code",
   "execution_count": 49,
   "metadata": {},
   "outputs": [
    {
     "data": {
      "text/plain": [
       "dict_items([('k1', 'NEW VALUE'), ('k2', 200), ('k3', 300)])"
      ]
     },
     "execution_count": 49,
     "metadata": {},
     "output_type": "execute_result"
    }
   ],
   "source": [
    "# What are all the (key,value) items in d?\n",
    "d.items()"
   ]
  },
  {
   "cell_type": "markdown",
   "metadata": {},
   "source": [
    "### d) Tuples\n",
    "Like lists but are immutable since we can't reassign any of the elements. "
   ]
  },
  {
   "cell_type": "code",
   "execution_count": 51,
   "metadata": {},
   "outputs": [
    {
     "data": {
      "text/plain": [
       "('one', 2)"
      ]
     },
     "execution_count": 51,
     "metadata": {},
     "output_type": "execute_result"
    }
   ],
   "source": [
    "# use open/close parenthesis\n",
    "t = ('one', 2)\n",
    "t"
   ]
  },
  {
   "cell_type": "code",
   "execution_count": 53,
   "metadata": {},
   "outputs": [
    {
     "data": {
      "text/plain": [
       "2"
      ]
     },
     "execution_count": 53,
     "metadata": {},
     "output_type": "execute_result"
    }
   ],
   "source": [
    "t[-1]"
   ]
  },
  {
   "cell_type": "code",
   "execution_count": 54,
   "metadata": {},
   "outputs": [
    {
     "data": {
      "text/plain": [
       "2"
      ]
     },
     "execution_count": 54,
     "metadata": {},
     "output_type": "execute_result"
    }
   ],
   "source": [
    "# Does len work on tuples?\n",
    "len(t)"
   ]
  },
  {
   "cell_type": "code",
   "execution_count": 55,
   "metadata": {},
   "outputs": [
    {
     "ename": "TypeError",
     "evalue": "'tuple' object does not support item assignment",
     "output_type": "error",
     "traceback": [
      "\u001b[0;31m---------------------------------------------------------------------------\u001b[0m",
      "\u001b[0;31mTypeError\u001b[0m                                 Traceback (most recent call last)",
      "\u001b[0;32m<ipython-input-55-9bdf9c18f60b>\u001b[0m in \u001b[0;36m<module>\u001b[0;34m()\u001b[0m\n\u001b[0;32m----> 1\u001b[0;31m \u001b[0mt\u001b[0m\u001b[0;34m[\u001b[0m\u001b[0;36m0\u001b[0m\u001b[0;34m]\u001b[0m \u001b[0;34m=\u001b[0m \u001b[0;34m'two'\u001b[0m\u001b[0;34m\u001b[0m\u001b[0m\n\u001b[0m",
      "\u001b[0;31mTypeError\u001b[0m: 'tuple' object does not support item assignment"
     ]
    }
   ],
   "source": [
    "t[0] = 'two'"
   ]
  },
  {
   "cell_type": "code",
   "execution_count": 56,
   "metadata": {},
   "outputs": [],
   "source": [
    "t = ('a', 'a', 'b')"
   ]
  },
  {
   "cell_type": "code",
   "execution_count": 57,
   "metadata": {},
   "outputs": [
    {
     "data": {
      "text/plain": [
       "2"
      ]
     },
     "execution_count": 57,
     "metadata": {},
     "output_type": "execute_result"
    }
   ],
   "source": [
    "# Count the number of times 'a' appears\n",
    "t.count('a')"
   ]
  },
  {
   "cell_type": "code",
   "execution_count": 58,
   "metadata": {},
   "outputs": [
    {
     "data": {
      "text/plain": [
       "0"
      ]
     },
     "execution_count": 58,
     "metadata": {},
     "output_type": "execute_result"
    }
   ],
   "source": [
    "# Returns first index location element appears\n",
    "t.index('a')"
   ]
  },
  {
   "cell_type": "markdown",
   "metadata": {},
   "source": [
    "### e) Set\n",
    "Are unordered collections of unique objects. Objects cannot be repeated. "
   ]
  },
  {
   "cell_type": "code",
   "execution_count": 59,
   "metadata": {},
   "outputs": [
    {
     "data": {
      "text/plain": [
       "set()"
      ]
     },
     "execution_count": 59,
     "metadata": {},
     "output_type": "execute_result"
    }
   ],
   "source": [
    "myset = set()\n",
    "myset"
   ]
  },
  {
   "cell_type": "code",
   "execution_count": 61,
   "metadata": {},
   "outputs": [
    {
     "data": {
      "text/plain": [
       "{1}"
      ]
     },
     "execution_count": 61,
     "metadata": {},
     "output_type": "execute_result"
    }
   ],
   "source": [
    "myset.add(1)\n",
    "myset"
   ]
  },
  {
   "cell_type": "code",
   "execution_count": 62,
   "metadata": {},
   "outputs": [
    {
     "data": {
      "text/plain": [
       "{1, 2}"
      ]
     },
     "execution_count": 62,
     "metadata": {},
     "output_type": "execute_result"
    }
   ],
   "source": [
    "myset.add(2)\n",
    "myset"
   ]
  },
  {
   "cell_type": "code",
   "execution_count": 63,
   "metadata": {},
   "outputs": [
    {
     "data": {
      "text/plain": [
       "{1, 2}"
      ]
     },
     "execution_count": 63,
     "metadata": {},
     "output_type": "execute_result"
    }
   ],
   "source": [
    "# Only accepts unique values \n",
    "myset.add(2)\n",
    "myset"
   ]
  },
  {
   "cell_type": "code",
   "execution_count": null,
   "metadata": {},
   "outputs": [],
   "source": [
    "mylist = [1, 1, 1, 1,2, 2, 2, 2, 3, 3,3]"
   ]
  },
  {
   "cell_type": "code",
   "execution_count": 64,
   "metadata": {},
   "outputs": [
    {
     "data": {
      "text/plain": [
       "{'a', 'b', 'c'}"
      ]
     },
     "execution_count": 64,
     "metadata": {},
     "output_type": "execute_result"
    }
   ],
   "source": [
    "# Returns unique objects\n",
    "set(mylist)"
   ]
  },
  {
   "cell_type": "markdown",
   "metadata": {},
   "source": [
    "### f) Booleans"
   ]
  },
  {
   "cell_type": "code",
   "execution_count": 65,
   "metadata": {},
   "outputs": [
    {
     "data": {
      "text/plain": [
       "True"
      ]
     },
     "execution_count": 65,
     "metadata": {},
     "output_type": "execute_result"
    }
   ],
   "source": [
    "True"
   ]
  },
  {
   "cell_type": "code",
   "execution_count": 66,
   "metadata": {},
   "outputs": [
    {
     "data": {
      "text/plain": [
       "False"
      ]
     },
     "execution_count": 66,
     "metadata": {},
     "output_type": "execute_result"
    }
   ],
   "source": [
    "False"
   ]
  },
  {
   "cell_type": "code",
   "execution_count": 67,
   "metadata": {},
   "outputs": [
    {
     "data": {
      "text/plain": [
       "bool"
      ]
     },
     "execution_count": 67,
     "metadata": {},
     "output_type": "execute_result"
    }
   ],
   "source": [
    "type(True)"
   ]
  },
  {
   "cell_type": "code",
   "execution_count": 68,
   "metadata": {},
   "outputs": [
    {
     "data": {
      "text/plain": [
       "False"
      ]
     },
     "execution_count": 68,
     "metadata": {},
     "output_type": "execute_result"
    }
   ],
   "source": [
    "1 > 2"
   ]
  },
  {
   "cell_type": "code",
   "execution_count": 69,
   "metadata": {},
   "outputs": [
    {
     "data": {
      "text/plain": [
       "True"
      ]
     },
     "execution_count": 69,
     "metadata": {},
     "output_type": "execute_result"
    }
   ],
   "source": [
    "1 == 1"
   ]
  },
  {
   "cell_type": "markdown",
   "metadata": {},
   "source": [
    "### g) SImple File I/O "
   ]
  },
  {
   "cell_type": "code",
   "execution_count": 79,
   "metadata": {},
   "outputs": [],
   "source": [
    "# Let's open a .txt file we have created called my_txt_file.txt\n",
    "myfile = open('my_txt_file.txt') "
   ]
  },
  {
   "cell_type": "code",
   "execution_count": 80,
   "metadata": {},
   "outputs": [
    {
     "data": {
      "text/plain": [
       "'This is my text file!\\n'"
      ]
     },
     "execution_count": 80,
     "metadata": {},
     "output_type": "execute_result"
    }
   ],
   "source": [
    "# Let's read the file\n",
    "myfile.read()"
   ]
  },
  {
   "cell_type": "code",
   "execution_count": 81,
   "metadata": {},
   "outputs": [
    {
     "data": {
      "text/plain": [
       "''"
      ]
     },
     "execution_count": 81,
     "metadata": {},
     "output_type": "execute_result"
    }
   ],
   "source": [
    "# Result below is because cursor needs to be reset\n",
    "myfile.read()"
   ]
  },
  {
   "cell_type": "code",
   "execution_count": 82,
   "metadata": {},
   "outputs": [
    {
     "data": {
      "text/plain": [
       "0"
      ]
     },
     "execution_count": 82,
     "metadata": {},
     "output_type": "execute_result"
    }
   ],
   "source": [
    "# Result teh cursor\n",
    "myfile.seek(0)"
   ]
  },
  {
   "cell_type": "code",
   "execution_count": 83,
   "metadata": {},
   "outputs": [
    {
     "data": {
      "text/plain": [
       "'This is my text file!\\n'"
      ]
     },
     "execution_count": 83,
     "metadata": {},
     "output_type": "execute_result"
    }
   ],
   "source": [
    "contents = myfile.read()\n",
    "contents"
   ]
  },
  {
   "cell_type": "code",
   "execution_count": 84,
   "metadata": {},
   "outputs": [
    {
     "data": {
      "text/plain": [
       "[]"
      ]
     },
     "execution_count": 84,
     "metadata": {},
     "output_type": "execute_result"
    }
   ],
   "source": [
    "# This will return a list (cursor not reset)\n",
    "myfile.readlines()"
   ]
  },
  {
   "cell_type": "code",
   "execution_count": 85,
   "metadata": {},
   "outputs": [
    {
     "data": {
      "text/plain": [
       "0"
      ]
     },
     "execution_count": 85,
     "metadata": {},
     "output_type": "execute_result"
    }
   ],
   "source": [
    "# Cursor reset\n",
    "myfile.seek(0)"
   ]
  },
  {
   "cell_type": "code",
   "execution_count": 86,
   "metadata": {},
   "outputs": [
    {
     "data": {
      "text/plain": [
       "['This is my text file!\\n']"
      ]
     },
     "execution_count": 86,
     "metadata": {},
     "output_type": "execute_result"
    }
   ],
   "source": [
    "myfile.readlines()"
   ]
  },
  {
   "cell_type": "code",
   "execution_count": 87,
   "metadata": {},
   "outputs": [],
   "source": [
    "# Let's close myfile\n",
    "myfile.close()"
   ]
  },
  {
   "cell_type": "code",
   "execution_count": 88,
   "metadata": {},
   "outputs": [],
   "source": [
    "# Let's write to a new .txt file\n",
    "with open(\"my_new_file.txt\", \"wt\") as f:\n",
    "    f.write(\"ONE ON FIRST\\nTWO ON SECOND\\nTHREE ON THIRD\")\n"
   ]
  },
  {
   "cell_type": "code",
   "execution_count": 89,
   "metadata": {},
   "outputs": [
    {
     "name": "stdout",
     "output_type": "stream",
     "text": [
      "ONE ON FIRST\n",
      "TWO ON SECOND\n",
      "THREE ON THIRD\n"
     ]
    }
   ],
   "source": [
    "# Let's read out file using read only mode\n",
    "with open(\"my_new_file.txt\", \"r\") as f:\n",
    "    print(f.read())"
   ]
  },
  {
   "cell_type": "code",
   "execution_count": 90,
   "metadata": {},
   "outputs": [],
   "source": [
    "# Let's append to file using a mode\n",
    "with open(\"my_new_file.txt\", \"a\") as f:\n",
    "    f.write('\\nFOUR ON FOURTH')\n"
   ]
  },
  {
   "cell_type": "code",
   "execution_count": 91,
   "metadata": {},
   "outputs": [
    {
     "name": "stdout",
     "output_type": "stream",
     "text": [
      "ONE ON FIRST\n",
      "TWO ON SECOND\n",
      "THREE ON THIRD\n",
      "FOUR ON FOURTH\n"
     ]
    }
   ],
   "source": [
    "with open(\"my_new_file.txt\", \"r\") as f:\n",
    "    print(f.read())"
   ]
  },
  {
   "cell_type": "markdown",
   "metadata": {},
   "source": [
    "## 2. Statements"
   ]
  },
  {
   "cell_type": "markdown",
   "metadata": {},
   "source": [
    "### a) if - elif - else"
   ]
  },
  {
   "cell_type": "code",
   "execution_count": 93,
   "metadata": {},
   "outputs": [
    {
     "name": "stdout",
     "output_type": "stream",
     "text": [
      "Hello Frank\n"
     ]
    }
   ],
   "source": [
    "name = 'Frank'\n",
    "if name == 'Frank':\n",
    "    print('Hello Frank')\n",
    "elif name == 'Sam':\n",
    "    print('Hello Sam')\n",
    "else:\n",
    "    print(\"Sorry, I don't know you.\")"
   ]
  },
  {
   "cell_type": "markdown",
   "metadata": {},
   "source": [
    "### b) for loops"
   ]
  },
  {
   "cell_type": "code",
   "execution_count": 94,
   "metadata": {},
   "outputs": [],
   "source": [
    "mylist = [1, 2, 3, 4]"
   ]
  },
  {
   "cell_type": "code",
   "execution_count": 113,
   "metadata": {},
   "outputs": [
    {
     "data": {
      "text/plain": [
       "True"
      ]
     },
     "execution_count": 113,
     "metadata": {},
     "output_type": "execute_result"
    }
   ],
   "source": [
    "# This checks if 1 is in list\n",
    "1 in mylist"
   ]
  },
  {
   "cell_type": "markdown",
   "metadata": {},
   "source": [
    "The `for` loop below creates a variable on-the-fly called an `item`. The variable name for `item` is $\\textsf{num}$, which is bound to an element in $\\textsf{mylist}$ for each iteration of the loop. We could have picked any variable name instead of $\\textsf{num}$."
   ]
  },
  {
   "cell_type": "code",
   "execution_count": 104,
   "metadata": {},
   "outputs": [
    {
     "name": "stdout",
     "output_type": "stream",
     "text": [
      "1\n",
      "2\n",
      "3\n",
      "4\n"
     ]
    }
   ],
   "source": [
    "for num in mylist:\n",
    "    print(num)"
   ]
  },
  {
   "cell_type": "markdown",
   "metadata": {},
   "source": [
    "Let's look at what's going on per loop. "
   ]
  },
  {
   "cell_type": "code",
   "execution_count": 110,
   "metadata": {},
   "outputs": [
    {
     "name": "stdout",
     "output_type": "stream",
     "text": [
      "loop 0:\n",
      "num is now 1\n",
      "loop 1:\n",
      "num is now 2\n",
      "loop 2:\n",
      "num is now 3\n",
      "loop 3:\n",
      "num is now 4\n",
      "for loop terminated\n"
     ]
    }
   ],
   "source": [
    "index_count = 0\n",
    "for num in mylist:\n",
    "    print('loop', str(index_count) + ':')\n",
    "    print('num is now', num)\n",
    "    # Below is the same as count = count + 1\n",
    "    index_count += 1\n",
    "    if index_count == len(mylist):\n",
    "        print('for loop terminated')"
   ]
  },
  {
   "cell_type": "markdown",
   "metadata": {},
   "source": [
    "Scoping is important in for loops! This will return the running total at each iteration.\n"
   ]
  },
  {
   "cell_type": "code",
   "execution_count": 105,
   "metadata": {},
   "outputs": [
    {
     "name": "stdout",
     "output_type": "stream",
     "text": [
      "1\n",
      "3\n",
      "6\n",
      "10\n"
     ]
    }
   ],
   "source": [
    "# Set initial value for variable that is being updated\n",
    "list_sum = 0 \n",
    "for num in mylist:\n",
    "    list_sum += num\n",
    "    print(list_sum)"
   ]
  },
  {
   "cell_type": "markdown",
   "metadata": {},
   "source": [
    "This will return the total."
   ]
  },
  {
   "cell_type": "code",
   "execution_count": 106,
   "metadata": {},
   "outputs": [
    {
     "name": "stdout",
     "output_type": "stream",
     "text": [
      "10\n"
     ]
    }
   ],
   "source": [
    "list_sum = 0 \n",
    "for num in mylist:\n",
    "    list_sum += num\n",
    "print(list_sum)"
   ]
  },
  {
   "cell_type": "code",
   "execution_count": 111,
   "metadata": {},
   "outputs": [
    {
     "name": "stdout",
     "output_type": "stream",
     "text": [
      "a\n",
      "b\n",
      "c\n",
      "d\n"
     ]
    }
   ],
   "source": [
    "index_count = 0\n",
    "word = 'abcd'\n",
    "for letter in word: \n",
    "    print(word[index_count])\n",
    "    index_count += 1"
   ]
  },
  {
   "cell_type": "code",
   "execution_count": 112,
   "metadata": {},
   "outputs": [
    {
     "name": "stdout",
     "output_type": "stream",
     "text": [
      "a\n",
      "b\n",
      "c\n",
      "d\n"
     ]
    }
   ],
   "source": [
    "# Cleaner to do the following\n",
    "word = 'abcd'\n",
    "for letter in word: \n",
    "    print(letter)"
   ]
  },
  {
   "cell_type": "code",
   "execution_count": 117,
   "metadata": {},
   "outputs": [
    {
     "name": "stdout",
     "output_type": "stream",
     "text": [
      "odd 1\n",
      "even 2\n",
      "odd 3\n",
      "even 4\n"
     ]
    }
   ],
   "source": [
    "# Let's print the odd and even numbers in mylist\n",
    "for num in mylist:\n",
    "    if num % 2 == 0:\n",
    "        print(f'even {num}')\n",
    "    else:\n",
    "        print(f'odd {num}')"
   ]
  },
  {
   "cell_type": "markdown",
   "metadata": {},
   "source": [
    "We can use an underscore instead of a name for `item` if we intend not to use it in the body of the loop. "
   ]
  },
  {
   "cell_type": "code",
   "execution_count": 118,
   "metadata": {},
   "outputs": [
    {
     "name": "stdout",
     "output_type": "stream",
     "text": [
      "Cool!\n",
      "Cool!\n",
      "Cool!\n",
      "Cool!\n",
      "Cool!\n",
      "Cool!\n",
      "Cool!\n",
      "Cool!\n",
      "Cool!\n",
      "Cool!\n",
      "Cool!\n"
     ]
    }
   ],
   "source": [
    "for _ in \"Hello World\":\n",
    "    print(\"Cool!\")"
   ]
  },
  {
   "cell_type": "markdown",
   "metadata": {},
   "source": [
    "We can also loop through dictionaries!"
   ]
  },
  {
   "cell_type": "code",
   "execution_count": 119,
   "metadata": {},
   "outputs": [
    {
     "name": "stdout",
     "output_type": "stream",
     "text": [
      "k1 1\n",
      "k2 2\n",
      "k3 3\n"
     ]
    }
   ],
   "source": [
    "d = {'k1': 1, 'k2': 2, 'k3': 3, }\n",
    "\n",
    "for key, value in d.items():\n",
    "    print(key, value)"
   ]
  },
  {
   "cell_type": "code",
   "execution_count": 136,
   "metadata": {},
   "outputs": [
    {
     "name": "stdout",
     "output_type": "stream",
     "text": [
      "PyTorch\n",
      "Tensorflow\n"
     ]
    }
   ],
   "source": [
    "d1 = {1:'Tensorflow', 2:'PyTorch'}\n",
    "d2 = {'A': [1,2], 'B': [2, 1]}\n",
    "\n",
    "for value in d2['B']:\n",
    "    print(d1[value])"
   ]
  },
  {
   "cell_type": "markdown",
   "metadata": {},
   "source": [
    "Tuple unpacking is a popular technique for looping through large datasets. Here are some examples. "
   ]
  },
  {
   "cell_type": "code",
   "execution_count": 121,
   "metadata": {},
   "outputs": [
    {
     "name": "stdout",
     "output_type": "stream",
     "text": [
      "1\n",
      "2\n",
      "3\n"
     ]
    }
   ],
   "source": [
    "tup = (1, 2, 3)\n",
    "for item in tup: \n",
    "    print(item)"
   ]
  },
  {
   "cell_type": "code",
   "execution_count": 122,
   "metadata": {},
   "outputs": [
    {
     "data": {
      "text/plain": [
       "4"
      ]
     },
     "execution_count": 122,
     "metadata": {},
     "output_type": "execute_result"
    }
   ],
   "source": [
    "# Let's make a list of tuples\n",
    "mylist = [(1,2), (3,4), (5,6), (7,8)]\n",
    "len(mylist)"
   ]
  },
  {
   "cell_type": "code",
   "execution_count": 123,
   "metadata": {},
   "outputs": [
    {
     "name": "stdout",
     "output_type": "stream",
     "text": [
      "1\n",
      "2\n",
      "3\n",
      "4\n",
      "5\n",
      "6\n",
      "7\n",
      "8\n"
     ]
    }
   ],
   "source": [
    "# Let's unpack these tuples!\n",
    "for a,b in mylist: \n",
    "    print(a)\n",
    "    print(b)"
   ]
  },
  {
   "cell_type": "markdown",
   "metadata": {},
   "source": [
    "### c) Useful operators "
   ]
  },
  {
   "cell_type": "markdown",
   "metadata": {},
   "source": [
    "#### **range(start, stop, step)**\n",
    "\n",
    "`range(start, stop, step)` is a *generator* in Python. We will have more example on generators in Python. Right now, let's think of it as similar to  `linspace` in Matlab. "
   ]
  },
  {
   "cell_type": "code",
   "execution_count": 124,
   "metadata": {},
   "outputs": [
    {
     "data": {
      "text/plain": [
       "range(0, 11, 2)"
      ]
     },
     "execution_count": 124,
     "metadata": {},
     "output_type": "execute_result"
    }
   ],
   "source": [
    "# This will return a range generator type\n",
    "range(0,11,2)"
   ]
  },
  {
   "cell_type": "code",
   "execution_count": 125,
   "metadata": {},
   "outputs": [
    {
     "data": {
      "text/plain": [
       "[0, 2, 4, 6, 8, 10]"
      ]
     },
     "execution_count": 125,
     "metadata": {},
     "output_type": "execute_result"
    }
   ],
   "source": [
    "# Let's convert it into a list type\n",
    "list(range(0, 11, 2))"
   ]
  },
  {
   "cell_type": "markdown",
   "metadata": {},
   "source": [
    "`range(n)` is used to return a generator like `0, 1, ..., n-1` which can be used to efficiently loop over values.  "
   ]
  },
  {
   "cell_type": "code",
   "execution_count": 126,
   "metadata": {},
   "outputs": [
    {
     "name": "stdout",
     "output_type": "stream",
     "text": [
      "0\n",
      "2\n",
      "4\n",
      "6\n",
      "8\n",
      "10\n"
     ]
    }
   ],
   "source": [
    "for num in range(0,11,2):\n",
    "    print(num)"
   ]
  },
  {
   "cell_type": "code",
   "execution_count": 127,
   "metadata": {},
   "outputs": [
    {
     "name": "stdout",
     "output_type": "stream",
     "text": [
      "0\n",
      "1\n",
      "2\n",
      "3\n",
      "4\n",
      "5\n",
      "6\n",
      "7\n",
      "8\n",
      "9\n",
      "10\n"
     ]
    }
   ],
   "source": [
    "for num in range(11):\n",
    "    print(num)"
   ]
  },
  {
   "cell_type": "code",
   "execution_count": 130,
   "metadata": {},
   "outputs": [
    {
     "name": "stdout",
     "output_type": "stream",
     "text": [
      "At index 0 the letter is a\n",
      "At index 1 the letter is b\n",
      "At index 2 the letter is c\n",
      "At index 3 the letter is d\n"
     ]
    }
   ],
   "source": [
    "index_count = 0\n",
    "for letter in 'abcd':\n",
    "    print('At index {} the letter is {}'.format(index_count, letter))\n",
    "    index_count += 1"
   ]
  },
  {
   "cell_type": "markdown",
   "metadata": {},
   "source": [
    "#### enumerate(iterable,...)\n",
    "Here `iterable` refers to the abstract base class that is essentially anything that can be looped over (i.e. like a string or file). So `enumerate(string)` creates a emumerate generator that returns a tuple like `(0, string[0]), (1, string[1]),....,(n-1,string[n-1]) `"
   ]
  },
  {
   "cell_type": "code",
   "execution_count": 131,
   "metadata": {},
   "outputs": [
    {
     "data": {
      "text/plain": [
       "<enumerate at 0x109caa948>"
      ]
     },
     "execution_count": 131,
     "metadata": {},
     "output_type": "execute_result"
    }
   ],
   "source": [
    "word = 'abcd'\n",
    "# Returns a enumerate generator type\n",
    "enumerate(word)"
   ]
  },
  {
   "cell_type": "code",
   "execution_count": 132,
   "metadata": {},
   "outputs": [
    {
     "data": {
      "text/plain": [
       "[(0, 'a'), (1, 'b'), (2, 'c'), (3, 'd')]"
      ]
     },
     "execution_count": 132,
     "metadata": {},
     "output_type": "execute_result"
    }
   ],
   "source": [
    "# Let's convert to a list type\n",
    "list(enumerate(word))"
   ]
  },
  {
   "cell_type": "code",
   "execution_count": 134,
   "metadata": {},
   "outputs": [
    {
     "name": "stdout",
     "output_type": "stream",
     "text": [
      "0\n",
      "a\n",
      "1\n",
      "b\n",
      "2\n",
      "c\n",
      "3\n",
      "d\n"
     ]
    }
   ],
   "source": [
    "# Let's use tuple unpacking\n",
    "for index, letter in enumerate(word):\n",
    "    print(index)\n",
    "    print(letter)"
   ]
  },
  {
   "cell_type": "markdown",
   "metadata": {},
   "source": [
    "#### zip(list1, list2, ...)\n",
    "`zip(list1, list2)` will return something like `(list1[0], list2[0]), (list1[0], list2[0]),...,(list1[n-1], list2[n-1])` a generator that concatenates corresponding indices in each list as tuples."
   ]
  },
  {
   "cell_type": "code",
   "execution_count": 137,
   "metadata": {},
   "outputs": [
    {
     "name": "stdout",
     "output_type": "stream",
     "text": [
      "(1, 'a')\n",
      "(2, 'b')\n",
      "(3, 'c')\n"
     ]
    }
   ],
   "source": [
    "mylist1 = [1, 2, 3, 4]\n",
    "mylist2 = ['a', 'b', 'c']\n",
    "for item in zip(mylist1, mylist2):\n",
    "    print(item)"
   ]
  },
  {
   "cell_type": "markdown",
   "metadata": {},
   "source": [
    "We can also used `while` loops. "
   ]
  },
  {
   "cell_type": "code",
   "execution_count": 150,
   "metadata": {},
   "outputs": [
    {
     "name": "stdout",
     "output_type": "stream",
     "text": [
      "x is less than 5\n",
      "x is less than 5\n",
      "x is less than 5\n",
      "x is less than 5\n",
      "x is less than 5\n",
      "x is greater than 5\n"
     ]
    }
   ],
   "source": [
    "x = 0\n",
    "while x < 5:    \n",
    "    print('x is less than 5')\n",
    "    x += 1\n",
    "else:\n",
    "    print('x is greater than 5')"
   ]
  },
  {
   "cell_type": "markdown",
   "metadata": {},
   "source": [
    "### d) List Comprehensions \n",
    "List comprehensions are a way of making code short and concise. They are very useful for creating lists:  \n",
    "\n",
    "$\\textit{var} = [\\textit{expr}\\hspace{0.1cm} \\textsf{for}\\hspace{0.1cm}\\textit{item}\\hspace{0.1cm} \\textsf{in} \\hspace{0.1cm}\\textit{iterable}\\hspace{0.1cm} \\textsf{if}\\hspace{0.1cm} \\textit{condition}]$\n",
    "\n",
    "where $\\textit{item}$ is a single variable or tuple of variables, $\\textit{expr}$ is an expression that uses the variable $\\textit{item}$ and evaluates to a list, tuple, string if the expression $\\textit{condition}$ is met."
   ]
  },
  {
   "cell_type": "code",
   "execution_count": 9,
   "metadata": {},
   "outputs": [
    {
     "data": {
      "text/plain": [
       "['H', 'e', 'l', 'l', 'o']"
      ]
     },
     "execution_count": 9,
     "metadata": {},
     "output_type": "execute_result"
    }
   ],
   "source": [
    "# The usual way\n",
    "mystring = \"Hello\"\n",
    "mylist = []\n",
    "for letter in mystring:\n",
    "    # Append letter to mylist\n",
    "    mylist.append(letter)\n",
    "mylist"
   ]
  },
  {
   "cell_type": "code",
   "execution_count": 140,
   "metadata": {},
   "outputs": [
    {
     "data": {
      "text/plain": [
       "['H', 'e', 'l', 'l', 'o']"
      ]
     },
     "execution_count": 140,
     "metadata": {},
     "output_type": "execute_result"
    }
   ],
   "source": [
    "# Using list comprehensions\n",
    "# var = [expr for item in iterable]\n",
    "mylist = [letter for letter in mystring]\n",
    "mylist"
   ]
  },
  {
   "cell_type": "code",
   "execution_count": 143,
   "metadata": {},
   "outputs": [
    {
     "data": {
      "text/plain": [
       "[0, 4, 16, 36, 64, 100]"
      ]
     },
     "execution_count": 143,
     "metadata": {},
     "output_type": "execute_result"
    }
   ],
   "source": [
    "mylist = [x**2 for x in range(11) if x % 2 == 0]\n",
    "mylist"
   ]
  },
  {
   "cell_type": "code",
   "execution_count": 144,
   "metadata": {},
   "outputs": [
    {
     "data": {
      "text/plain": [
       "[32.0, 50.0, 68.0, 94.1]"
      ]
     },
     "execution_count": 144,
     "metadata": {},
     "output_type": "execute_result"
    }
   ],
   "source": [
    "# Celsius to Farhrenheit\n",
    "fahrenheit = []\n",
    "celsius = [0, 10, 20, 34.5]\n",
    "for temp in celsius: \n",
    "    fahrenheit.append((9/5)*temp + 32)\n",
    "fahrenheit"
   ]
  },
  {
   "cell_type": "code",
   "execution_count": 145,
   "metadata": {},
   "outputs": [
    {
     "data": {
      "text/plain": [
       "[32.0, 50.0, 68.0, 94.1]"
      ]
     },
     "execution_count": 145,
     "metadata": {},
     "output_type": "execute_result"
    }
   ],
   "source": [
    "# List comp\n",
    "fahrenheit = [(9/5)*temp + 32 for temp in celsius]\n",
    "fahrenheit"
   ]
  },
  {
   "cell_type": "code",
   "execution_count": 147,
   "metadata": {},
   "outputs": [
    {
     "data": {
      "text/plain": [
       "[2, 20, 200, 4, 40, 400, 6, 60, 600]"
      ]
     },
     "execution_count": 147,
     "metadata": {},
     "output_type": "execute_result"
    }
   ],
   "source": [
    "mylist = []\n",
    "for x in [2, 4, 6]:\n",
    "    for y in [1, 10, 100]:\n",
    "        mylist.append(x*y)\n",
    "mylist"
   ]
  },
  {
   "cell_type": "code",
   "execution_count": 148,
   "metadata": {},
   "outputs": [
    {
     "data": {
      "text/plain": [
       "[2, 20, 200, 4, 40, 400, 6, 60, 600]"
      ]
     },
     "execution_count": 148,
     "metadata": {},
     "output_type": "execute_result"
    }
   ],
   "source": [
    "mylist = [x*y for x in [2, 4, 6] for y in [1, 10, 100] ]\n",
    "mylist"
   ]
  },
  {
   "cell_type": "markdown",
   "metadata": {},
   "source": [
    "We can also do dictionary comprehensions!"
   ]
  },
  {
   "cell_type": "code",
   "execution_count": 151,
   "metadata": {},
   "outputs": [
    {
     "data": {
      "text/plain": [
       "{'a': 2, 'b': 4, 'c': 6, 'd': 8, 'e': 10}"
      ]
     },
     "execution_count": 151,
     "metadata": {},
     "output_type": "execute_result"
    }
   ],
   "source": [
    "d1 = {'a':1, 'b':2, 'c':3, 'd':4, 'e':5}\n",
    "# dict = {key:value for (key,value) in dictionary.items()}\n",
    "dd1 = {k:v*2 for (k,v) in d1.items() }\n",
    "dd1"
   ]
  },
  {
   "cell_type": "code",
   "execution_count": 152,
   "metadata": {},
   "outputs": [
    {
     "data": {
      "text/plain": [
       "{0: 0, 2: 4, 4: 16, 6: 36, 8: 64}"
      ]
     },
     "execution_count": 152,
     "metadata": {},
     "output_type": "execute_result"
    }
   ],
   "source": [
    "numbers = range(10)\n",
    "new_dict = {}\n",
    "for n in numbers:\n",
    "    if n % 2 == 0:\n",
    "        new_dict[n] = n**2\n",
    "new_dict"
   ]
  },
  {
   "cell_type": "markdown",
   "metadata": {},
   "source": [
    "## 3. Functions"
   ]
  },
  {
   "cell_type": "markdown",
   "metadata": {},
   "source": [
    "In Python the function definition is of the form\n",
    "\n",
    "$\\textsf{def}\\hspace{0.1cm}\\textit{function_name}(\\textit{parameters}):\n",
    "\\textit{function_body}$\n",
    "\n"
   ]
  },
  {
   "cell_type": "code",
   "execution_count": 19,
   "metadata": {},
   "outputs": [],
   "source": [
    "def function_name():\n",
    "    \"\"\"\n",
    "    DOCSTRING: Information about the function. \n",
    "    INPUT: No input.\n",
    "    OUTPUT: Hello\n",
    "    \"\"\"\n",
    "    print(\"Hello\")"
   ]
  },
  {
   "cell_type": "code",
   "execution_count": 20,
   "metadata": {},
   "outputs": [
    {
     "name": "stdout",
     "output_type": "stream",
     "text": [
      "Hello\n"
     ]
    }
   ],
   "source": [
    "# Need the paranthesis to get the output of the function\n",
    "function_name()"
   ]
  },
  {
   "cell_type": "markdown",
   "metadata": {},
   "source": [
    "We have used a default parameter in the parameter list below. The default parameter will default to the value, $\\textsf{'NAME'}$, if one is not supplied. Also, we have supplied a return value for the function."
   ]
  },
  {
   "cell_type": "code",
   "execution_count": 159,
   "metadata": {},
   "outputs": [],
   "source": [
    "def say_hello(name='NAME'):\n",
    "    return 'hello ' + name"
   ]
  },
  {
   "cell_type": "code",
   "execution_count": 160,
   "metadata": {},
   "outputs": [
    {
     "data": {
      "text/plain": [
       "'hello NAME'"
      ]
     },
     "execution_count": 160,
     "metadata": {},
     "output_type": "execute_result"
    }
   ],
   "source": [
    "say_hello()"
   ]
  },
  {
   "cell_type": "code",
   "execution_count": 161,
   "metadata": {},
   "outputs": [
    {
     "data": {
      "text/plain": [
       "'hello Geoff'"
      ]
     },
     "execution_count": 161,
     "metadata": {},
     "output_type": "execute_result"
    }
   ],
   "source": [
    "say_hello('Geoff')"
   ]
  },
  {
   "cell_type": "code",
   "execution_count": 162,
   "metadata": {},
   "outputs": [],
   "source": [
    "def dog_check(mystring):\n",
    "    if 'dog' in mystring.lower():\n",
    "        return True\n",
    "    else: \n",
    "        return False"
   ]
  },
  {
   "cell_type": "code",
   "execution_count": 163,
   "metadata": {},
   "outputs": [
    {
     "data": {
      "text/plain": [
       "True"
      ]
     },
     "execution_count": 163,
     "metadata": {},
     "output_type": "execute_result"
    }
   ],
   "source": [
    "dog_check(\"Dog ran away\")"
   ]
  },
  {
   "cell_type": "code",
   "execution_count": 164,
   "metadata": {},
   "outputs": [],
   "source": [
    "# More efficient\n",
    "def dog_check(mystring):\n",
    "    return 'dog' in mystring.lower()"
   ]
  },
  {
   "cell_type": "markdown",
   "metadata": {},
   "source": [
    "`*args` are called star arguments and `**kwargs` are star keyword arguments. These are used when we have an arbitrary number of positional arguments. "
   ]
  },
  {
   "cell_type": "code",
   "execution_count": 165,
   "metadata": {},
   "outputs": [],
   "source": [
    "def myfunc(*args):\n",
    "    # We can treat above as a tuple of parameters as input\n",
    "    return sum(args) * 0.05"
   ]
  },
  {
   "cell_type": "code",
   "execution_count": 166,
   "metadata": {},
   "outputs": [
    {
     "data": {
      "text/plain": [
       "9.0"
      ]
     },
     "execution_count": 166,
     "metadata": {},
     "output_type": "execute_result"
    }
   ],
   "source": [
    "myfunc(40, 60, 100, -20)"
   ]
  },
  {
   "cell_type": "code",
   "execution_count": 168,
   "metadata": {},
   "outputs": [],
   "source": [
    "def myfunc(*args):\n",
    "    for item in args:\n",
    "        print(item)"
   ]
  },
  {
   "cell_type": "code",
   "execution_count": 169,
   "metadata": {},
   "outputs": [
    {
     "name": "stdout",
     "output_type": "stream",
     "text": [
      "40\n",
      "60\n",
      "100\n"
     ]
    }
   ],
   "source": [
    "myfunc(40, 60, 100)"
   ]
  },
  {
   "cell_type": "code",
   "execution_count": 172,
   "metadata": {},
   "outputs": [],
   "source": [
    "def myfunk( *args, **kwargs):\n",
    "    print('I would like {} {}'.format(args[0], kwargs['food']))"
   ]
  },
  {
   "cell_type": "code",
   "execution_count": 174,
   "metadata": {},
   "outputs": [
    {
     "name": "stdout",
     "output_type": "stream",
     "text": [
      "I would like 10 eggs\n"
     ]
    }
   ],
   "source": [
    "myfunk(10, 10, 30, fruit = 'orange', food = 'eggs', animal = 'dog')"
   ]
  },
  {
   "cell_type": "markdown",
   "metadata": {},
   "source": [
    "In the example below, we want to add the integers of a list. Let's look at 4 different implementations. "
   ]
  },
  {
   "cell_type": "code",
   "execution_count": 175,
   "metadata": {},
   "outputs": [],
   "source": [
    "# First way uses a while loop\n",
    "def add_list1(l):\n",
    "    suml = 0\n",
    "    list_length = len(l)\n",
    "    i = 0\n",
    "    while(i < list_length):\n",
    "        suml += l[i]\n",
    "        i += 1\n",
    "    return sum1"
   ]
  },
  {
   "cell_type": "code",
   "execution_count": 176,
   "metadata": {},
   "outputs": [],
   "source": [
    "# Second way uses for loop\n",
    "def add_list2(l):\n",
    "    sum2 = 0\n",
    "    for i in range(len(l)):\n",
    "        sum2 += l[i]\n",
    "    return sum2"
   ]
  },
  {
   "cell_type": "code",
   "execution_count": 177,
   "metadata": {},
   "outputs": [],
   "source": [
    "# A more direct, better approach\n",
    "def add_list3(l):\n",
    "    sum3 = 0\n",
    "    for v in l:\n",
    "        sum3 += v\n",
    "    return sum3"
   ]
  },
  {
   "cell_type": "code",
   "execution_count": 178,
   "metadata": {},
   "outputs": [],
   "source": [
    "# Use built-in functions\n",
    "def add_list4(l):\n",
    "    return sum(l)"
   ]
  },
  {
   "cell_type": "markdown",
   "metadata": {},
   "source": [
    "In the example below we want to normalize a vector, $\\mathbf{v}$, such that $\\hat{\\mathbf{v}}=\\frac{\\mathbf{v}}{||\\mathbf{v}||}$. Let's show a couple of different implementations.  "
   ]
  },
  {
   "cell_type": "code",
   "execution_count": 179,
   "metadata": {},
   "outputs": [],
   "source": [
    "def normalize3(v):\n",
    "    return [v[0]/math.sqrt(v[0]**2+v[1]**2+v[2]**2),\n",
    "            v[1]/math.sqrt(v[0]**2+v[1]**2+v[2]**2),\n",
    "            v[2]/math.sqrt(v[0]**2+v[1]**2+v[2]**2)]"
   ]
  },
  {
   "cell_type": "markdown",
   "metadata": {},
   "source": [
    "The problem with the implementation above is that it's not very efficient since we are recalculating the denominator. "
   ]
  },
  {
   "cell_type": "code",
   "execution_count": 180,
   "metadata": {},
   "outputs": [],
   "source": [
    "# Let's save the denominator in it's own variable\n",
    "def normalize3(v):\n",
    "    magv = math.sqrt(v[0]**2+v[1]**2+v[2]**2)\n",
    "    return [v[0]/magv, v[1]/magv, v[2]/magv]"
   ]
  },
  {
   "cell_type": "markdown",
   "metadata": {},
   "source": [
    "The problem with the above implementation is the repeated pattern of dividing each element by $\\textsf{magv}$. Let's put the computation of the magnitude in it's own procedure. "
   ]
  },
  {
   "cell_type": "code",
   "execution_count": 181,
   "metadata": {},
   "outputs": [],
   "source": [
    "# Let's put magnitude in it's own procedure\n",
    "def mag(v):\n",
    "    return math.sqrt(sum([vi**2 for vi in v]))\n",
    "\n",
    "def normalize3(v):\n",
    "    return [v1/mag(v) for vi in v]"
   ]
  },
  {
   "cell_type": "markdown",
   "metadata": {},
   "source": [
    "The above implementation is nice because we can use it for a vector of arbitrary length. Our problem of repeated calculation of $\\textsf{mag(v)}$ has come back. Let's remedy this by assigning $\\textsf{mag(v)}$ to a variable. "
   ]
  },
  {
   "cell_type": "code",
   "execution_count": 184,
   "metadata": {},
   "outputs": [],
   "source": [
    "def mag(v):\n",
    "    return math.sqrt(sum([vi**2 for vi in v]))\n",
    "\n",
    "def normalize3(v):\n",
    "    # Here mag(v) calculation is assigned to mag_v variable\n",
    "    mag_v = mag(v)\n",
    "    return [vi/mag_v for vi in v]"
   ]
  },
  {
   "cell_type": "markdown",
   "metadata": {},
   "source": [
    "The implementation above it the best version. Here are some general tips on Python style:\n",
    "1. Avoid recalculation of the same value\n",
    "2. Avoid repetition of a pattern of computation. \n",
    "3. Avoid numeric indexing. \n",
    "4. Avoid excessive numeric constants. "
   ]
  },
  {
   "cell_type": "markdown",
   "metadata": {},
   "source": [
    "### a) Parameter passing and Return Values\n",
    "\n",
    "When an immutable object like a tuple is passed as a parameter to a function then the original object is not changed (pass by value). If a mutable object was passed like a list then the original object  changes (pass by reference). Let's look at an example.\n"
   ]
  },
  {
   "cell_type": "code",
   "execution_count": 15,
   "metadata": {},
   "outputs": [
    {
     "data": {
      "text/plain": [
       "[1, 4, 9, 16, 25]"
      ]
     },
     "execution_count": 15,
     "metadata": {},
     "output_type": "execute_result"
    }
   ],
   "source": [
    "a = [1, 2, 3, 4, 5]\n",
    "def square(items):\n",
    "    for i, x in enumerate(items):\n",
    "        items[i] = x * x # Modifies the items in-place\n",
    "square(a)\n",
    "a"
   ]
  },
  {
   "cell_type": "markdown",
   "metadata": {},
   "source": [
    "This is called a side-effect and can be avoided. For mulitthreaded/concurrent programming this should especially be avoided with locks. Here is a deeper discussion https://stackoverflow.com/questions/20569142/is-there-any-way-to-prevent-side-effects-in-python. "
   ]
  },
  {
   "cell_type": "markdown",
   "metadata": {},
   "source": [
    "The `return` statement returns a value from a function. If no value is specified or you omit the `return` statement, the `None` object is returned. We can return multiple values by placing in a tuple. "
   ]
  },
  {
   "cell_type": "code",
   "execution_count": 18,
   "metadata": {},
   "outputs": [
    {
     "data": {
      "text/plain": [
       "(617.0, 2)"
      ]
     },
     "execution_count": 18,
     "metadata": {},
     "output_type": "execute_result"
    }
   ],
   "source": [
    "def factor(a):\n",
    "    d = 2\n",
    "    while (d <= (a / 2)):\n",
    "        if ((a / d) * d == a):\n",
    "            return ((a / d), d)\n",
    "        d = d + 1\n",
    "    return (a, 1)\n",
    "x, y = factor(1234) # Return values placed in x, y\n",
    "x, y    "
   ]
  },
  {
   "cell_type": "markdown",
   "metadata": {},
   "source": [
    "### b) Function scoping rules\n",
    "\n",
    "Each time a function executes a local namespace is created which rerpresents the local environement that contains the names of the local parameters and the names of the local variables that are assigned to the function inside the body. When resolving names, the interpreter first looks in the local namespace, and if no name exists, then it will search in the global namespace. It make a final check in the built-in namespace. If this still doesn't work then a `NameError` is raised. \n",
    "\n",
    "One peculiarity in Python with global variables is below"
   ]
  },
  {
   "cell_type": "code",
   "execution_count": 186,
   "metadata": {},
   "outputs": [
    {
     "data": {
      "text/plain": [
       "42"
      ]
     },
     "execution_count": 186,
     "metadata": {},
     "output_type": "execute_result"
    }
   ],
   "source": [
    "# This will return 42\n",
    "a = 42 \n",
    "def foo():\n",
    "    a = 13\n",
    "foo()\n",
    "a"
   ]
  },
  {
   "cell_type": "markdown",
   "metadata": {},
   "source": [
    "Note, that the variables inside a function are bound to the local namespace and as a result $\\texttt{a}$ in the function body refers to an entirely new object. To alter this behavior we must use `global` statement. This delclares the name belongs to the global namespace. "
   ]
  },
  {
   "cell_type": "code",
   "execution_count": 187,
   "metadata": {},
   "outputs": [
    {
     "data": {
      "text/plain": [
       "13"
      ]
     },
     "execution_count": 187,
     "metadata": {},
     "output_type": "execute_result"
    }
   ],
   "source": [
    "# This will return 13\n",
    "a = 42 \n",
    "def foo():\n",
    "    global a\n",
    "    a = 13\n",
    "foo()\n",
    "a"
   ]
  },
  {
   "cell_type": "markdown",
   "metadata": {},
   "source": [
    "Variable that are nested are bound using *lexical scoping*. That is, names are resolved  by first checking the local scope and then all enclosing scopes of the outer function definitions from innermost to outermost scope. If no match is found then the global and built-in namespaces are checked as before. We can reassign variables in the inner scope with value of the local variable defined in the outer function using `nonlocal`. Let's show an example.   "
   ]
  },
  {
   "cell_type": "code",
   "execution_count": 188,
   "metadata": {},
   "outputs": [],
   "source": [
    "def countdown(start):\n",
    "    n = start\n",
    "    def display():\n",
    "        print('T-minus %d' % n)\n",
    "    def decrement():\n",
    "        nonlocal n # Bind to outer n \n",
    "        n -= 1\n",
    "    while n > 0:\n",
    "        display()\n",
    "        decrement()"
   ]
  },
  {
   "cell_type": "code",
   "execution_count": 189,
   "metadata": {},
   "outputs": [
    {
     "name": "stdout",
     "output_type": "stream",
     "text": [
      "T-minus 5\n",
      "T-minus 4\n",
      "T-minus 3\n",
      "T-minus 2\n",
      "T-minus 1\n"
     ]
    }
   ],
   "source": [
    "countdown(5)"
   ]
  },
  {
   "cell_type": "markdown",
   "metadata": {},
   "source": [
    "The $\\textsf{nonlocal}$ declaration does not bind a name to local variables defined inside functions further down on the current call-stack. "
   ]
  },
  {
   "cell_type": "code",
   "execution_count": 191,
   "metadata": {},
   "outputs": [
    {
     "ename": "UnboundLocalError",
     "evalue": "local variable 'i' referenced before assignment",
     "output_type": "error",
     "traceback": [
      "\u001b[0;31m---------------------------------------------------------------------------\u001b[0m",
      "\u001b[0;31mUnboundLocalError\u001b[0m                         Traceback (most recent call last)",
      "\u001b[0;32m<ipython-input-191-1990eeddf4bf>\u001b[0m in \u001b[0;36m<module>\u001b[0;34m()\u001b[0m\n\u001b[1;32m      4\u001b[0m     \u001b[0mi\u001b[0m \u001b[0;34m=\u001b[0m \u001b[0mi\u001b[0m \u001b[0;34m+\u001b[0m \u001b[0;36m1\u001b[0m\u001b[0;34m\u001b[0m\u001b[0m\n\u001b[1;32m      5\u001b[0m     \u001b[0mprint\u001b[0m\u001b[0;34m(\u001b[0m\u001b[0mi\u001b[0m\u001b[0;34m)\u001b[0m\u001b[0;34m\u001b[0m\u001b[0m\n\u001b[0;32m----> 6\u001b[0;31m \u001b[0mfoo\u001b[0m\u001b[0;34m(\u001b[0m\u001b[0;34m)\u001b[0m\u001b[0;34m\u001b[0m\u001b[0m\n\u001b[0m",
      "\u001b[0;32m<ipython-input-191-1990eeddf4bf>\u001b[0m in \u001b[0;36mfoo\u001b[0;34m()\u001b[0m\n\u001b[1;32m      2\u001b[0m \u001b[0mi\u001b[0m \u001b[0;34m=\u001b[0m \u001b[0;36m0\u001b[0m\u001b[0;34m\u001b[0m\u001b[0m\n\u001b[1;32m      3\u001b[0m \u001b[0;32mdef\u001b[0m \u001b[0mfoo\u001b[0m\u001b[0;34m(\u001b[0m\u001b[0;34m)\u001b[0m\u001b[0;34m:\u001b[0m\u001b[0;34m\u001b[0m\u001b[0m\n\u001b[0;32m----> 4\u001b[0;31m     \u001b[0mi\u001b[0m \u001b[0;34m=\u001b[0m \u001b[0mi\u001b[0m \u001b[0;34m+\u001b[0m \u001b[0;36m1\u001b[0m\u001b[0;34m\u001b[0m\u001b[0m\n\u001b[0m\u001b[1;32m      5\u001b[0m     \u001b[0mprint\u001b[0m\u001b[0;34m(\u001b[0m\u001b[0mi\u001b[0m\u001b[0;34m)\u001b[0m\u001b[0;34m\u001b[0m\u001b[0m\n\u001b[1;32m      6\u001b[0m \u001b[0mfoo\u001b[0m\u001b[0;34m(\u001b[0m\u001b[0;34m)\u001b[0m\u001b[0;34m\u001b[0m\u001b[0m\n",
      "\u001b[0;31mUnboundLocalError\u001b[0m: local variable 'i' referenced before assignment"
     ]
    }
   ],
   "source": [
    "# This will result in a error\n",
    "i = 0\n",
    "def foo():\n",
    "    i = i + 1\n",
    "    print(i)\n",
    "foo()"
   ]
  },
  {
   "cell_type": "markdown",
   "metadata": {},
   "source": [
    "### c) Functions return functions"
   ]
  },
  {
   "cell_type": "code",
   "execution_count": 28,
   "metadata": {},
   "outputs": [],
   "source": [
    "def cool():\n",
    "    def super_cool():\n",
    "        return \"Python is very cool!\"\n",
    "    return super_cool"
   ]
  },
  {
   "cell_type": "code",
   "execution_count": 29,
   "metadata": {},
   "outputs": [],
   "source": [
    "some_func = cool()"
   ]
  },
  {
   "cell_type": "code",
   "execution_count": 30,
   "metadata": {},
   "outputs": [
    {
     "data": {
      "text/plain": [
       "<function __main__.cool.<locals>.super_cool()>"
      ]
     },
     "execution_count": 30,
     "metadata": {},
     "output_type": "execute_result"
    }
   ],
   "source": [
    "# Here some_func points to super_cool()\n",
    "some_func"
   ]
  },
  {
   "cell_type": "code",
   "execution_count": 31,
   "metadata": {},
   "outputs": [
    {
     "data": {
      "text/plain": [
       "'Python is very cool!'"
      ]
     },
     "execution_count": 31,
     "metadata": {},
     "output_type": "execute_result"
    }
   ],
   "source": [
    "some_func()"
   ]
  },
  {
   "cell_type": "markdown",
   "metadata": {},
   "source": [
    "### d) Function closures\n",
    "Functions are objects in Python and can be passed as arguments to other functions."
   ]
  },
  {
   "cell_type": "code",
   "execution_count": null,
   "metadata": {},
   "outputs": [],
   "source": [
    "# We have defined foo.py in another file but the definition is below.\n",
    "# x = 42\n",
    "# def callf(func):\n",
    "#     return func()"
   ]
  },
  {
   "cell_type": "code",
   "execution_count": 1,
   "metadata": {},
   "outputs": [
    {
     "data": {
      "text/plain": [
       "'Hello World. x is 37'"
      ]
     },
     "execution_count": 1,
     "metadata": {},
     "output_type": "execute_result"
    }
   ],
   "source": [
    "import foo\n",
    "x = 37\n",
    "def helloworld():\n",
    "    return \"Hello World. x is %d\" % x\n",
    "foo.callf(helloworld)"
   ]
  },
  {
   "cell_type": "markdown",
   "metadata": {},
   "source": [
    "Here we see that $\\textsf{helloworld()}$ uses the value of $\\textsf{x}$ that's defined in the same environment. When the statements that make up a function are packaged together with the environment in which they execute, the resulting object is called a *closure*. \n",
    "All functions have a `__globals__` attribute that points to the global namespace in which the function was defined. This is always the enclosing module in which a function was defined. We can use this on nested functions as well, closure capture the entire environment needed for the inner function to execute. "
   ]
  },
  {
   "cell_type": "code",
   "execution_count": 4,
   "metadata": {},
   "outputs": [],
   "source": [
    "import foo\n",
    "def bar():\n",
    "    x = 13\n",
    "    def helloworld():\n",
    "        return \"Hello World. x is %d\" % x\n",
    "    foo.callf(helloworld) # returns 'Hello World, x is 13'"
   ]
  },
  {
   "cell_type": "markdown",
   "metadata": {},
   "source": [
    "Finally, closures can be used to preserve state across a series of function calls. This can be very efficient over using classes.\n",
    "More information can be found here: https://stackoverflow.com/questions/8966785/function-closure-vs-callable-class"
   ]
  },
  {
   "cell_type": "markdown",
   "metadata": {},
   "source": [
    "### e) More built-in functions"
   ]
  },
  {
   "cell_type": "markdown",
   "metadata": {},
   "source": [
    "#### map(function, items, ...)\n",
    "Applies `function` to every item of `items` and return a map generator. Note, here `items` is something like a list."
   ]
  },
  {
   "cell_type": "code",
   "execution_count": 3,
   "metadata": {},
   "outputs": [],
   "source": [
    "def square(num): return num**2"
   ]
  },
  {
   "cell_type": "code",
   "execution_count": 5,
   "metadata": {},
   "outputs": [
    {
     "data": {
      "text/plain": [
       "<map at 0x1087456a0>"
      ]
     },
     "execution_count": 5,
     "metadata": {},
     "output_type": "execute_result"
    }
   ],
   "source": [
    "my_nums = [1, 2, 3, 4, 5]\n",
    "# Returnz a map generator\n",
    "map(square, my_nums)"
   ]
  },
  {
   "cell_type": "code",
   "execution_count": 6,
   "metadata": {},
   "outputs": [
    {
     "data": {
      "text/plain": [
       "[1, 4, 9, 16, 25]"
      ]
     },
     "execution_count": 6,
     "metadata": {},
     "output_type": "execute_result"
    }
   ],
   "source": [
    "# Let's turn the map generator to a list type\n",
    "list(map(square, my_nums))"
   ]
  },
  {
   "cell_type": "code",
   "execution_count": 7,
   "metadata": {},
   "outputs": [
    {
     "name": "stdout",
     "output_type": "stream",
     "text": [
      "1\n",
      "4\n",
      "9\n",
      "16\n",
      "25\n"
     ]
    }
   ],
   "source": [
    "# Let's use this map generator in a for loop \n",
    "for item in map(square, my_nums):\n",
    "    print(item)"
   ]
  },
  {
   "cell_type": "markdown",
   "metadata": {},
   "source": [
    "In the above example we are passing in only the name of $\\textsf{square}$ not $\\textsf{square}()$, which actually executes the function. "
   ]
  },
  {
   "cell_type": "markdown",
   "metadata": {},
   "source": [
    "#### filter(function, iterable)\n",
    "This creates a list of objects from `iterable` for which the `function` evaluates to true.  "
   ]
  },
  {
   "cell_type": "code",
   "execution_count": 10,
   "metadata": {},
   "outputs": [
    {
     "name": "stdout",
     "output_type": "stream",
     "text": [
      "2\n",
      "4\n"
     ]
    }
   ],
   "source": [
    "def check_even(num):\n",
    "    return num % 2 == 0\n",
    "\n",
    "for m in filter(check_even, my_nums):\n",
    "    print(m)"
   ]
  },
  {
   "cell_type": "markdown",
   "metadata": {},
   "source": [
    "### f) Lambda functions\n",
    "\n",
    "Lambda functions are a way of creating functions without a name: \n",
    "\n",
    "$\\textsf{lambda}\\hspace{0.1cm}\\textit{args}\\hspace{0.1cm}:\\hspace{0.1cm}\\textit{expression}$"
   ]
  },
  {
   "cell_type": "code",
   "execution_count": 1,
   "metadata": {},
   "outputs": [],
   "source": [
    "# Usual way\n",
    "def square(num): return num**2"
   ]
  },
  {
   "cell_type": "code",
   "execution_count": 2,
   "metadata": {},
   "outputs": [
    {
     "data": {
      "text/plain": [
       "<function __main__.<lambda>(num)>"
      ]
     },
     "execution_count": 2,
     "metadata": {},
     "output_type": "execute_result"
    }
   ],
   "source": [
    "# Use lambda keyword\n",
    "lambda num: num**2"
   ]
  },
  {
   "cell_type": "code",
   "execution_count": 12,
   "metadata": {},
   "outputs": [
    {
     "data": {
      "text/plain": [
       "[1, 4, 9, 16, 25]"
      ]
     },
     "execution_count": 12,
     "metadata": {},
     "output_type": "execute_result"
    }
   ],
   "source": [
    "list(map(lambda num: num**2, my_nums))"
   ]
  },
  {
   "cell_type": "code",
   "execution_count": 14,
   "metadata": {},
   "outputs": [
    {
     "data": {
      "text/plain": [
       "[2, 4]"
      ]
     },
     "execution_count": 14,
     "metadata": {},
     "output_type": "execute_result"
    }
   ],
   "source": [
    "list(filter(lambda num: num % 2==0, my_nums))"
   ]
  },
  {
   "cell_type": "markdown",
   "metadata": {},
   "source": [
    "The primary use of `lambda` is in specifying short callback functions. For example, if you want to sort a list of names with case-insensitivity you can do the following "
   ]
  },
  {
   "cell_type": "code",
   "execution_count": 24,
   "metadata": {},
   "outputs": [
    {
     "data": {
      "text/plain": [
       "['Adams', 'Jefferson', 'Madison', 'Washington']"
      ]
     },
     "execution_count": 24,
     "metadata": {},
     "output_type": "execute_result"
    }
   ],
   "source": [
    "names = ['Washington', 'Adams', 'Jefferson', 'Madison']\n",
    "names.sort(key=lambda n: n.lower())\n",
    "names"
   ]
  },
  {
   "cell_type": "markdown",
   "metadata": {},
   "source": [
    "#### g) Generators and `yield`\n",
    "\n",
    "If a function uses the `yield` keyword, it defines an object known as a *generator*. A generator is a function that produces a sequence of values for use in iteration. Generally, generators are more memory efficient. "
   ]
  },
  {
   "cell_type": "code",
   "execution_count": 32,
   "metadata": {},
   "outputs": [],
   "source": [
    "def countdown(n):\n",
    "    print(\"Counting down from %d\" % n)\n",
    "    while n > 0:\n",
    "        yield n \n",
    "        n -= 1\n",
    "    return # Generators can only return None"
   ]
  },
  {
   "cell_type": "markdown",
   "metadata": {},
   "source": [
    "If we call this function, none of the code begins executing and instead a generator object is returned. "
   ]
  },
  {
   "cell_type": "code",
   "execution_count": 34,
   "metadata": {},
   "outputs": [
    {
     "data": {
      "text/plain": [
       "<generator object countdown at 0x1087ad620>"
      ]
     },
     "execution_count": 34,
     "metadata": {},
     "output_type": "execute_result"
    }
   ],
   "source": [
    "c = countdown(10)\n",
    "c"
   ]
  },
  {
   "cell_type": "markdown",
   "metadata": {},
   "source": [
    "The generator object executes the function whenever the built-in Python function `__next__()` is used. "
   ]
  },
  {
   "cell_type": "code",
   "execution_count": 36,
   "metadata": {},
   "outputs": [
    {
     "name": "stdout",
     "output_type": "stream",
     "text": [
      "Counting down from 10\n"
     ]
    },
    {
     "data": {
      "text/plain": [
       "10"
      ]
     },
     "execution_count": 36,
     "metadata": {},
     "output_type": "execute_result"
    }
   ],
   "source": [
    "c.__next__()"
   ]
  },
  {
   "cell_type": "code",
   "execution_count": 37,
   "metadata": {},
   "outputs": [
    {
     "data": {
      "text/plain": [
       "9"
      ]
     },
     "execution_count": 37,
     "metadata": {},
     "output_type": "execute_result"
    }
   ],
   "source": [
    "c.__next__()"
   ]
  },
  {
   "cell_type": "markdown",
   "metadata": {},
   "source": [
    "When `__next__()` is invoked the generator function executes statements until it reaches a `yield` statement. The `yield` statement produces a result at which point execution of the function stops until `__next__()` is invoked again. Execution then resumes with the statements following `yield`. \n",
    "\n",
    "Normally, we don't call `__next__()` directly on a generator but use it with the `for` loop, `sum()`, etc until it is consumed. "
   ]
  },
  {
   "cell_type": "code",
   "execution_count": 38,
   "metadata": {},
   "outputs": [
    {
     "name": "stdout",
     "output_type": "stream",
     "text": [
      "Counting down from 10\n",
      "10\n",
      "9\n",
      "8\n",
      "7\n",
      "6\n",
      "5\n",
      "4\n",
      "3\n",
      "2\n",
      "1\n"
     ]
    }
   ],
   "source": [
    "for n in countdown(10):\n",
    "    print(n)"
   ]
  },
  {
   "cell_type": "code",
   "execution_count": 40,
   "metadata": {},
   "outputs": [
    {
     "name": "stdout",
     "output_type": "stream",
     "text": [
      "Counting down from 10\n"
     ]
    },
    {
     "data": {
      "text/plain": [
       "55"
      ]
     },
     "execution_count": 40,
     "metadata": {},
     "output_type": "execute_result"
    }
   ],
   "source": [
    "a = sum(countdown(10))\n",
    "a"
   ]
  },
  {
   "cell_type": "markdown",
   "metadata": {},
   "source": [
    "A generator signals completion by returning or raising `StopIteration`, at which point the iteration stops. It is never legal for a generator to return a value other than `None` on completion. "
   ]
  },
  {
   "cell_type": "code",
   "execution_count": 46,
   "metadata": {},
   "outputs": [],
   "source": [
    "# Usual way\n",
    "def gen_fibon(n):\n",
    "    f1 = 1 \n",
    "    f2 = 1\n",
    "    output = []\n",
    "    for i in range(n):\n",
    "        output.append(f1)\n",
    "        f1, f2 = f2, f1 + f2\n",
    "    return output   "
   ]
  },
  {
   "cell_type": "code",
   "execution_count": 47,
   "metadata": {},
   "outputs": [
    {
     "name": "stdout",
     "output_type": "stream",
     "text": [
      "1\n",
      "1\n",
      "2\n",
      "3\n",
      "5\n",
      "8\n",
      "13\n",
      "21\n",
      "34\n",
      "55\n"
     ]
    }
   ],
   "source": [
    "# Using yield\n",
    "def gen_fibon(n):\n",
    "    f1 = 1 \n",
    "    f2 = 1\n",
    "    for i in range(n):\n",
    "        yield f1\n",
    "        f1, f2 = f2, f1 + f2\n",
    "        \n",
    "for m in gen_fibon(10):\n",
    "    print(m)"
   ]
  },
  {
   "cell_type": "markdown",
   "metadata": {},
   "source": [
    "A iterator is any object whose class has a `__next__` method and `__iter__` method that returns itself. Every generator is a iterator but not vice versa.  "
   ]
  },
  {
   "cell_type": "markdown",
   "metadata": {},
   "source": [
    "### h) Generator expressions\n",
    "Is similar to a list comprehension but iteratively produces the result. The syntax is the same as for list comprehensions but use parenthesis. Instead of a list it creates a generator. "
   ]
  },
  {
   "cell_type": "code",
   "execution_count": 48,
   "metadata": {},
   "outputs": [
    {
     "data": {
      "text/plain": [
       "<generator object <genexpr> at 0x1087e17d8>"
      ]
     },
     "execution_count": 48,
     "metadata": {},
     "output_type": "execute_result"
    }
   ],
   "source": [
    "a = [1, 2, 3, 4]\n",
    "b = (10*i for i in a )\n",
    "b"
   ]
  },
  {
   "cell_type": "code",
   "execution_count": 49,
   "metadata": {},
   "outputs": [
    {
     "data": {
      "text/plain": [
       "10"
      ]
     },
     "execution_count": 49,
     "metadata": {},
     "output_type": "execute_result"
    }
   ],
   "source": [
    "b.__next__()"
   ]
  },
  {
   "cell_type": "markdown",
   "metadata": {},
   "source": [
    "The difference between list comprehension and generator expressions is that list comps create a list containing all the data while generator expr creates a generator that know how to produce data n demand. This can greatly improve efficiency and memory usage for reading in large files. Also, generator exp do not create an object that works like a sequence but can be converted to a list type. "
   ]
  },
  {
   "cell_type": "markdown",
   "metadata": {},
   "source": [
    "### i) Decorators \n",
    "A *decorator* is a function whose  primary purpose is to wrap another function or class. The purpose is to transparently alter or enhance the behavior of the object being wrapped. Syntatically, decorators are denoted with `@`. "
   ]
  },
  {
   "cell_type": "code",
   "execution_count": null,
   "metadata": {},
   "outputs": [],
   "source": [
    "@trace\n",
    "def square(x):\n",
    "    return x*x\n",
    "\n",
    "# Above is shorthand for the following code\n",
    "def square(x):\n",
    "    return x*x\n",
    "square = trace(square)"
   ]
  },
  {
   "cell_type": "code",
   "execution_count": 56,
   "metadata": {},
   "outputs": [],
   "source": [
    "def new_decorator(original_func):\n",
    "    # This function is the extra functionality you want to decorate\n",
    "    # new_decorator() with\n",
    "    def wrap_func():\n",
    "        print('Some extra code, before the original func.')\n",
    "        original_func()\n",
    "        print('Some extra code, after the original func.')\n",
    "    # We're returning the wrap_func, you can think of this\n",
    "    # as wrapping or decorating a present where the present\n",
    "    # is original_func above and below it\n",
    "    return wrap_func"
   ]
  },
  {
   "cell_type": "code",
   "execution_count": 57,
   "metadata": {},
   "outputs": [
    {
     "name": "stdout",
     "output_type": "stream",
     "text": [
      "I want to be decorated!\n"
     ]
    }
   ],
   "source": [
    "def func_needs_decorator():\n",
    "    print('I want to be decorated!')\n",
    "func_needs_decorator()"
   ]
  },
  {
   "cell_type": "code",
   "execution_count": 58,
   "metadata": {},
   "outputs": [
    {
     "name": "stdout",
     "output_type": "stream",
     "text": [
      "Some extra code, before the original func.\n",
      "I want to be decorated!\n",
      "Some extra code, after the original func.\n"
     ]
    }
   ],
   "source": [
    "decorated_func = new_decorator(func_needs_decorator)\n",
    "decorated_func()"
   ]
  },
  {
   "cell_type": "markdown",
   "metadata": {},
   "source": [
    "Let's use the decorator special syntax `@` to create the $\\textsf{new_decorator}$ instead of assigning it like before. "
   ]
  },
  {
   "cell_type": "code",
   "execution_count": 60,
   "metadata": {},
   "outputs": [
    {
     "name": "stdout",
     "output_type": "stream",
     "text": [
      "Some extra code, before the original func.\n",
      "I want to be decorated!\n",
      "Some extra code, after the original func.\n"
     ]
    }
   ],
   "source": [
    "@new_decorator\n",
    "def func_needs_decorator():\n",
    "    print('I want to be decorated!')\n",
    "func_needs_decorator()"
   ]
  },
  {
   "cell_type": "markdown",
   "metadata": {},
   "source": [
    "### j) Exception Handling and Errors"
   ]
  },
  {
   "cell_type": "markdown",
   "metadata": {},
   "source": [
    "We can use the keyword `try`, `except`, and `finally` for exception handling. \n",
    "\n",
    "`try`: block of code to be attempted (can lead to an error).\n",
    "\n",
    "`except`: block of code that will execute in the case of an error in the `try` block.\n",
    "\n",
    "`finally`: final block to be executed, regardless of error "
   ]
  },
  {
   "cell_type": "code",
   "execution_count": 109,
   "metadata": {},
   "outputs": [],
   "source": [
    "# Let's use a while loop to check for error\n",
    "def ask_for_int():\n",
    "    \n",
    "    while True: \n",
    "        \n",
    "        try:\n",
    "            result = int(input(\"Please provide number.\"))\n",
    "        \n",
    "        except:\n",
    "            print(\"Whoops! That's not a number.\")\n",
    "            continue # will continue to next block of code\n",
    "        \n",
    "        # below block will run only if try doesn't result in error\n",
    "        else:\n",
    "            print('Thank you!')\n",
    "            break # break out of while loop\n",
    "        \n",
    "        # below block can be left out but will always run\n",
    "        finally:\n",
    "            print(\"I will always run!\")"
   ]
  },
  {
   "cell_type": "code",
   "execution_count": 113,
   "metadata": {},
   "outputs": [
    {
     "name": "stdout",
     "output_type": "stream",
     "text": [
      "Found an even number 2\n",
      "ODD number 3\n",
      "Found an even number 4\n",
      "ODD number 5\n",
      "Found an even number 6\n",
      "ODD number 7\n",
      "Found an even number 8\n",
      "ODD number 9\n"
     ]
    }
   ],
   "source": [
    "for num in range(2, 10):\n",
    "    if num % 2 == 0:\n",
    "        print(\"Found an even number\", num)\n",
    "        continue\n",
    "        print(\"Odd number\", num)\n",
    "    print(\"ODD number\", num)"
   ]
  },
  {
   "cell_type": "code",
   "execution_count": null,
   "metadata": {},
   "outputs": [],
   "source": []
  },
  {
   "cell_type": "code",
   "execution_count": 104,
   "metadata": {},
   "outputs": [
    {
     "name": "stdout",
     "output_type": "stream",
     "text": [
      "Please provide number.10\n",
      "Thank you!\n",
      "I will always run!\n"
     ]
    }
   ],
   "source": [
    "ask_for_int()"
   ]
  },
  {
   "cell_type": "code",
   "execution_count": 105,
   "metadata": {},
   "outputs": [
    {
     "name": "stdout",
     "output_type": "stream",
     "text": [
      "Please provide number.a\n",
      "Whoops! That's not a number.\n",
      "I will always run!\n",
      "Please provide number.b\n",
      "Whoops! That's not a number.\n",
      "I will always run!\n",
      "Please provide number.1\n",
      "Thank you!\n",
      "I will always run!\n"
     ]
    }
   ],
   "source": [
    "ask_for_int()"
   ]
  },
  {
   "cell_type": "code",
   "execution_count": 110,
   "metadata": {},
   "outputs": [
    {
     "name": "stdout",
     "output_type": "stream",
     "text": [
      "Please provide number.a\n",
      "Whoops! That's not a number.\n",
      "I will always run!\n",
      "Please provide number.a\n",
      "Whoops! That's not a number.\n",
      "I will always run!\n",
      "Please provide number.a\n",
      "Whoops! That's not a number.\n",
      "I will always run!\n",
      "Please provide number.5\n",
      "Thank you!\n",
      "I will always run!\n"
     ]
    }
   ],
   "source": [
    "ask_for_int()"
   ]
  },
  {
   "cell_type": "markdown",
   "metadata": {},
   "source": [
    "## 4. Object oriented programming in Python"
   ]
  },
  {
   "cell_type": "markdown",
   "metadata": {},
   "source": [
    "Object oriented programming (OOP) allows programmers to create their own objects that have methods and attributes. Let's first define a couple of commonly used terms in OOP.\n",
    "**Object**: an object consists of internal data and methods that perform various kinds of operations involving data. \n",
    "\n",
    "**Attributes**: are specific characteristics of an object. \n",
    "\n",
    "**Methods**: functions in a class that perform specific operations on an object. \n",
    "**Class**: is the definiton of the object, where the class name is usually in camelcase. \n",
    " \n",
    "**__init__**: is a method that creates an *instance* of the class. \n",
    " \n",
    "**param1, param2**: are parameters or calculations that are assigned to the attributes of the class. \n",
    " \n",
    "**self.param1**: `self` signals to Python you are referring to $\\textsf{param1}$ that is connected to that instance fo the class. \n",
    " \n",
    "Typical class definition is therefore:\n",
    "\n",
    "    class ClassName(): # No arguments, not inheriting from other class \n",
    "        def __init__(self, param1, param2):\n",
    "            self.param1 = param1 \n",
    "            self.param2 = param2\n",
    "    \n",
    "        def method_name(self):\n",
    "            # perform an action\n",
    "            print(self.param1)"
   ]
  },
  {
   "cell_type": "markdown",
   "metadata": {},
   "source": [
    "Below is an example of a class called *Dog*:"
   ]
  },
  {
   "cell_type": "code",
   "execution_count": 65,
   "metadata": {},
   "outputs": [],
   "source": [
    "class Dog():\n",
    "    \n",
    "    # class object attribute will be the same for any instance \n",
    "    species = 'mammal'\n",
    "    \n",
    "    # _init__ is constructor for the class called automatically\n",
    "    def __init__(self, breed, name):\n",
    "        # self is an instance of the object, most oop languages have\n",
    "        # this hidden\n",
    "        # attributes\n",
    "        self.breed = breed\n",
    "        self.name = name\n",
    "    \n",
    "    # methods, ops/actions\n",
    "    def bark(self, num):\n",
    "        # Need the self since name connected to object through self\n",
    "        print(\"Woof! My name is {} and number is {}\".format(self.name, num))"
   ]
  },
  {
   "cell_type": "code",
   "execution_count": 68,
   "metadata": {},
   "outputs": [
    {
     "data": {
      "text/plain": [
       "<__main__.Dog at 0x10880d080>"
      ]
     },
     "execution_count": 68,
     "metadata": {},
     "output_type": "execute_result"
    }
   ],
   "source": [
    "my_dog = Dog('French Mastiff', 'Hooch')\n",
    "my_dog"
   ]
  },
  {
   "cell_type": "code",
   "execution_count": 69,
   "metadata": {},
   "outputs": [
    {
     "data": {
      "text/plain": [
       "'French Mastiff'"
      ]
     },
     "execution_count": 69,
     "metadata": {},
     "output_type": "execute_result"
    }
   ],
   "source": [
    "# Attribute have nothin to execute and so we can access without\n",
    "# paranthesis\n",
    "my_dog.breed"
   ]
  },
  {
   "cell_type": "code",
   "execution_count": 70,
   "metadata": {},
   "outputs": [
    {
     "data": {
      "text/plain": [
       "'mammal'"
      ]
     },
     "execution_count": 70,
     "metadata": {},
     "output_type": "execute_result"
    }
   ],
   "source": [
    "# Class attirbute is similar to a 'callback'\n",
    "my_dog.species"
   ]
  },
  {
   "cell_type": "code",
   "execution_count": 71,
   "metadata": {},
   "outputs": [
    {
     "name": "stdout",
     "output_type": "stream",
     "text": [
      "Woof! My name is Hooch and number is 10\n"
     ]
    }
   ],
   "source": [
    "# Note, the method call requires a positional arg since 'num' is \n",
    "# not a attribute\n",
    "my_dog.bark(10)"
   ]
  },
  {
   "cell_type": "markdown",
   "metadata": {},
   "source": [
    "Let's look at another example $\\textsf{Circle}$"
   ]
  },
  {
   "cell_type": "code",
   "execution_count": 73,
   "metadata": {},
   "outputs": [],
   "source": [
    "class Circle():\n",
    "    \n",
    "    # class object attribute\n",
    "    pi = 3.14\n",
    "    \n",
    "    def __init__(self, radius=1):\n",
    "        self.radius = radius\n",
    "        self.area = self.pi*radius*radius # use self.pi to access\n",
    "    \n",
    "    def get_circumference(self):\n",
    "        return self.radius*self.pi*2"
   ]
  },
  {
   "cell_type": "code",
   "execution_count": 74,
   "metadata": {},
   "outputs": [
    {
     "data": {
      "text/plain": [
       "<__main__.Circle at 0x10880da20>"
      ]
     },
     "execution_count": 74,
     "metadata": {},
     "output_type": "execute_result"
    }
   ],
   "source": [
    "my_circle = Circle(30)\n",
    "my_circle"
   ]
  },
  {
   "cell_type": "code",
   "execution_count": 75,
   "metadata": {},
   "outputs": [
    {
     "data": {
      "text/plain": [
       "3.14"
      ]
     },
     "execution_count": 75,
     "metadata": {},
     "output_type": "execute_result"
    }
   ],
   "source": [
    "my_circle.pi"
   ]
  },
  {
   "cell_type": "code",
   "execution_count": 76,
   "metadata": {},
   "outputs": [
    {
     "data": {
      "text/plain": [
       "2826.0"
      ]
     },
     "execution_count": 76,
     "metadata": {},
     "output_type": "execute_result"
    }
   ],
   "source": [
    "my_circle.area"
   ]
  },
  {
   "cell_type": "code",
   "execution_count": 78,
   "metadata": {},
   "outputs": [
    {
     "data": {
      "text/plain": [
       "188.4"
      ]
     },
     "execution_count": 78,
     "metadata": {},
     "output_type": "execute_result"
    }
   ],
   "source": [
    "my_circle.get_circumference()"
   ]
  },
  {
   "cell_type": "markdown",
   "metadata": {},
   "source": [
    "### a ) Inheritance\n",
    "Is a way to form new classes from other classes"
   ]
  },
  {
   "cell_type": "code",
   "execution_count": 79,
   "metadata": {},
   "outputs": [],
   "source": [
    "# The base class\n",
    "class Animal():\n",
    "    \n",
    "    def __init__(self):\n",
    "        print(\"ANIMAL CREATED\")\n",
    "        \n",
    "    def who_am_i(self):\n",
    "        print(\"I am an animal\")\n",
    "        \n",
    "    def eat(self):\n",
    "        print(\"I am eating\")"
   ]
  },
  {
   "cell_type": "code",
   "execution_count": 80,
   "metadata": {},
   "outputs": [],
   "source": [
    "# This class inherits from the base class, also called the derived\n",
    "# class\n",
    "class Dog(Animal):\n",
    "    \n",
    "    def __init__(self):\n",
    "        # create an instance of the Animal class\n",
    "        Animal.__init__(self)\n",
    "        print('DOG CREATED')\n",
    "    \n",
    "    # Method eat below will update the methods frm the base clas\n",
    "    def eat(self):\n",
    "        print(\"I am eating and a dog\")\n",
    "        \n",
    "    def bark(self):\n",
    "        print(\"Woof!\")"
   ]
  },
  {
   "cell_type": "code",
   "execution_count": 81,
   "metadata": {},
   "outputs": [
    {
     "name": "stdout",
     "output_type": "stream",
     "text": [
      "ANIMAL CREATED\n",
      "DOG CREATED\n"
     ]
    }
   ],
   "source": [
    "my_dog = Dog()"
   ]
  },
  {
   "cell_type": "code",
   "execution_count": 83,
   "metadata": {},
   "outputs": [
    {
     "name": "stdout",
     "output_type": "stream",
     "text": [
      "I am an animal\n"
     ]
    }
   ],
   "source": [
    "my_dog.who_am_i()"
   ]
  },
  {
   "cell_type": "code",
   "execution_count": 84,
   "metadata": {},
   "outputs": [
    {
     "name": "stdout",
     "output_type": "stream",
     "text": [
      "I am eating and a dog\n"
     ]
    }
   ],
   "source": [
    "my_dog.eat()"
   ]
  },
  {
   "cell_type": "markdown",
   "metadata": {},
   "source": [
    "### c) Polymorphism\n",
    "Is the way in which different object classes share same method name. Can be called from same place eventhough different types of objects can be passes in. "
   ]
  },
  {
   "cell_type": "code",
   "execution_count": 90,
   "metadata": {},
   "outputs": [],
   "source": [
    "class Dog():\n",
    "    \n",
    "    def __init__(self, name):\n",
    "        self.name = name\n",
    "    \n",
    "    def speak(self):\n",
    "        return self.name + \" say woof!\"\n",
    "    \n",
    "class Cat():\n",
    "    \n",
    "    def __init__(self, name):\n",
    "        self.name = name\n",
    "        \n",
    "    def speak(self):\n",
    "        return self.name + \" say meow!\""
   ]
  },
  {
   "cell_type": "code",
   "execution_count": 91,
   "metadata": {},
   "outputs": [],
   "source": [
    "# Let's instantiate the objects\n",
    "hooch = Dog(\"hooch\")\n",
    "garfield = Cat(\"garfield\") "
   ]
  },
  {
   "cell_type": "code",
   "execution_count": 93,
   "metadata": {},
   "outputs": [
    {
     "name": "stdout",
     "output_type": "stream",
     "text": [
      "<class '__main__.Dog'>\n",
      "hooch say woof!\n",
      "<class '__main__.Cat'>\n",
      "garfield say meow!\n"
     ]
    }
   ],
   "source": [
    "# can use a for loop to iterate though each object data\n",
    "for pet in [hooch, garfield]:\n",
    "    print(type(pet))\n",
    "    print(pet.speak())"
   ]
  },
  {
   "cell_type": "code",
   "execution_count": 94,
   "metadata": {},
   "outputs": [
    {
     "name": "stdout",
     "output_type": "stream",
     "text": [
      "hooch say woof!\n"
     ]
    }
   ],
   "source": [
    "# can also use a method call\n",
    "def pet_speak(pet):\n",
    "    print(pet.speak())\n",
    "    \n",
    "pet_speak(hooch)"
   ]
  },
  {
   "cell_type": "markdown",
   "metadata": {},
   "source": [
    "Most of the time we use abstract classes, these classes are never instantiated and serve as base classes."
   ]
  },
  {
   "cell_type": "code",
   "execution_count": 96,
   "metadata": {},
   "outputs": [],
   "source": [
    "# Base class\n",
    "class Animal():\n",
    "    # constructor of the class\n",
    "    def __init__(self, name):\n",
    "        self.name = name\n",
    "        \n",
    "    # Animal is the base class so there is not need to instantiate\n",
    "    def speak(self):\n",
    "        # Raise error\n",
    "        raise NotImplementedError(\"Subclass must implement this abstract method\")\n",
    "        "
   ]
  },
  {
   "cell_type": "code",
   "execution_count": 97,
   "metadata": {},
   "outputs": [
    {
     "ename": "NotImplementedError",
     "evalue": "Subclass must implement this abstract method",
     "output_type": "error",
     "traceback": [
      "\u001b[0;31m---------------------------------------------------------------------------\u001b[0m",
      "\u001b[0;31mNotImplementedError\u001b[0m                       Traceback (most recent call last)",
      "\u001b[0;32m<ipython-input-97-2124fac30786>\u001b[0m in \u001b[0;36m<module>\u001b[0;34m()\u001b[0m\n\u001b[1;32m      1\u001b[0m \u001b[0;31m# Let's instantiate Animal\u001b[0m\u001b[0;34m\u001b[0m\u001b[0;34m\u001b[0m\u001b[0m\n\u001b[1;32m      2\u001b[0m \u001b[0mmy_animal\u001b[0m \u001b[0;34m=\u001b[0m \u001b[0mAnimal\u001b[0m\u001b[0;34m(\u001b[0m\u001b[0;34m\"Willy\"\u001b[0m\u001b[0;34m)\u001b[0m\u001b[0;34m\u001b[0m\u001b[0m\n\u001b[0;32m----> 3\u001b[0;31m \u001b[0mmy_animal\u001b[0m\u001b[0;34m.\u001b[0m\u001b[0mspeak\u001b[0m\u001b[0;34m(\u001b[0m\u001b[0;34m)\u001b[0m\u001b[0;34m\u001b[0m\u001b[0m\n\u001b[0m",
      "\u001b[0;32m<ipython-input-96-afc0b204bd74>\u001b[0m in \u001b[0;36mspeak\u001b[0;34m(self)\u001b[0m\n\u001b[1;32m      8\u001b[0m     \u001b[0;32mdef\u001b[0m \u001b[0mspeak\u001b[0m\u001b[0;34m(\u001b[0m\u001b[0mself\u001b[0m\u001b[0;34m)\u001b[0m\u001b[0;34m:\u001b[0m\u001b[0;34m\u001b[0m\u001b[0m\n\u001b[1;32m      9\u001b[0m         \u001b[0;31m# Raise error\u001b[0m\u001b[0;34m\u001b[0m\u001b[0;34m\u001b[0m\u001b[0m\n\u001b[0;32m---> 10\u001b[0;31m         \u001b[0;32mraise\u001b[0m \u001b[0mNotImplementedError\u001b[0m\u001b[0;34m(\u001b[0m\u001b[0;34m\"Subclass must implement this abstract method\"\u001b[0m\u001b[0;34m)\u001b[0m\u001b[0;34m\u001b[0m\u001b[0m\n\u001b[0m\u001b[1;32m     11\u001b[0m \u001b[0;34m\u001b[0m\u001b[0m\n",
      "\u001b[0;31mNotImplementedError\u001b[0m: Subclass must implement this abstract method"
     ]
    }
   ],
   "source": [
    "# Let's instantiate Animal\n",
    "my_animal = Animal(\"Willy\")\n",
    "my_animal.speak()\n"
   ]
  },
  {
   "cell_type": "code",
   "execution_count": 98,
   "metadata": {},
   "outputs": [],
   "source": [
    "# Let's overwrite our exception from the base class\n",
    "class Dog(Animal):\n",
    "    def speak(self):\n",
    "        return self.name + \" says woof!\"\n",
    "\n",
    "# Let's overwrite our exception from the base class\n",
    "class Cat(Animal):\n",
    "    def speak(self):\n",
    "        return self.name + \" says meow!\""
   ]
  },
  {
   "cell_type": "code",
   "execution_count": 99,
   "metadata": {},
   "outputs": [
    {
     "name": "stdout",
     "output_type": "stream",
     "text": [
      "lassie says woof!\n"
     ]
    }
   ],
   "source": [
    "lassie = Dog(\"lassie\")\n",
    "print(lassie.speak())"
   ]
  },
  {
   "cell_type": "markdown",
   "metadata": {},
   "source": [
    "## More advanced OOP concepts (can skip)\n",
    "\n",
    "\n",
    "### d) Dunder Methods\n",
    "\n",
    "How do we use the built-in methods (top level environment) like `str` or `len` on classes? "
   ]
  },
  {
   "cell_type": "code",
   "execution_count": 132,
   "metadata": {},
   "outputs": [],
   "source": [
    "class Book():\n",
    "    def __init__(self, title, author, pages):\n",
    "        self.title = title\n",
    "        self.author = author\n",
    "        self.pages = pages\n",
    "        \n",
    "    def __str__(self):\n",
    "        return f'{self.title} by {self.author}'\n",
    "    \n",
    "    def __len__(self):\n",
    "        return self.pages\n",
    "    \n",
    "    def __del__(self):\n",
    "        print('A book object has been deleted')"
   ]
  },
  {
   "cell_type": "code",
   "execution_count": 134,
   "metadata": {},
   "outputs": [
    {
     "name": "stdout",
     "output_type": "stream",
     "text": [
      "Principia by Isaac Newton\n"
     ]
    }
   ],
   "source": [
    "new_book = Book('Principia', 'Isaac Newton', 1031)\n",
    "print(new_book)"
   ]
  },
  {
   "cell_type": "code",
   "execution_count": 135,
   "metadata": {},
   "outputs": [
    {
     "data": {
      "text/plain": [
       "1031"
      ]
     },
     "execution_count": 135,
     "metadata": {},
     "output_type": "execute_result"
    }
   ],
   "source": [
    "len(new_book)"
   ]
  },
  {
   "cell_type": "code",
   "execution_count": 136,
   "metadata": {},
   "outputs": [
    {
     "name": "stdout",
     "output_type": "stream",
     "text": [
      "A book object has been deleted\n"
     ]
    }
   ],
   "source": [
    "del(new_book)"
   ]
  },
  {
   "cell_type": "markdown",
   "metadata": {},
   "source": [
    "Let's do this with a more extensive example. "
   ]
  },
  {
   "cell_type": "code",
   "execution_count": 114,
   "metadata": {},
   "outputs": [],
   "source": [
    "import datetime\n",
    "\n",
    "class Person(object):\n",
    "    \n",
    "    def __init__(self, name):\n",
    "        \"\"\"Create a person\"\"\"\n",
    "        self.name = name\n",
    "        try:\n",
    "            last_blank = name.rindex(' ')\n",
    "            self.last_name = name[last_blank + 1:]\n",
    "        except:\n",
    "            self.last_name = name\n",
    "        self.birthday = None\n",
    "        \n",
    "    def get_name(self):\n",
    "        \"\"\"Returns self's full name\"\"\"\n",
    "        return self.name\n",
    "    \n",
    "    def get_last_name(self):\n",
    "        \"\"\"Returns self's last name\"\"\"\n",
    "        return self.last_name\n",
    "    \n",
    "    def set_birthday(self, birthdate):\n",
    "        \"\"\"Assumes birthdate is of type dataetime.date\n",
    "           Set's self's birthday to birthdate\"\"\"\n",
    "        self.birthday = birthdate\n",
    "        \n",
    "    def get_age(self):\n",
    "        \"\"\"Returns self's current age in days\"\"\"\n",
    "        if self.birthday == None:\n",
    "            raise ValueError\n",
    "        return (datetime.date.today() - self.birthday).days\n",
    "    \n",
    "    def __lt__(self, other):\n",
    "        \"\"\"returns True is self's name is lexicographically\n",
    "           less than other's name, and False otherwise\"\"\"\n",
    "        if self.last_name == other.last_name:\n",
    "            return self.name < other.name\n",
    "        return self.last_name < other.last_name\n",
    "    \n",
    "    def __str__(self):\n",
    "        \"\"\"Returns self's name\"\"\"\n",
    "        return self.name\n",
    "        "
   ]
  },
  {
   "cell_type": "code",
   "execution_count": 120,
   "metadata": {},
   "outputs": [
    {
     "name": "stdout",
     "output_type": "stream",
     "text": [
      "Obama\n",
      "Barack Obama is 20977 days old\n"
     ]
    }
   ],
   "source": [
    "# Instatiate the objects\n",
    "curr = Person('Donald Trump')\n",
    "prev = Person('Barack Obama')\n",
    "# Print prev_pres last name\n",
    "print(prev.get_last_name())\n",
    "# Use the set_birthday method to set the age of prev_pres object\n",
    "prev.set_birthday(datetime.date(1961, 8, 4))\n",
    "# Get the number of days old of prev_pres\n",
    "print(prev.get_name(), 'is', prev.get_age(), 'days old')"
   ]
  },
  {
   "cell_type": "markdown",
   "metadata": {},
   "source": [
    "Whenever the $\\text{Person}$ object is instantiated an argument needs to be supplied to the `__init__` function. When instantiating a class we need to look at the spec of the `__init__` function for the class to know what arguments to pass. \n",
    "\n",
    "Note, the expression $\\text{prev.last_name()}$ will return $\\text{Obama}$ but writing expressions that directly access instance variables is poor form and should be avoided. \n",
    "\n",
    "We have also used the special built-in method called `__lt__` and modified it such that when the method $\\text{Person.__}\\texttt{lt}\\text{__(self, other)}$ is called whenever the first argument to the operator, `<`, is of type $\\text{Person}$. \n",
    "\n",
    "This is an example of operator overloading. Note the expression $\\text{self.Name < other.name}$ is shorthand for $\\text{self.name.__}\\texttt{lt}\\text{__(self.other)}$. \n",
    "\n",
    "Since $\\text{self.name}$ is of type `str` the `__lt__` method is associated with type `str`. This overloading also provides automatic access to any polymorphic method using `__lt__`. The built-in method `sort()` is one such method."
   ]
  },
  {
   "cell_type": "code",
   "execution_count": 121,
   "metadata": {},
   "outputs": [
    {
     "name": "stdout",
     "output_type": "stream",
     "text": [
      "Donald Trump\n",
      "Barack Obama\n"
     ]
    }
   ],
   "source": [
    "pres_list = [curr, prev]\n",
    "for pres in pres_list:\n",
    "    print(pres)"
   ]
  },
  {
   "cell_type": "code",
   "execution_count": 122,
   "metadata": {},
   "outputs": [
    {
     "name": "stdout",
     "output_type": "stream",
     "text": [
      "Barack Obama\n",
      "Donald Trump\n"
     ]
    }
   ],
   "source": [
    "# Let's use sort\n",
    "pres_list.sort()\n",
    "for pres in pres_list:\n",
    "    print(pres)"
   ]
  },
  {
   "cell_type": "markdown",
   "metadata": {},
   "source": [
    "### e) Mortgage, Extended Example\n",
    "\n",
    "Let's build a program that examines the cost of three types of loans:\n",
    " - fixed-rate mortgage with no points \n",
    " - fixed-rate mortgage with points, and \n",
    " - mortgage with an initial teaser rate followed by a higher rate for the duration. \n",
    " \n",
    " Let's first create an *abstract class* called $\\text{Mortgage}$ that contains the methods shared by the subclasses but not intended to be instantiated directly. \n",
    " \n",
    " The function $\\text{findPayment}$ computes the size of the fixed monthly payment needed to pay off the loan, including interest. It does this using a closed-form expression."
   ]
  },
  {
   "cell_type": "code",
   "execution_count": 144,
   "metadata": {},
   "outputs": [],
   "source": [
    "def find_payment(loan, r, m):\n",
    "    \"\"\" Assumes: loan and r are floats, m an int\n",
    "        Returns the monthly payment for a mortgage of size\n",
    "        loan at a monthly rate of r for m months\"\"\"\n",
    "    return loan*((r*(1+r)**m)/((1+r)**m - 1))\n",
    "\n",
    "class Mortgage(object):\n",
    "    \"\"\"Abstract class for building different kinds of mortgages\"\"\" \n",
    "    def __init__(self, loan, ann_rate, months):\n",
    "        \"\"\"Create a new mortgage\"\"\"\n",
    "        self.loan = loan\n",
    "        self.rate = ann_rate/12.0\n",
    "        self.months = months\n",
    "        self.paid = [0.0]\n",
    "        self.owed = [loan]\n",
    "        self.payment = find_payment(loan, self.rate, months) \n",
    "        self.legend = None # description of mortgage\n",
    "    def make_payment(self):\n",
    "        \"\"\"Make a payment\"\"\" \n",
    "        self.paid.append(self.payment)\n",
    "        reduction = self.payment - self.owed[-1]*self.rate \n",
    "        self.owed.append(self.owed[-1] - reduction)\n",
    "    def get_total_paid(self):\n",
    "        \"\"\"Return the total amount paid so far\"\"\" \n",
    "        return sum(self.paid)\n",
    "    def __str__(self): \n",
    "        return self.legend"
   ]
  },
  {
   "cell_type": "markdown",
   "metadata": {},
   "source": [
    "From `__init__` we see that all the $\\text{Mortgage}$ instances will have instance variables corresponding to intial loan amount, the monthly interest rate, the duration of the loan in months, a list of payments that have been made at the start of each month (the list starts with 0.0 since no payments have been made at the start of the first month), a list with the balance of the loan that is outstanding at the start of each mmnth, amount to be paid each month(initialized using the value returned by the function $\\text{find_payment}$, and a description of the mortgage which has `None`. \n",
    "\n",
    "The `__init__` operation of each subclass of $\\text{Mortgage}$ is expected to start by calling $\\text{Mortgage.__}\\texttt{init}$__\n",
    "and then to initialize *self.legend* to appropiate description of the subclass. \n",
    "\n",
    "The method $\\text{make_payment}$ is used to records the payments. Payment is for amount of interest due in the outstanding balance, and the remainder is used to reduce the loan balance. That's why it updates both $\\text{self.paid}$ and $\\text{self.owed}$.\n",
    "\n",
    "The following code implements two types of mortgages. "
   ]
  },
  {
   "cell_type": "code",
   "execution_count": 149,
   "metadata": {},
   "outputs": [],
   "source": [
    "class Fixed(Mortgage):\n",
    "    def __init__(self, loan, r, months):\n",
    "        Mortgage.__init__(self, loan, r, months)\n",
    "        self.legend = 'fixed, ' + str(int(r*100)) + '%'\n",
    "        \n",
    "class FixedWithPts(Mortgage):\n",
    "    def __init__(self, loan, r, months, pts):\n",
    "        Mortgage.__init__(self, loan, r, months)\n",
    "        self.pts = pts \n",
    "        self.paid = [loan*(pts/100.0)]\n",
    "        self.legend = 'fixed ' + str(r*100) + '%, '\\\n",
    "        + str(pts) + ' points'"
   ]
  },
  {
   "cell_type": "markdown",
   "metadata": {},
   "source": [
    "Next we have a third type of mortgage subclass $\\text{two_rate}$ that treates the mortgage as a concatenation of two loans each at different interest rates. $\\text{self.paid}$ is initialized with 0.0 and ot contains one more element than the number of payments that have been made. This is the reason why $\\text{make_payment}$ compares $\\texttt{len}\\text{(self.paid)}$ to $\\text{self.teaser_months + 1}$."
   ]
  },
  {
   "cell_type": "code",
   "execution_count": 150,
   "metadata": {},
   "outputs": [],
   "source": [
    "class TwoRate(Mortgage):\n",
    "    def __init__(self, loan, r, months, teaser_rate, teaser_months):\n",
    "        Mortgage.__init__(self, loan, teaser_rate, months) \n",
    "        self.teaser_months = teaser_months\n",
    "        self.teaser_rate = teaser_rate\n",
    "        self.next_rate = r/12.0\n",
    "        self.legend = str(teaser_rate*100)\\\n",
    "                      + '% for ' + str(self.teaser_months)\\\n",
    "                      + ' months, then ' + str(r*100) + '%' \n",
    "    def make_payment(self):\n",
    "        if len(self.paid) == self.teaser_months + 1:\n",
    "            self.rate = self.next_rate\n",
    "            self.payment = find_payment(self.owed[-1], self.rate, self.months - self.teaser_months)\n",
    "            \n",
    "        Mortgage.make_payment(self)"
   ]
  },
  {
   "cell_type": "markdown",
   "metadata": {},
   "source": [
    "The next program computes and prints the total cost of each kind of mortgage for a sample set of parameters. It begins by creating a mortgage of each kind. Then it makes a monthly payment on each for a given number of years. Finally, it prints the total amount of the payments made for each loan"
   ]
  },
  {
   "cell_type": "code",
   "execution_count": 151,
   "metadata": {},
   "outputs": [],
   "source": [
    "def compare_mortgages(amt, years, fixed_rate, pts, pts_rate, \n",
    "                      var_rate1, var_rate2, var_months):\n",
    "    tot_months = years*12\n",
    "    fixed1 = Fixed(amt, fixed_rate, tot_months)\n",
    "    fixed2 = FixedWithPts(amt, pts_rate, tot_months, pts)\n",
    "    two_rate = TwoRate(amt, var_rate2, tot_months, var_rate1, \n",
    "                      var_months) \n",
    "    morts = [fixed1, fixed2, two_rate]\n",
    "    for m in range(tot_months):\n",
    "        for mort in morts: \n",
    "            mort.make_payment()\n",
    "        for m in morts: \n",
    "            print(m)\n",
    "            print(' Total payments = $' + str(int(m.get_total_paid())))"
   ]
  },
  {
   "cell_type": "code",
   "execution_count": 153,
   "metadata": {},
   "outputs": [
    {
     "name": "stdout",
     "output_type": "stream",
     "text": [
      "fixed, 7%\n",
      " Total payments = $1330\n",
      "fixed 5.0%, 3.25 points\n",
      " Total payments = $7573\n",
      "4.5% for 48 months, then 9.5%\n",
      " Total payments = $1013\n",
      "fixed, 7%\n",
      " Total payments = $2661\n",
      "fixed 5.0%, 3.25 points\n",
      " Total payments = $8647\n",
      "4.5% for 48 months, then 9.5%\n",
      " Total payments = $2026\n",
      "fixed, 7%\n",
      " Total payments = $3991\n",
      "fixed 5.0%, 3.25 points\n",
      " Total payments = $9720\n",
      "4.5% for 48 months, then 9.5%\n",
      " Total payments = $3040\n",
      "fixed, 7%\n",
      " Total payments = $5322\n",
      "fixed 5.0%, 3.25 points\n",
      " Total payments = $10794\n",
      "4.5% for 48 months, then 9.5%\n",
      " Total payments = $4053\n",
      "fixed, 7%\n",
      " Total payments = $6653\n",
      "fixed 5.0%, 3.25 points\n",
      " Total payments = $11868\n",
      "4.5% for 48 months, then 9.5%\n",
      " Total payments = $5066\n",
      "fixed, 7%\n",
      " Total payments = $7983\n",
      "fixed 5.0%, 3.25 points\n",
      " Total payments = $12941\n",
      "4.5% for 48 months, then 9.5%\n",
      " Total payments = $6080\n",
      "fixed, 7%\n",
      " Total payments = $9314\n",
      "fixed 5.0%, 3.25 points\n",
      " Total payments = $14015\n",
      "4.5% for 48 months, then 9.5%\n",
      " Total payments = $7093\n",
      "fixed, 7%\n",
      " Total payments = $10644\n",
      "fixed 5.0%, 3.25 points\n",
      " Total payments = $15089\n",
      "4.5% for 48 months, then 9.5%\n",
      " Total payments = $8106\n",
      "fixed, 7%\n",
      " Total payments = $11975\n",
      "fixed 5.0%, 3.25 points\n",
      " Total payments = $16162\n",
      "4.5% for 48 months, then 9.5%\n",
      " Total payments = $9120\n",
      "fixed, 7%\n",
      " Total payments = $13306\n",
      "fixed 5.0%, 3.25 points\n",
      " Total payments = $17236\n",
      "4.5% for 48 months, then 9.5%\n",
      " Total payments = $10133\n",
      "fixed, 7%\n",
      " Total payments = $14636\n",
      "fixed 5.0%, 3.25 points\n",
      " Total payments = $18310\n",
      "4.5% for 48 months, then 9.5%\n",
      " Total payments = $11147\n",
      "fixed, 7%\n",
      " Total payments = $15967\n",
      "fixed 5.0%, 3.25 points\n",
      " Total payments = $19383\n",
      "4.5% for 48 months, then 9.5%\n",
      " Total payments = $12160\n",
      "fixed, 7%\n",
      " Total payments = $17297\n",
      "fixed 5.0%, 3.25 points\n",
      " Total payments = $20457\n",
      "4.5% for 48 months, then 9.5%\n",
      " Total payments = $13173\n",
      "fixed, 7%\n",
      " Total payments = $18628\n",
      "fixed 5.0%, 3.25 points\n",
      " Total payments = $21531\n",
      "4.5% for 48 months, then 9.5%\n",
      " Total payments = $14187\n",
      "fixed, 7%\n",
      " Total payments = $19959\n",
      "fixed 5.0%, 3.25 points\n",
      " Total payments = $22604\n",
      "4.5% for 48 months, then 9.5%\n",
      " Total payments = $15200\n",
      "fixed, 7%\n",
      " Total payments = $21289\n",
      "fixed 5.0%, 3.25 points\n",
      " Total payments = $23678\n",
      "4.5% for 48 months, then 9.5%\n",
      " Total payments = $16213\n",
      "fixed, 7%\n",
      " Total payments = $22620\n",
      "fixed 5.0%, 3.25 points\n",
      " Total payments = $24751\n",
      "4.5% for 48 months, then 9.5%\n",
      " Total payments = $17227\n",
      "fixed, 7%\n",
      " Total payments = $23950\n",
      "fixed 5.0%, 3.25 points\n",
      " Total payments = $25825\n",
      "4.5% for 48 months, then 9.5%\n",
      " Total payments = $18240\n",
      "fixed, 7%\n",
      " Total payments = $25281\n",
      "fixed 5.0%, 3.25 points\n",
      " Total payments = $26899\n",
      "4.5% for 48 months, then 9.5%\n",
      " Total payments = $19254\n",
      "fixed, 7%\n",
      " Total payments = $26612\n",
      "fixed 5.0%, 3.25 points\n",
      " Total payments = $27972\n",
      "4.5% for 48 months, then 9.5%\n",
      " Total payments = $20267\n",
      "fixed, 7%\n",
      " Total payments = $27942\n",
      "fixed 5.0%, 3.25 points\n",
      " Total payments = $29046\n",
      "4.5% for 48 months, then 9.5%\n",
      " Total payments = $21280\n",
      "fixed, 7%\n",
      " Total payments = $29273\n",
      "fixed 5.0%, 3.25 points\n",
      " Total payments = $30120\n",
      "4.5% for 48 months, then 9.5%\n",
      " Total payments = $22294\n",
      "fixed, 7%\n",
      " Total payments = $30603\n",
      "fixed 5.0%, 3.25 points\n",
      " Total payments = $31193\n",
      "4.5% for 48 months, then 9.5%\n",
      " Total payments = $23307\n",
      "fixed, 7%\n",
      " Total payments = $31934\n",
      "fixed 5.0%, 3.25 points\n",
      " Total payments = $32267\n",
      "4.5% for 48 months, then 9.5%\n",
      " Total payments = $24320\n",
      "fixed, 7%\n",
      " Total payments = $33265\n",
      "fixed 5.0%, 3.25 points\n",
      " Total payments = $33341\n",
      "4.5% for 48 months, then 9.5%\n",
      " Total payments = $25334\n",
      "fixed, 7%\n",
      " Total payments = $34595\n",
      "fixed 5.0%, 3.25 points\n",
      " Total payments = $34414\n",
      "4.5% for 48 months, then 9.5%\n",
      " Total payments = $26347\n",
      "fixed, 7%\n",
      " Total payments = $35926\n",
      "fixed 5.0%, 3.25 points\n",
      " Total payments = $35488\n",
      "4.5% for 48 months, then 9.5%\n",
      " Total payments = $27361\n",
      "fixed, 7%\n",
      " Total payments = $37256\n",
      "fixed 5.0%, 3.25 points\n",
      " Total payments = $36562\n",
      "4.5% for 48 months, then 9.5%\n",
      " Total payments = $28374\n",
      "fixed, 7%\n",
      " Total payments = $38587\n",
      "fixed 5.0%, 3.25 points\n",
      " Total payments = $37635\n",
      "4.5% for 48 months, then 9.5%\n",
      " Total payments = $29387\n",
      "fixed, 7%\n",
      " Total payments = $39918\n",
      "fixed 5.0%, 3.25 points\n",
      " Total payments = $38709\n",
      "4.5% for 48 months, then 9.5%\n",
      " Total payments = $30401\n",
      "fixed, 7%\n",
      " Total payments = $41248\n",
      "fixed 5.0%, 3.25 points\n",
      " Total payments = $39782\n",
      "4.5% for 48 months, then 9.5%\n",
      " Total payments = $31414\n",
      "fixed, 7%\n",
      " Total payments = $42579\n",
      "fixed 5.0%, 3.25 points\n",
      " Total payments = $40856\n",
      "4.5% for 48 months, then 9.5%\n",
      " Total payments = $32427\n",
      "fixed, 7%\n",
      " Total payments = $43909\n",
      "fixed 5.0%, 3.25 points\n",
      " Total payments = $41930\n",
      "4.5% for 48 months, then 9.5%\n",
      " Total payments = $33441\n",
      "fixed, 7%\n",
      " Total payments = $45240\n",
      "fixed 5.0%, 3.25 points\n",
      " Total payments = $43003\n",
      "4.5% for 48 months, then 9.5%\n",
      " Total payments = $34454\n",
      "fixed, 7%\n",
      " Total payments = $46571\n",
      "fixed 5.0%, 3.25 points\n",
      " Total payments = $44077\n",
      "4.5% for 48 months, then 9.5%\n",
      " Total payments = $35467\n",
      "fixed, 7%\n",
      " Total payments = $47901\n",
      "fixed 5.0%, 3.25 points\n",
      " Total payments = $45151\n",
      "4.5% for 48 months, then 9.5%\n",
      " Total payments = $36481\n",
      "fixed, 7%\n",
      " Total payments = $49232\n",
      "fixed 5.0%, 3.25 points\n",
      " Total payments = $46224\n",
      "4.5% for 48 months, then 9.5%\n",
      " Total payments = $37494\n",
      "fixed, 7%\n",
      " Total payments = $50562\n",
      "fixed 5.0%, 3.25 points\n",
      " Total payments = $47298\n",
      "4.5% for 48 months, then 9.5%\n",
      " Total payments = $38508\n",
      "fixed, 7%\n",
      " Total payments = $51893\n",
      "fixed 5.0%, 3.25 points\n",
      " Total payments = $48372\n",
      "4.5% for 48 months, then 9.5%\n",
      " Total payments = $39521\n",
      "fixed, 7%\n",
      " Total payments = $53224\n",
      "fixed 5.0%, 3.25 points\n",
      " Total payments = $49445\n",
      "4.5% for 48 months, then 9.5%\n",
      " Total payments = $40534\n",
      "fixed, 7%\n",
      " Total payments = $54554\n",
      "fixed 5.0%, 3.25 points\n",
      " Total payments = $50519\n",
      "4.5% for 48 months, then 9.5%\n",
      " Total payments = $41548\n",
      "fixed, 7%\n",
      " Total payments = $55885\n",
      "fixed 5.0%, 3.25 points\n",
      " Total payments = $51593\n",
      "4.5% for 48 months, then 9.5%\n",
      " Total payments = $42561\n",
      "fixed, 7%\n",
      " Total payments = $57216\n",
      "fixed 5.0%, 3.25 points\n",
      " Total payments = $52666\n",
      "4.5% for 48 months, then 9.5%\n",
      " Total payments = $43574\n",
      "fixed, 7%\n",
      " Total payments = $58546\n",
      "fixed 5.0%, 3.25 points\n",
      " Total payments = $53740\n",
      "4.5% for 48 months, then 9.5%\n",
      " Total payments = $44588\n",
      "fixed, 7%\n",
      " Total payments = $59877\n",
      "fixed 5.0%, 3.25 points\n",
      " Total payments = $54813\n",
      "4.5% for 48 months, then 9.5%\n",
      " Total payments = $45601\n",
      "fixed, 7%\n",
      " Total payments = $61207\n",
      "fixed 5.0%, 3.25 points\n",
      " Total payments = $55887\n",
      "4.5% for 48 months, then 9.5%\n",
      " Total payments = $46615\n",
      "fixed, 7%\n",
      " Total payments = $62538\n",
      "fixed 5.0%, 3.25 points\n",
      " Total payments = $56961\n",
      "4.5% for 48 months, then 9.5%\n",
      " Total payments = $47628\n",
      "fixed, 7%\n",
      " Total payments = $63869\n",
      "fixed 5.0%, 3.25 points\n",
      " Total payments = $58034\n",
      "4.5% for 48 months, then 9.5%\n",
      " Total payments = $48641\n",
      "fixed, 7%\n",
      " Total payments = $65199\n",
      "fixed 5.0%, 3.25 points\n",
      " Total payments = $59108\n",
      "4.5% for 48 months, then 9.5%\n",
      " Total payments = $50253\n",
      "fixed, 7%\n",
      " Total payments = $66530\n",
      "fixed 5.0%, 3.25 points\n",
      " Total payments = $60182\n",
      "4.5% for 48 months, then 9.5%\n",
      " Total payments = $51864\n",
      "fixed, 7%\n",
      " Total payments = $67860\n",
      "fixed 5.0%, 3.25 points\n",
      " Total payments = $61255\n",
      "4.5% for 48 months, then 9.5%\n",
      " Total payments = $53476\n",
      "fixed, 7%\n",
      " Total payments = $69191\n",
      "fixed 5.0%, 3.25 points\n",
      " Total payments = $62329\n",
      "4.5% for 48 months, then 9.5%\n",
      " Total payments = $55087\n",
      "fixed, 7%\n",
      " Total payments = $70522\n",
      "fixed 5.0%, 3.25 points\n",
      " Total payments = $63403\n",
      "4.5% for 48 months, then 9.5%\n",
      " Total payments = $56699\n",
      "fixed, 7%\n",
      " Total payments = $71852\n",
      "fixed 5.0%, 3.25 points\n",
      " Total payments = $64476\n",
      "4.5% for 48 months, then 9.5%\n",
      " Total payments = $58311\n",
      "fixed, 7%\n",
      " Total payments = $73183\n",
      "fixed 5.0%, 3.25 points\n",
      " Total payments = $65550\n",
      "4.5% for 48 months, then 9.5%\n",
      " Total payments = $59922\n",
      "fixed, 7%\n",
      " Total payments = $74513\n",
      "fixed 5.0%, 3.25 points\n",
      " Total payments = $66624\n",
      "4.5% for 48 months, then 9.5%\n",
      " Total payments = $61534\n",
      "fixed, 7%\n",
      " Total payments = $75844\n",
      "fixed 5.0%, 3.25 points\n",
      " Total payments = $67697\n",
      "4.5% for 48 months, then 9.5%\n",
      " Total payments = $63145\n",
      "fixed, 7%\n",
      " Total payments = $77175\n",
      "fixed 5.0%, 3.25 points\n",
      " Total payments = $68771\n",
      "4.5% for 48 months, then 9.5%\n",
      " Total payments = $64757\n",
      "fixed, 7%\n",
      " Total payments = $78505\n",
      "fixed 5.0%, 3.25 points\n",
      " Total payments = $69844\n",
      "4.5% for 48 months, then 9.5%\n",
      " Total payments = $66368\n",
      "fixed, 7%\n",
      " Total payments = $79836\n",
      "fixed 5.0%, 3.25 points\n",
      " Total payments = $70918\n",
      "4.5% for 48 months, then 9.5%\n",
      " Total payments = $67980\n",
      "fixed, 7%\n",
      " Total payments = $81166\n",
      "fixed 5.0%, 3.25 points\n",
      " Total payments = $71992\n",
      "4.5% for 48 months, then 9.5%\n",
      " Total payments = $69591\n",
      "fixed, 7%\n",
      " Total payments = $82497\n",
      "fixed 5.0%, 3.25 points\n",
      " Total payments = $73065\n",
      "4.5% for 48 months, then 9.5%\n",
      " Total payments = $71203\n",
      "fixed, 7%\n",
      " Total payments = $83828\n",
      "fixed 5.0%, 3.25 points\n",
      " Total payments = $74139\n",
      "4.5% for 48 months, then 9.5%\n",
      " Total payments = $72815\n",
      "fixed, 7%\n",
      " Total payments = $85158\n",
      "fixed 5.0%, 3.25 points\n",
      " Total payments = $75213\n",
      "4.5% for 48 months, then 9.5%\n",
      " Total payments = $74426\n",
      "fixed, 7%\n",
      " Total payments = $86489\n",
      "fixed 5.0%, 3.25 points\n",
      " Total payments = $76286\n",
      "4.5% for 48 months, then 9.5%\n",
      " Total payments = $76038\n",
      "fixed, 7%\n",
      " Total payments = $87819\n",
      "fixed 5.0%, 3.25 points\n",
      " Total payments = $77360\n",
      "4.5% for 48 months, then 9.5%\n",
      " Total payments = $77649\n",
      "fixed, 7%\n",
      " Total payments = $89150\n",
      "fixed 5.0%, 3.25 points\n",
      " Total payments = $78434\n",
      "4.5% for 48 months, then 9.5%\n",
      " Total payments = $79261\n",
      "fixed, 7%\n",
      " Total payments = $90481\n",
      "fixed 5.0%, 3.25 points\n",
      " Total payments = $79507\n",
      "4.5% for 48 months, then 9.5%\n",
      " Total payments = $80872\n",
      "fixed, 7%\n",
      " Total payments = $91811\n",
      "fixed 5.0%, 3.25 points\n",
      " Total payments = $80581\n",
      "4.5% for 48 months, then 9.5%\n",
      " Total payments = $82484\n",
      "fixed, 7%\n",
      " Total payments = $93142\n",
      "fixed 5.0%, 3.25 points\n",
      " Total payments = $81655\n",
      "4.5% for 48 months, then 9.5%\n",
      " Total payments = $84095\n",
      "fixed, 7%\n",
      " Total payments = $94472\n",
      "fixed 5.0%, 3.25 points\n",
      " Total payments = $82728\n",
      "4.5% for 48 months, then 9.5%\n",
      " Total payments = $85707\n",
      "fixed, 7%\n",
      " Total payments = $95803\n",
      "fixed 5.0%, 3.25 points\n",
      " Total payments = $83802\n",
      "4.5% for 48 months, then 9.5%\n",
      " Total payments = $87318\n",
      "fixed, 7%\n",
      " Total payments = $97134\n",
      "fixed 5.0%, 3.25 points\n",
      " Total payments = $84875\n",
      "4.5% for 48 months, then 9.5%\n",
      " Total payments = $88930\n",
      "fixed, 7%\n",
      " Total payments = $98464\n",
      "fixed 5.0%, 3.25 points\n",
      " Total payments = $85949\n",
      "4.5% for 48 months, then 9.5%\n",
      " Total payments = $90542\n",
      "fixed, 7%\n",
      " Total payments = $99795\n",
      "fixed 5.0%, 3.25 points\n",
      " Total payments = $87023\n",
      "4.5% for 48 months, then 9.5%\n",
      " Total payments = $92153\n",
      "fixed, 7%\n",
      " Total payments = $101125\n",
      "fixed 5.0%, 3.25 points\n",
      " Total payments = $88096\n",
      "4.5% for 48 months, then 9.5%\n",
      " Total payments = $93765\n",
      "fixed, 7%\n",
      " Total payments = $102456\n",
      "fixed 5.0%, 3.25 points\n",
      " Total payments = $89170\n",
      "4.5% for 48 months, then 9.5%\n",
      " Total payments = $95376\n",
      "fixed, 7%\n",
      " Total payments = $103787\n",
      "fixed 5.0%, 3.25 points\n",
      " Total payments = $90244\n",
      "4.5% for 48 months, then 9.5%\n",
      " Total payments = $96988\n",
      "fixed, 7%\n",
      " Total payments = $105117\n",
      "fixed 5.0%, 3.25 points\n",
      " Total payments = $91317\n",
      "4.5% for 48 months, then 9.5%\n",
      " Total payments = $98599\n",
      "fixed, 7%\n",
      " Total payments = $106448\n",
      "fixed 5.0%, 3.25 points\n",
      " Total payments = $92391\n",
      "4.5% for 48 months, then 9.5%\n",
      " Total payments = $100211\n",
      "fixed, 7%\n",
      " Total payments = $107779\n",
      "fixed 5.0%, 3.25 points\n",
      " Total payments = $93465\n",
      "4.5% for 48 months, then 9.5%\n",
      " Total payments = $101822\n",
      "fixed, 7%\n",
      " Total payments = $109109\n",
      "fixed 5.0%, 3.25 points\n",
      " Total payments = $94538\n",
      "4.5% for 48 months, then 9.5%\n",
      " Total payments = $103434\n",
      "fixed, 7%\n",
      " Total payments = $110440\n",
      "fixed 5.0%, 3.25 points\n",
      " Total payments = $95612\n",
      "4.5% for 48 months, then 9.5%\n",
      " Total payments = $105045\n",
      "fixed, 7%\n",
      " Total payments = $111770\n",
      "fixed 5.0%, 3.25 points\n",
      " Total payments = $96686\n",
      "4.5% for 48 months, then 9.5%\n",
      " Total payments = $106657\n",
      "fixed, 7%\n",
      " Total payments = $113101\n",
      "fixed 5.0%, 3.25 points\n",
      " Total payments = $97759\n",
      "4.5% for 48 months, then 9.5%\n",
      " Total payments = $108269\n",
      "fixed, 7%\n",
      " Total payments = $114432\n",
      "fixed 5.0%, 3.25 points\n",
      " Total payments = $98833\n",
      "4.5% for 48 months, then 9.5%\n",
      " Total payments = $109880\n",
      "fixed, 7%\n",
      " Total payments = $115762\n",
      "fixed 5.0%, 3.25 points\n",
      " Total payments = $99906\n",
      "4.5% for 48 months, then 9.5%\n",
      " Total payments = $111492\n",
      "fixed, 7%\n",
      " Total payments = $117093\n",
      "fixed 5.0%, 3.25 points\n",
      " Total payments = $100980\n",
      "4.5% for 48 months, then 9.5%\n",
      " Total payments = $113103\n",
      "fixed, 7%\n",
      " Total payments = $118423\n",
      "fixed 5.0%, 3.25 points\n",
      " Total payments = $102054\n",
      "4.5% for 48 months, then 9.5%\n",
      " Total payments = $114715\n",
      "fixed, 7%\n",
      " Total payments = $119754\n",
      "fixed 5.0%, 3.25 points\n",
      " Total payments = $103127\n",
      "4.5% for 48 months, then 9.5%\n",
      " Total payments = $116326\n",
      "fixed, 7%\n",
      " Total payments = $121085\n",
      "fixed 5.0%, 3.25 points\n",
      " Total payments = $104201\n",
      "4.5% for 48 months, then 9.5%\n",
      " Total payments = $117938\n",
      "fixed, 7%\n",
      " Total payments = $122415\n",
      "fixed 5.0%, 3.25 points\n",
      " Total payments = $105275\n",
      "4.5% for 48 months, then 9.5%\n",
      " Total payments = $119549\n",
      "fixed, 7%\n",
      " Total payments = $123746\n",
      "fixed 5.0%, 3.25 points\n",
      " Total payments = $106348\n",
      "4.5% for 48 months, then 9.5%\n",
      " Total payments = $121161\n",
      "fixed, 7%\n",
      " Total payments = $125076\n",
      "fixed 5.0%, 3.25 points\n",
      " Total payments = $107422\n",
      "4.5% for 48 months, then 9.5%\n",
      " Total payments = $122773\n",
      "fixed, 7%\n",
      " Total payments = $126407\n",
      "fixed 5.0%, 3.25 points\n",
      " Total payments = $108496\n",
      "4.5% for 48 months, then 9.5%\n",
      " Total payments = $124384\n",
      "fixed, 7%\n",
      " Total payments = $127738\n",
      "fixed 5.0%, 3.25 points\n",
      " Total payments = $109569\n",
      "4.5% for 48 months, then 9.5%\n",
      " Total payments = $125996\n",
      "fixed, 7%\n",
      " Total payments = $129068\n",
      "fixed 5.0%, 3.25 points\n",
      " Total payments = $110643\n",
      "4.5% for 48 months, then 9.5%\n",
      " Total payments = $127607\n",
      "fixed, 7%\n",
      " Total payments = $130399\n",
      "fixed 5.0%, 3.25 points\n",
      " Total payments = $111717\n",
      "4.5% for 48 months, then 9.5%\n",
      " Total payments = $129219\n",
      "fixed, 7%\n",
      " Total payments = $131729\n",
      "fixed 5.0%, 3.25 points\n",
      " Total payments = $112790\n",
      "4.5% for 48 months, then 9.5%\n",
      " Total payments = $130830\n",
      "fixed, 7%\n",
      " Total payments = $133060\n",
      "fixed 5.0%, 3.25 points\n",
      " Total payments = $113864\n",
      "4.5% for 48 months, then 9.5%\n",
      " Total payments = $132442\n",
      "fixed, 7%\n",
      " Total payments = $134391\n",
      "fixed 5.0%, 3.25 points\n",
      " Total payments = $114937\n",
      "4.5% for 48 months, then 9.5%\n",
      " Total payments = $134053\n",
      "fixed, 7%\n",
      " Total payments = $135721\n",
      "fixed 5.0%, 3.25 points\n",
      " Total payments = $116011\n",
      "4.5% for 48 months, then 9.5%\n",
      " Total payments = $135665\n",
      "fixed, 7%\n",
      " Total payments = $137052\n",
      "fixed 5.0%, 3.25 points\n",
      " Total payments = $117085\n",
      "4.5% for 48 months, then 9.5%\n",
      " Total payments = $137276\n",
      "fixed, 7%\n",
      " Total payments = $138382\n",
      "fixed 5.0%, 3.25 points\n",
      " Total payments = $118158\n",
      "4.5% for 48 months, then 9.5%\n",
      " Total payments = $138888\n",
      "fixed, 7%\n",
      " Total payments = $139713\n",
      "fixed 5.0%, 3.25 points\n",
      " Total payments = $119232\n",
      "4.5% for 48 months, then 9.5%\n",
      " Total payments = $140500\n",
      "fixed, 7%\n",
      " Total payments = $141044\n",
      "fixed 5.0%, 3.25 points\n",
      " Total payments = $120306\n",
      "4.5% for 48 months, then 9.5%\n",
      " Total payments = $142111\n",
      "fixed, 7%\n",
      " Total payments = $142374\n",
      "fixed 5.0%, 3.25 points\n",
      " Total payments = $121379\n",
      "4.5% for 48 months, then 9.5%\n",
      " Total payments = $143723\n",
      "fixed, 7%\n",
      " Total payments = $143705\n",
      "fixed 5.0%, 3.25 points\n",
      " Total payments = $122453\n",
      "4.5% for 48 months, then 9.5%\n",
      " Total payments = $145334\n",
      "fixed, 7%\n",
      " Total payments = $145035\n",
      "fixed 5.0%, 3.25 points\n",
      " Total payments = $123527\n",
      "4.5% for 48 months, then 9.5%\n",
      " Total payments = $146946\n",
      "fixed, 7%\n",
      " Total payments = $146366\n",
      "fixed 5.0%, 3.25 points\n",
      " Total payments = $124600\n",
      "4.5% for 48 months, then 9.5%\n",
      " Total payments = $148557\n",
      "fixed, 7%\n",
      " Total payments = $147697\n",
      "fixed 5.0%, 3.25 points\n",
      " Total payments = $125674\n",
      "4.5% for 48 months, then 9.5%\n",
      " Total payments = $150169\n",
      "fixed, 7%\n",
      " Total payments = $149027\n",
      "fixed 5.0%, 3.25 points\n",
      " Total payments = $126748\n",
      "4.5% for 48 months, then 9.5%\n",
      " Total payments = $151780\n",
      "fixed, 7%\n",
      " Total payments = $150358\n",
      "fixed 5.0%, 3.25 points\n",
      " Total payments = $127821\n",
      "4.5% for 48 months, then 9.5%\n",
      " Total payments = $153392\n",
      "fixed, 7%\n",
      " Total payments = $151688\n",
      "fixed 5.0%, 3.25 points\n",
      " Total payments = $128895\n",
      "4.5% for 48 months, then 9.5%\n",
      " Total payments = $155003\n",
      "fixed, 7%\n",
      " Total payments = $153019\n",
      "fixed 5.0%, 3.25 points\n",
      " Total payments = $129968\n",
      "4.5% for 48 months, then 9.5%\n",
      " Total payments = $156615\n",
      "fixed, 7%\n",
      " Total payments = $154350\n",
      "fixed 5.0%, 3.25 points\n",
      " Total payments = $131042\n",
      "4.5% for 48 months, then 9.5%\n",
      " Total payments = $158227\n",
      "fixed, 7%\n",
      " Total payments = $155680\n",
      "fixed 5.0%, 3.25 points\n",
      " Total payments = $132116\n",
      "4.5% for 48 months, then 9.5%\n",
      " Total payments = $159838\n",
      "fixed, 7%\n",
      " Total payments = $157011\n",
      "fixed 5.0%, 3.25 points\n",
      " Total payments = $133189\n",
      "4.5% for 48 months, then 9.5%\n",
      " Total payments = $161450\n",
      "fixed, 7%\n",
      " Total payments = $158341\n",
      "fixed 5.0%, 3.25 points\n",
      " Total payments = $134263\n",
      "4.5% for 48 months, then 9.5%\n",
      " Total payments = $163061\n",
      "fixed, 7%\n",
      " Total payments = $159672\n",
      "fixed 5.0%, 3.25 points\n",
      " Total payments = $135337\n",
      "4.5% for 48 months, then 9.5%\n",
      " Total payments = $164673\n",
      "fixed, 7%\n",
      " Total payments = $161003\n",
      "fixed 5.0%, 3.25 points\n",
      " Total payments = $136410\n",
      "4.5% for 48 months, then 9.5%\n",
      " Total payments = $166284\n",
      "fixed, 7%\n",
      " Total payments = $162333\n",
      "fixed 5.0%, 3.25 points\n",
      " Total payments = $137484\n",
      "4.5% for 48 months, then 9.5%\n",
      " Total payments = $167896\n",
      "fixed, 7%\n",
      " Total payments = $163664\n",
      "fixed 5.0%, 3.25 points\n",
      " Total payments = $138558\n",
      "4.5% for 48 months, then 9.5%\n",
      " Total payments = $169507\n",
      "fixed, 7%\n",
      " Total payments = $164995\n",
      "fixed 5.0%, 3.25 points\n",
      " Total payments = $139631\n",
      "4.5% for 48 months, then 9.5%\n",
      " Total payments = $171119\n",
      "fixed, 7%\n",
      " Total payments = $166325\n",
      "fixed 5.0%, 3.25 points\n",
      " Total payments = $140705\n",
      "4.5% for 48 months, then 9.5%\n",
      " Total payments = $172731\n",
      "fixed, 7%\n",
      " Total payments = $167656\n",
      "fixed 5.0%, 3.25 points\n",
      " Total payments = $141779\n",
      "4.5% for 48 months, then 9.5%\n",
      " Total payments = $174342\n",
      "fixed, 7%\n",
      " Total payments = $168986\n",
      "fixed 5.0%, 3.25 points\n",
      " Total payments = $142852\n",
      "4.5% for 48 months, then 9.5%\n",
      " Total payments = $175954\n",
      "fixed, 7%\n",
      " Total payments = $170317\n",
      "fixed 5.0%, 3.25 points\n",
      " Total payments = $143926\n",
      "4.5% for 48 months, then 9.5%\n",
      " Total payments = $177565\n",
      "fixed, 7%\n",
      " Total payments = $171648\n",
      "fixed 5.0%, 3.25 points\n",
      " Total payments = $144999\n",
      "4.5% for 48 months, then 9.5%\n",
      " Total payments = $179177\n",
      "fixed, 7%\n",
      " Total payments = $172978\n",
      "fixed 5.0%, 3.25 points\n",
      " Total payments = $146073\n",
      "4.5% for 48 months, then 9.5%\n",
      " Total payments = $180788\n",
      "fixed, 7%\n",
      " Total payments = $174309\n",
      "fixed 5.0%, 3.25 points\n",
      " Total payments = $147147\n",
      "4.5% for 48 months, then 9.5%\n",
      " Total payments = $182400\n",
      "fixed, 7%\n",
      " Total payments = $175639\n",
      "fixed 5.0%, 3.25 points\n",
      " Total payments = $148220\n",
      "4.5% for 48 months, then 9.5%\n",
      " Total payments = $184011\n",
      "fixed, 7%\n",
      " Total payments = $176970\n",
      "fixed 5.0%, 3.25 points\n",
      " Total payments = $149294\n",
      "4.5% for 48 months, then 9.5%\n",
      " Total payments = $185623\n",
      "fixed, 7%\n",
      " Total payments = $178301\n",
      "fixed 5.0%, 3.25 points\n",
      " Total payments = $150368\n",
      "4.5% for 48 months, then 9.5%\n",
      " Total payments = $187234\n",
      "fixed, 7%\n",
      " Total payments = $179631\n",
      "fixed 5.0%, 3.25 points\n",
      " Total payments = $151441\n",
      "4.5% for 48 months, then 9.5%\n",
      " Total payments = $188846\n",
      "fixed, 7%\n",
      " Total payments = $180962\n",
      "fixed 5.0%, 3.25 points\n",
      " Total payments = $152515\n",
      "4.5% for 48 months, then 9.5%\n",
      " Total payments = $190458\n",
      "fixed, 7%\n",
      " Total payments = $182292\n",
      "fixed 5.0%, 3.25 points\n",
      " Total payments = $153589\n",
      "4.5% for 48 months, then 9.5%\n",
      " Total payments = $192069\n",
      "fixed, 7%\n",
      " Total payments = $183623\n",
      "fixed 5.0%, 3.25 points\n",
      " Total payments = $154662\n",
      "4.5% for 48 months, then 9.5%\n",
      " Total payments = $193681\n",
      "fixed, 7%\n",
      " Total payments = $184954\n",
      "fixed 5.0%, 3.25 points\n",
      " Total payments = $155736\n",
      "4.5% for 48 months, then 9.5%\n",
      " Total payments = $195292\n",
      "fixed, 7%\n",
      " Total payments = $186284\n",
      "fixed 5.0%, 3.25 points\n",
      " Total payments = $156810\n",
      "4.5% for 48 months, then 9.5%\n",
      " Total payments = $196904\n",
      "fixed, 7%\n",
      " Total payments = $187615\n",
      "fixed 5.0%, 3.25 points\n",
      " Total payments = $157883\n",
      "4.5% for 48 months, then 9.5%\n",
      " Total payments = $198515\n",
      "fixed, 7%\n",
      " Total payments = $188945\n",
      "fixed 5.0%, 3.25 points\n",
      " Total payments = $158957\n",
      "4.5% for 48 months, then 9.5%\n",
      " Total payments = $200127\n",
      "fixed, 7%\n",
      " Total payments = $190276\n",
      "fixed 5.0%, 3.25 points\n",
      " Total payments = $160030\n",
      "4.5% for 48 months, then 9.5%\n",
      " Total payments = $201738\n",
      "fixed, 7%\n",
      " Total payments = $191607\n",
      "fixed 5.0%, 3.25 points\n",
      " Total payments = $161104\n",
      "4.5% for 48 months, then 9.5%\n",
      " Total payments = $203350\n",
      "fixed, 7%\n",
      " Total payments = $192937\n",
      "fixed 5.0%, 3.25 points\n",
      " Total payments = $162178\n",
      "4.5% for 48 months, then 9.5%\n",
      " Total payments = $204961\n",
      "fixed, 7%\n",
      " Total payments = $194268\n",
      "fixed 5.0%, 3.25 points\n",
      " Total payments = $163251\n",
      "4.5% for 48 months, then 9.5%\n",
      " Total payments = $206573\n",
      "fixed, 7%\n",
      " Total payments = $195598\n",
      "fixed 5.0%, 3.25 points\n",
      " Total payments = $164325\n",
      "4.5% for 48 months, then 9.5%\n",
      " Total payments = $208185\n",
      "fixed, 7%\n",
      " Total payments = $196929\n",
      "fixed 5.0%, 3.25 points\n",
      " Total payments = $165399\n",
      "4.5% for 48 months, then 9.5%\n",
      " Total payments = $209796\n",
      "fixed, 7%\n",
      " Total payments = $198260\n",
      "fixed 5.0%, 3.25 points\n",
      " Total payments = $166472\n",
      "4.5% for 48 months, then 9.5%\n",
      " Total payments = $211408\n",
      "fixed, 7%\n",
      " Total payments = $199590\n",
      "fixed 5.0%, 3.25 points\n",
      " Total payments = $167546\n",
      "4.5% for 48 months, then 9.5%\n",
      " Total payments = $213019\n",
      "fixed, 7%\n",
      " Total payments = $200921\n",
      "fixed 5.0%, 3.25 points\n",
      " Total payments = $168620\n",
      "4.5% for 48 months, then 9.5%\n",
      " Total payments = $214631\n",
      "fixed, 7%\n",
      " Total payments = $202251\n",
      "fixed 5.0%, 3.25 points\n",
      " Total payments = $169693\n",
      "4.5% for 48 months, then 9.5%\n",
      " Total payments = $216242\n",
      "fixed, 7%\n",
      " Total payments = $203582\n",
      "fixed 5.0%, 3.25 points\n",
      " Total payments = $170767\n",
      "4.5% for 48 months, then 9.5%\n",
      " Total payments = $217854\n",
      "fixed, 7%\n",
      " Total payments = $204913\n",
      "fixed 5.0%, 3.25 points\n",
      " Total payments = $171841\n",
      "4.5% for 48 months, then 9.5%\n",
      " Total payments = $219465\n",
      "fixed, 7%\n",
      " Total payments = $206243\n",
      "fixed 5.0%, 3.25 points\n",
      " Total payments = $172914\n",
      "4.5% for 48 months, then 9.5%\n",
      " Total payments = $221077\n",
      "fixed, 7%\n",
      " Total payments = $207574\n",
      "fixed 5.0%, 3.25 points\n",
      " Total payments = $173988\n",
      "4.5% for 48 months, then 9.5%\n",
      " Total payments = $222689\n",
      "fixed, 7%\n",
      " Total payments = $208904\n",
      "fixed 5.0%, 3.25 points\n",
      " Total payments = $175061\n",
      "4.5% for 48 months, then 9.5%\n",
      " Total payments = $224300\n",
      "fixed, 7%\n",
      " Total payments = $210235\n",
      "fixed 5.0%, 3.25 points\n",
      " Total payments = $176135\n",
      "4.5% for 48 months, then 9.5%\n",
      " Total payments = $225912\n",
      "fixed, 7%\n",
      " Total payments = $211566\n",
      "fixed 5.0%, 3.25 points\n",
      " Total payments = $177209\n",
      "4.5% for 48 months, then 9.5%\n",
      " Total payments = $227523\n",
      "fixed, 7%\n",
      " Total payments = $212896\n",
      "fixed 5.0%, 3.25 points\n",
      " Total payments = $178282\n",
      "4.5% for 48 months, then 9.5%\n",
      " Total payments = $229135\n",
      "fixed, 7%\n",
      " Total payments = $214227\n",
      "fixed 5.0%, 3.25 points\n",
      " Total payments = $179356\n",
      "4.5% for 48 months, then 9.5%\n",
      " Total payments = $230746\n",
      "fixed, 7%\n",
      " Total payments = $215558\n",
      "fixed 5.0%, 3.25 points\n",
      " Total payments = $180430\n",
      "4.5% for 48 months, then 9.5%\n",
      " Total payments = $232358\n",
      "fixed, 7%\n",
      " Total payments = $216888\n",
      "fixed 5.0%, 3.25 points\n",
      " Total payments = $181503\n",
      "4.5% for 48 months, then 9.5%\n",
      " Total payments = $233969\n",
      "fixed, 7%\n",
      " Total payments = $218219\n",
      "fixed 5.0%, 3.25 points\n",
      " Total payments = $182577\n",
      "4.5% for 48 months, then 9.5%\n",
      " Total payments = $235581\n",
      "fixed, 7%\n",
      " Total payments = $219549\n",
      "fixed 5.0%, 3.25 points\n",
      " Total payments = $183651\n",
      "4.5% for 48 months, then 9.5%\n",
      " Total payments = $237192\n",
      "fixed, 7%\n",
      " Total payments = $220880\n",
      "fixed 5.0%, 3.25 points\n",
      " Total payments = $184724\n",
      "4.5% for 48 months, then 9.5%\n",
      " Total payments = $238804\n",
      "fixed, 7%\n",
      " Total payments = $222211\n",
      "fixed 5.0%, 3.25 points\n",
      " Total payments = $185798\n",
      "4.5% for 48 months, then 9.5%\n",
      " Total payments = $240416\n",
      "fixed, 7%\n",
      " Total payments = $223541\n",
      "fixed 5.0%, 3.25 points\n",
      " Total payments = $186872\n",
      "4.5% for 48 months, then 9.5%\n",
      " Total payments = $242027\n",
      "fixed, 7%\n",
      " Total payments = $224872\n",
      "fixed 5.0%, 3.25 points\n",
      " Total payments = $187945\n",
      "4.5% for 48 months, then 9.5%\n",
      " Total payments = $243639\n",
      "fixed, 7%\n",
      " Total payments = $226202\n",
      "fixed 5.0%, 3.25 points\n",
      " Total payments = $189019\n",
      "4.5% for 48 months, then 9.5%\n",
      " Total payments = $245250\n",
      "fixed, 7%\n",
      " Total payments = $227533\n",
      "fixed 5.0%, 3.25 points\n",
      " Total payments = $190092\n",
      "4.5% for 48 months, then 9.5%\n",
      " Total payments = $246862\n",
      "fixed, 7%\n",
      " Total payments = $228864\n",
      "fixed 5.0%, 3.25 points\n",
      " Total payments = $191166\n",
      "4.5% for 48 months, then 9.5%\n",
      " Total payments = $248473\n",
      "fixed, 7%\n",
      " Total payments = $230194\n",
      "fixed 5.0%, 3.25 points\n",
      " Total payments = $192240\n",
      "4.5% for 48 months, then 9.5%\n",
      " Total payments = $250085\n",
      "fixed, 7%\n",
      " Total payments = $231525\n",
      "fixed 5.0%, 3.25 points\n",
      " Total payments = $193313\n",
      "4.5% for 48 months, then 9.5%\n",
      " Total payments = $251696\n",
      "fixed, 7%\n",
      " Total payments = $232855\n",
      "fixed 5.0%, 3.25 points\n",
      " Total payments = $194387\n",
      "4.5% for 48 months, then 9.5%\n",
      " Total payments = $253308\n",
      "fixed, 7%\n",
      " Total payments = $234186\n",
      "fixed 5.0%, 3.25 points\n",
      " Total payments = $195461\n",
      "4.5% for 48 months, then 9.5%\n",
      " Total payments = $254919\n",
      "fixed, 7%\n",
      " Total payments = $235517\n",
      "fixed 5.0%, 3.25 points\n",
      " Total payments = $196534\n",
      "4.5% for 48 months, then 9.5%\n",
      " Total payments = $256531\n",
      "fixed, 7%\n",
      " Total payments = $236847\n",
      "fixed 5.0%, 3.25 points\n",
      " Total payments = $197608\n",
      "4.5% for 48 months, then 9.5%\n",
      " Total payments = $258143\n",
      "fixed, 7%\n",
      " Total payments = $238178\n",
      "fixed 5.0%, 3.25 points\n",
      " Total payments = $198682\n",
      "4.5% for 48 months, then 9.5%\n",
      " Total payments = $259754\n",
      "fixed, 7%\n",
      " Total payments = $239508\n",
      "fixed 5.0%, 3.25 points\n",
      " Total payments = $199755\n",
      "4.5% for 48 months, then 9.5%\n",
      " Total payments = $261366\n",
      "fixed, 7%\n",
      " Total payments = $240839\n",
      "fixed 5.0%, 3.25 points\n",
      " Total payments = $200829\n",
      "4.5% for 48 months, then 9.5%\n",
      " Total payments = $262977\n",
      "fixed, 7%\n",
      " Total payments = $242170\n",
      "fixed 5.0%, 3.25 points\n",
      " Total payments = $201903\n",
      "4.5% for 48 months, then 9.5%\n",
      " Total payments = $264589\n",
      "fixed, 7%\n",
      " Total payments = $243500\n",
      "fixed 5.0%, 3.25 points\n",
      " Total payments = $202976\n",
      "4.5% for 48 months, then 9.5%\n",
      " Total payments = $266200\n",
      "fixed, 7%\n",
      " Total payments = $244831\n",
      "fixed 5.0%, 3.25 points\n",
      " Total payments = $204050\n",
      "4.5% for 48 months, then 9.5%\n",
      " Total payments = $267812\n",
      "fixed, 7%\n",
      " Total payments = $246161\n",
      "fixed 5.0%, 3.25 points\n",
      " Total payments = $205124\n",
      "4.5% for 48 months, then 9.5%\n",
      " Total payments = $269423\n",
      "fixed, 7%\n",
      " Total payments = $247492\n",
      "fixed 5.0%, 3.25 points\n",
      " Total payments = $206197\n",
      "4.5% for 48 months, then 9.5%\n",
      " Total payments = $271035\n",
      "fixed, 7%\n",
      " Total payments = $248823\n",
      "fixed 5.0%, 3.25 points\n",
      " Total payments = $207271\n",
      "4.5% for 48 months, then 9.5%\n",
      " Total payments = $272647\n",
      "fixed, 7%\n",
      " Total payments = $250153\n",
      "fixed 5.0%, 3.25 points\n",
      " Total payments = $208344\n",
      "4.5% for 48 months, then 9.5%\n",
      " Total payments = $274258\n",
      "fixed, 7%\n",
      " Total payments = $251484\n",
      "fixed 5.0%, 3.25 points\n",
      " Total payments = $209418\n",
      "4.5% for 48 months, then 9.5%\n",
      " Total payments = $275870\n",
      "fixed, 7%\n",
      " Total payments = $252814\n",
      "fixed 5.0%, 3.25 points\n",
      " Total payments = $210492\n",
      "4.5% for 48 months, then 9.5%\n",
      " Total payments = $277481\n",
      "fixed, 7%\n",
      " Total payments = $254145\n",
      "fixed 5.0%, 3.25 points\n",
      " Total payments = $211565\n",
      "4.5% for 48 months, then 9.5%\n",
      " Total payments = $279093\n",
      "fixed, 7%\n",
      " Total payments = $255476\n",
      "fixed 5.0%, 3.25 points\n",
      " Total payments = $212639\n",
      "4.5% for 48 months, then 9.5%\n",
      " Total payments = $280704\n",
      "fixed, 7%\n",
      " Total payments = $256806\n",
      "fixed 5.0%, 3.25 points\n",
      " Total payments = $213713\n",
      "4.5% for 48 months, then 9.5%\n",
      " Total payments = $282316\n",
      "fixed, 7%\n",
      " Total payments = $258137\n",
      "fixed 5.0%, 3.25 points\n",
      " Total payments = $214786\n",
      "4.5% for 48 months, then 9.5%\n",
      " Total payments = $283927\n",
      "fixed, 7%\n",
      " Total payments = $259467\n",
      "fixed 5.0%, 3.25 points\n",
      " Total payments = $215860\n",
      "4.5% for 48 months, then 9.5%\n",
      " Total payments = $285539\n",
      "fixed, 7%\n",
      " Total payments = $260798\n",
      "fixed 5.0%, 3.25 points\n",
      " Total payments = $216934\n",
      "4.5% for 48 months, then 9.5%\n",
      " Total payments = $287150\n",
      "fixed, 7%\n",
      " Total payments = $262129\n",
      "fixed 5.0%, 3.25 points\n",
      " Total payments = $218007\n",
      "4.5% for 48 months, then 9.5%\n",
      " Total payments = $288762\n",
      "fixed, 7%\n",
      " Total payments = $263459\n",
      "fixed 5.0%, 3.25 points\n",
      " Total payments = $219081\n",
      "4.5% for 48 months, then 9.5%\n",
      " Total payments = $290374\n",
      "fixed, 7%\n",
      " Total payments = $264790\n",
      "fixed 5.0%, 3.25 points\n",
      " Total payments = $220155\n",
      "4.5% for 48 months, then 9.5%\n",
      " Total payments = $291985\n",
      "fixed, 7%\n",
      " Total payments = $266120\n",
      "fixed 5.0%, 3.25 points\n",
      " Total payments = $221228\n",
      "4.5% for 48 months, then 9.5%\n",
      " Total payments = $293597\n",
      "fixed, 7%\n",
      " Total payments = $267451\n",
      "fixed 5.0%, 3.25 points\n",
      " Total payments = $222302\n",
      "4.5% for 48 months, then 9.5%\n",
      " Total payments = $295208\n",
      "fixed, 7%\n",
      " Total payments = $268782\n",
      "fixed 5.0%, 3.25 points\n",
      " Total payments = $223375\n",
      "4.5% for 48 months, then 9.5%\n",
      " Total payments = $296820\n",
      "fixed, 7%\n",
      " Total payments = $270112\n",
      "fixed 5.0%, 3.25 points\n",
      " Total payments = $224449\n",
      "4.5% for 48 months, then 9.5%\n",
      " Total payments = $298431\n",
      "fixed, 7%\n",
      " Total payments = $271443\n",
      "fixed 5.0%, 3.25 points\n",
      " Total payments = $225523\n",
      "4.5% for 48 months, then 9.5%\n",
      " Total payments = $300043\n",
      "fixed, 7%\n",
      " Total payments = $272774\n",
      "fixed 5.0%, 3.25 points\n",
      " Total payments = $226596\n",
      "4.5% for 48 months, then 9.5%\n",
      " Total payments = $301654\n",
      "fixed, 7%\n",
      " Total payments = $274104\n",
      "fixed 5.0%, 3.25 points\n",
      " Total payments = $227670\n",
      "4.5% for 48 months, then 9.5%\n",
      " Total payments = $303266\n",
      "fixed, 7%\n",
      " Total payments = $275435\n",
      "fixed 5.0%, 3.25 points\n",
      " Total payments = $228744\n",
      "4.5% for 48 months, then 9.5%\n",
      " Total payments = $304877\n",
      "fixed, 7%\n",
      " Total payments = $276765\n",
      "fixed 5.0%, 3.25 points\n",
      " Total payments = $229817\n",
      "4.5% for 48 months, then 9.5%\n",
      " Total payments = $306489\n",
      "fixed, 7%\n",
      " Total payments = $278096\n",
      "fixed 5.0%, 3.25 points\n",
      " Total payments = $230891\n",
      "4.5% for 48 months, then 9.5%\n",
      " Total payments = $308101\n",
      "fixed, 7%\n",
      " Total payments = $279427\n",
      "fixed 5.0%, 3.25 points\n",
      " Total payments = $231965\n",
      "4.5% for 48 months, then 9.5%\n",
      " Total payments = $309712\n",
      "fixed, 7%\n",
      " Total payments = $280757\n",
      "fixed 5.0%, 3.25 points\n",
      " Total payments = $233038\n",
      "4.5% for 48 months, then 9.5%\n",
      " Total payments = $311324\n",
      "fixed, 7%\n",
      " Total payments = $282088\n",
      "fixed 5.0%, 3.25 points\n",
      " Total payments = $234112\n",
      "4.5% for 48 months, then 9.5%\n",
      " Total payments = $312935\n",
      "fixed, 7%\n",
      " Total payments = $283418\n",
      "fixed 5.0%, 3.25 points\n",
      " Total payments = $235186\n",
      "4.5% for 48 months, then 9.5%\n",
      " Total payments = $314547\n",
      "fixed, 7%\n",
      " Total payments = $284749\n",
      "fixed 5.0%, 3.25 points\n",
      " Total payments = $236259\n",
      "4.5% for 48 months, then 9.5%\n",
      " Total payments = $316158\n",
      "fixed, 7%\n",
      " Total payments = $286080\n",
      "fixed 5.0%, 3.25 points\n",
      " Total payments = $237333\n",
      "4.5% for 48 months, then 9.5%\n",
      " Total payments = $317770\n",
      "fixed, 7%\n",
      " Total payments = $287410\n",
      "fixed 5.0%, 3.25 points\n",
      " Total payments = $238406\n",
      "4.5% for 48 months, then 9.5%\n",
      " Total payments = $319381\n",
      "fixed, 7%\n",
      " Total payments = $288741\n",
      "fixed 5.0%, 3.25 points\n",
      " Total payments = $239480\n",
      "4.5% for 48 months, then 9.5%\n",
      " Total payments = $320993\n",
      "fixed, 7%\n",
      " Total payments = $290071\n",
      "fixed 5.0%, 3.25 points\n",
      " Total payments = $240554\n",
      "4.5% for 48 months, then 9.5%\n",
      " Total payments = $322605\n",
      "fixed, 7%\n",
      " Total payments = $291402\n",
      "fixed 5.0%, 3.25 points\n",
      " Total payments = $241627\n",
      "4.5% for 48 months, then 9.5%\n",
      " Total payments = $324216\n",
      "fixed, 7%\n",
      " Total payments = $292733\n",
      "fixed 5.0%, 3.25 points\n",
      " Total payments = $242701\n",
      "4.5% for 48 months, then 9.5%\n",
      " Total payments = $325828\n",
      "fixed, 7%\n",
      " Total payments = $294063\n",
      "fixed 5.0%, 3.25 points\n",
      " Total payments = $243775\n",
      "4.5% for 48 months, then 9.5%\n",
      " Total payments = $327439\n",
      "fixed, 7%\n",
      " Total payments = $295394\n",
      "fixed 5.0%, 3.25 points\n",
      " Total payments = $244848\n",
      "4.5% for 48 months, then 9.5%\n",
      " Total payments = $329051\n",
      "fixed, 7%\n",
      " Total payments = $296724\n",
      "fixed 5.0%, 3.25 points\n",
      " Total payments = $245922\n",
      "4.5% for 48 months, then 9.5%\n",
      " Total payments = $330662\n",
      "fixed, 7%\n",
      " Total payments = $298055\n",
      "fixed 5.0%, 3.25 points\n",
      " Total payments = $246996\n",
      "4.5% for 48 months, then 9.5%\n",
      " Total payments = $332274\n",
      "fixed, 7%\n",
      " Total payments = $299386\n",
      "fixed 5.0%, 3.25 points\n",
      " Total payments = $248069\n",
      "4.5% for 48 months, then 9.5%\n",
      " Total payments = $333885\n",
      "fixed, 7%\n",
      " Total payments = $300716\n",
      "fixed 5.0%, 3.25 points\n",
      " Total payments = $249143\n",
      "4.5% for 48 months, then 9.5%\n",
      " Total payments = $335497\n",
      "fixed, 7%\n",
      " Total payments = $302047\n",
      "fixed 5.0%, 3.25 points\n",
      " Total payments = $250217\n",
      "4.5% for 48 months, then 9.5%\n",
      " Total payments = $337108\n",
      "fixed, 7%\n",
      " Total payments = $303377\n",
      "fixed 5.0%, 3.25 points\n",
      " Total payments = $251290\n",
      "4.5% for 48 months, then 9.5%\n",
      " Total payments = $338720\n",
      "fixed, 7%\n",
      " Total payments = $304708\n",
      "fixed 5.0%, 3.25 points\n",
      " Total payments = $252364\n",
      "4.5% for 48 months, then 9.5%\n",
      " Total payments = $340332\n",
      "fixed, 7%\n",
      " Total payments = $306039\n",
      "fixed 5.0%, 3.25 points\n",
      " Total payments = $253437\n",
      "4.5% for 48 months, then 9.5%\n",
      " Total payments = $341943\n",
      "fixed, 7%\n",
      " Total payments = $307369\n",
      "fixed 5.0%, 3.25 points\n",
      " Total payments = $254511\n",
      "4.5% for 48 months, then 9.5%\n",
      " Total payments = $343555\n",
      "fixed, 7%\n",
      " Total payments = $308700\n",
      "fixed 5.0%, 3.25 points\n",
      " Total payments = $255585\n",
      "4.5% for 48 months, then 9.5%\n",
      " Total payments = $345166\n",
      "fixed, 7%\n",
      " Total payments = $310030\n",
      "fixed 5.0%, 3.25 points\n",
      " Total payments = $256658\n",
      "4.5% for 48 months, then 9.5%\n",
      " Total payments = $346778\n",
      "fixed, 7%\n",
      " Total payments = $311361\n",
      "fixed 5.0%, 3.25 points\n",
      " Total payments = $257732\n",
      "4.5% for 48 months, then 9.5%\n",
      " Total payments = $348389\n",
      "fixed, 7%\n",
      " Total payments = $312692\n",
      "fixed 5.0%, 3.25 points\n",
      " Total payments = $258806\n",
      "4.5% for 48 months, then 9.5%\n",
      " Total payments = $350001\n",
      "fixed, 7%\n",
      " Total payments = $314022\n",
      "fixed 5.0%, 3.25 points\n",
      " Total payments = $259879\n",
      "4.5% for 48 months, then 9.5%\n",
      " Total payments = $351612\n",
      "fixed, 7%\n",
      " Total payments = $315353\n",
      "fixed 5.0%, 3.25 points\n",
      " Total payments = $260953\n",
      "4.5% for 48 months, then 9.5%\n",
      " Total payments = $353224\n",
      "fixed, 7%\n",
      " Total payments = $316683\n",
      "fixed 5.0%, 3.25 points\n",
      " Total payments = $262027\n",
      "4.5% for 48 months, then 9.5%\n",
      " Total payments = $354835\n",
      "fixed, 7%\n",
      " Total payments = $318014\n",
      "fixed 5.0%, 3.25 points\n",
      " Total payments = $263100\n",
      "4.5% for 48 months, then 9.5%\n",
      " Total payments = $356447\n",
      "fixed, 7%\n",
      " Total payments = $319345\n",
      "fixed 5.0%, 3.25 points\n",
      " Total payments = $264174\n",
      "4.5% for 48 months, then 9.5%\n",
      " Total payments = $358059\n",
      "fixed, 7%\n",
      " Total payments = $320675\n",
      "fixed 5.0%, 3.25 points\n",
      " Total payments = $265248\n",
      "4.5% for 48 months, then 9.5%\n",
      " Total payments = $359670\n",
      "fixed, 7%\n",
      " Total payments = $322006\n",
      "fixed 5.0%, 3.25 points\n",
      " Total payments = $266321\n",
      "4.5% for 48 months, then 9.5%\n",
      " Total payments = $361282\n",
      "fixed, 7%\n",
      " Total payments = $323337\n",
      "fixed 5.0%, 3.25 points\n",
      " Total payments = $267395\n",
      "4.5% for 48 months, then 9.5%\n",
      " Total payments = $362893\n",
      "fixed, 7%\n",
      " Total payments = $324667\n",
      "fixed 5.0%, 3.25 points\n",
      " Total payments = $268468\n",
      "4.5% for 48 months, then 9.5%\n",
      " Total payments = $364505\n",
      "fixed, 7%\n",
      " Total payments = $325998\n",
      "fixed 5.0%, 3.25 points\n",
      " Total payments = $269542\n",
      "4.5% for 48 months, then 9.5%\n",
      " Total payments = $366116\n",
      "fixed, 7%\n",
      " Total payments = $327328\n",
      "fixed 5.0%, 3.25 points\n",
      " Total payments = $270616\n",
      "4.5% for 48 months, then 9.5%\n",
      " Total payments = $367728\n",
      "fixed, 7%\n",
      " Total payments = $328659\n",
      "fixed 5.0%, 3.25 points\n",
      " Total payments = $271689\n",
      "4.5% for 48 months, then 9.5%\n",
      " Total payments = $369339\n",
      "fixed, 7%\n",
      " Total payments = $329990\n",
      "fixed 5.0%, 3.25 points\n",
      " Total payments = $272763\n",
      "4.5% for 48 months, then 9.5%\n",
      " Total payments = $370951\n",
      "fixed, 7%\n",
      " Total payments = $331320\n",
      "fixed 5.0%, 3.25 points\n",
      " Total payments = $273837\n",
      "4.5% for 48 months, then 9.5%\n",
      " Total payments = $372563\n",
      "fixed, 7%\n",
      " Total payments = $332651\n",
      "fixed 5.0%, 3.25 points\n",
      " Total payments = $274910\n",
      "4.5% for 48 months, then 9.5%\n",
      " Total payments = $374174\n",
      "fixed, 7%\n",
      " Total payments = $333981\n",
      "fixed 5.0%, 3.25 points\n",
      " Total payments = $275984\n",
      "4.5% for 48 months, then 9.5%\n",
      " Total payments = $375786\n",
      "fixed, 7%\n",
      " Total payments = $335312\n",
      "fixed 5.0%, 3.25 points\n",
      " Total payments = $277058\n",
      "4.5% for 48 months, then 9.5%\n",
      " Total payments = $377397\n",
      "fixed, 7%\n",
      " Total payments = $336643\n",
      "fixed 5.0%, 3.25 points\n",
      " Total payments = $278131\n",
      "4.5% for 48 months, then 9.5%\n",
      " Total payments = $379009\n",
      "fixed, 7%\n",
      " Total payments = $337973\n",
      "fixed 5.0%, 3.25 points\n",
      " Total payments = $279205\n",
      "4.5% for 48 months, then 9.5%\n",
      " Total payments = $380620\n",
      "fixed, 7%\n",
      " Total payments = $339304\n",
      "fixed 5.0%, 3.25 points\n",
      " Total payments = $280279\n",
      "4.5% for 48 months, then 9.5%\n",
      " Total payments = $382232\n",
      "fixed, 7%\n",
      " Total payments = $340634\n",
      "fixed 5.0%, 3.25 points\n",
      " Total payments = $281352\n",
      "4.5% for 48 months, then 9.5%\n",
      " Total payments = $383843\n",
      "fixed, 7%\n",
      " Total payments = $341965\n",
      "fixed 5.0%, 3.25 points\n",
      " Total payments = $282426\n",
      "4.5% for 48 months, then 9.5%\n",
      " Total payments = $385455\n",
      "fixed, 7%\n",
      " Total payments = $343296\n",
      "fixed 5.0%, 3.25 points\n",
      " Total payments = $283499\n",
      "4.5% for 48 months, then 9.5%\n",
      " Total payments = $387066\n",
      "fixed, 7%\n",
      " Total payments = $344626\n",
      "fixed 5.0%, 3.25 points\n",
      " Total payments = $284573\n",
      "4.5% for 48 months, then 9.5%\n",
      " Total payments = $388678\n",
      "fixed, 7%\n",
      " Total payments = $345957\n",
      "fixed 5.0%, 3.25 points\n",
      " Total payments = $285647\n",
      "4.5% for 48 months, then 9.5%\n",
      " Total payments = $390290\n",
      "fixed, 7%\n",
      " Total payments = $347287\n",
      "fixed 5.0%, 3.25 points\n",
      " Total payments = $286720\n",
      "4.5% for 48 months, then 9.5%\n",
      " Total payments = $391901\n",
      "fixed, 7%\n",
      " Total payments = $348618\n",
      "fixed 5.0%, 3.25 points\n",
      " Total payments = $287794\n",
      "4.5% for 48 months, then 9.5%\n",
      " Total payments = $393513\n",
      "fixed, 7%\n",
      " Total payments = $349949\n",
      "fixed 5.0%, 3.25 points\n",
      " Total payments = $288868\n",
      "4.5% for 48 months, then 9.5%\n",
      " Total payments = $395124\n",
      "fixed, 7%\n",
      " Total payments = $351279\n",
      "fixed 5.0%, 3.25 points\n",
      " Total payments = $289941\n",
      "4.5% for 48 months, then 9.5%\n",
      " Total payments = $396736\n",
      "fixed, 7%\n",
      " Total payments = $352610\n",
      "fixed 5.0%, 3.25 points\n",
      " Total payments = $291015\n",
      "4.5% for 48 months, then 9.5%\n",
      " Total payments = $398347\n",
      "fixed, 7%\n",
      " Total payments = $353940\n",
      "fixed 5.0%, 3.25 points\n",
      " Total payments = $292089\n",
      "4.5% for 48 months, then 9.5%\n",
      " Total payments = $399959\n",
      "fixed, 7%\n",
      " Total payments = $355271\n",
      "fixed 5.0%, 3.25 points\n",
      " Total payments = $293162\n",
      "4.5% for 48 months, then 9.5%\n",
      " Total payments = $401570\n",
      "fixed, 7%\n",
      " Total payments = $356602\n",
      "fixed 5.0%, 3.25 points\n",
      " Total payments = $294236\n",
      "4.5% for 48 months, then 9.5%\n",
      " Total payments = $403182\n",
      "fixed, 7%\n",
      " Total payments = $357932\n",
      "fixed 5.0%, 3.25 points\n",
      " Total payments = $295310\n",
      "4.5% for 48 months, then 9.5%\n",
      " Total payments = $404793\n",
      "fixed, 7%\n",
      " Total payments = $359263\n",
      "fixed 5.0%, 3.25 points\n",
      " Total payments = $296383\n",
      "4.5% for 48 months, then 9.5%\n",
      " Total payments = $406405\n",
      "fixed, 7%\n",
      " Total payments = $360593\n",
      "fixed 5.0%, 3.25 points\n",
      " Total payments = $297457\n",
      "4.5% for 48 months, then 9.5%\n",
      " Total payments = $408017\n",
      "fixed, 7%\n",
      " Total payments = $361924\n",
      "fixed 5.0%, 3.25 points\n",
      " Total payments = $298530\n",
      "4.5% for 48 months, then 9.5%\n",
      " Total payments = $409628\n",
      "fixed, 7%\n",
      " Total payments = $363255\n",
      "fixed 5.0%, 3.25 points\n",
      " Total payments = $299604\n",
      "4.5% for 48 months, then 9.5%\n",
      " Total payments = $411240\n",
      "fixed, 7%\n",
      " Total payments = $364585\n",
      "fixed 5.0%, 3.25 points\n",
      " Total payments = $300678\n",
      "4.5% for 48 months, then 9.5%\n",
      " Total payments = $412851\n",
      "fixed, 7%\n",
      " Total payments = $365916\n",
      "fixed 5.0%, 3.25 points\n",
      " Total payments = $301751\n",
      "4.5% for 48 months, then 9.5%\n",
      " Total payments = $414463\n",
      "fixed, 7%\n",
      " Total payments = $367246\n",
      "fixed 5.0%, 3.25 points\n",
      " Total payments = $302825\n",
      "4.5% for 48 months, then 9.5%\n",
      " Total payments = $416074\n",
      "fixed, 7%\n",
      " Total payments = $368577\n",
      "fixed 5.0%, 3.25 points\n",
      " Total payments = $303899\n",
      "4.5% for 48 months, then 9.5%\n",
      " Total payments = $417686\n",
      "fixed, 7%\n",
      " Total payments = $369908\n",
      "fixed 5.0%, 3.25 points\n",
      " Total payments = $304972\n",
      "4.5% for 48 months, then 9.5%\n",
      " Total payments = $419297\n",
      "fixed, 7%\n",
      " Total payments = $371238\n",
      "fixed 5.0%, 3.25 points\n",
      " Total payments = $306046\n",
      "4.5% for 48 months, then 9.5%\n",
      " Total payments = $420909\n",
      "fixed, 7%\n",
      " Total payments = $372569\n",
      "fixed 5.0%, 3.25 points\n",
      " Total payments = $307120\n",
      "4.5% for 48 months, then 9.5%\n",
      " Total payments = $422521\n",
      "fixed, 7%\n",
      " Total payments = $373900\n",
      "fixed 5.0%, 3.25 points\n",
      " Total payments = $308193\n",
      "4.5% for 48 months, then 9.5%\n",
      " Total payments = $424132\n",
      "fixed, 7%\n",
      " Total payments = $375230\n",
      "fixed 5.0%, 3.25 points\n",
      " Total payments = $309267\n",
      "4.5% for 48 months, then 9.5%\n",
      " Total payments = $425744\n",
      "fixed, 7%\n",
      " Total payments = $376561\n",
      "fixed 5.0%, 3.25 points\n",
      " Total payments = $310341\n",
      "4.5% for 48 months, then 9.5%\n",
      " Total payments = $427355\n",
      "fixed, 7%\n",
      " Total payments = $377891\n",
      "fixed 5.0%, 3.25 points\n",
      " Total payments = $311414\n",
      "4.5% for 48 months, then 9.5%\n",
      " Total payments = $428967\n",
      "fixed, 7%\n",
      " Total payments = $379222\n",
      "fixed 5.0%, 3.25 points\n",
      " Total payments = $312488\n",
      "4.5% for 48 months, then 9.5%\n",
      " Total payments = $430578\n",
      "fixed, 7%\n",
      " Total payments = $380553\n",
      "fixed 5.0%, 3.25 points\n",
      " Total payments = $313561\n",
      "4.5% for 48 months, then 9.5%\n",
      " Total payments = $432190\n",
      "fixed, 7%\n",
      " Total payments = $381883\n",
      "fixed 5.0%, 3.25 points\n",
      " Total payments = $314635\n",
      "4.5% for 48 months, then 9.5%\n",
      " Total payments = $433801\n",
      "fixed, 7%\n",
      " Total payments = $383214\n",
      "fixed 5.0%, 3.25 points\n",
      " Total payments = $315709\n",
      "4.5% for 48 months, then 9.5%\n",
      " Total payments = $435413\n",
      "fixed, 7%\n",
      " Total payments = $384544\n",
      "fixed 5.0%, 3.25 points\n",
      " Total payments = $316782\n",
      "4.5% for 48 months, then 9.5%\n",
      " Total payments = $437024\n",
      "fixed, 7%\n",
      " Total payments = $385875\n",
      "fixed 5.0%, 3.25 points\n",
      " Total payments = $317856\n",
      "4.5% for 48 months, then 9.5%\n",
      " Total payments = $438636\n",
      "fixed, 7%\n",
      " Total payments = $387206\n",
      "fixed 5.0%, 3.25 points\n",
      " Total payments = $318930\n",
      "4.5% for 48 months, then 9.5%\n",
      " Total payments = $440248\n",
      "fixed, 7%\n",
      " Total payments = $388536\n",
      "fixed 5.0%, 3.25 points\n",
      " Total payments = $320003\n",
      "4.5% for 48 months, then 9.5%\n",
      " Total payments = $441859\n",
      "fixed, 7%\n",
      " Total payments = $389867\n",
      "fixed 5.0%, 3.25 points\n",
      " Total payments = $321077\n",
      "4.5% for 48 months, then 9.5%\n",
      " Total payments = $443471\n",
      "fixed, 7%\n",
      " Total payments = $391197\n",
      "fixed 5.0%, 3.25 points\n",
      " Total payments = $322151\n",
      "4.5% for 48 months, then 9.5%\n",
      " Total payments = $445082\n",
      "fixed, 7%\n",
      " Total payments = $392528\n",
      "fixed 5.0%, 3.25 points\n",
      " Total payments = $323224\n",
      "4.5% for 48 months, then 9.5%\n",
      " Total payments = $446694\n",
      "fixed, 7%\n",
      " Total payments = $393859\n",
      "fixed 5.0%, 3.25 points\n",
      " Total payments = $324298\n",
      "4.5% for 48 months, then 9.5%\n",
      " Total payments = $448305\n",
      "fixed, 7%\n",
      " Total payments = $395189\n",
      "fixed 5.0%, 3.25 points\n",
      " Total payments = $325372\n",
      "4.5% for 48 months, then 9.5%\n",
      " Total payments = $449917\n",
      "fixed, 7%\n",
      " Total payments = $396520\n",
      "fixed 5.0%, 3.25 points\n",
      " Total payments = $326445\n",
      "4.5% for 48 months, then 9.5%\n",
      " Total payments = $451528\n",
      "fixed, 7%\n",
      " Total payments = $397850\n",
      "fixed 5.0%, 3.25 points\n",
      " Total payments = $327519\n",
      "4.5% for 48 months, then 9.5%\n",
      " Total payments = $453140\n",
      "fixed, 7%\n",
      " Total payments = $399181\n",
      "fixed 5.0%, 3.25 points\n",
      " Total payments = $328592\n",
      "4.5% for 48 months, then 9.5%\n",
      " Total payments = $454751\n",
      "fixed, 7%\n",
      " Total payments = $400512\n",
      "fixed 5.0%, 3.25 points\n",
      " Total payments = $329666\n",
      "4.5% for 48 months, then 9.5%\n",
      " Total payments = $456363\n",
      "fixed, 7%\n",
      " Total payments = $401842\n",
      "fixed 5.0%, 3.25 points\n",
      " Total payments = $330740\n",
      "4.5% for 48 months, then 9.5%\n",
      " Total payments = $457975\n",
      "fixed, 7%\n",
      " Total payments = $403173\n",
      "fixed 5.0%, 3.25 points\n",
      " Total payments = $331813\n",
      "4.5% for 48 months, then 9.5%\n",
      " Total payments = $459586\n",
      "fixed, 7%\n",
      " Total payments = $404503\n",
      "fixed 5.0%, 3.25 points\n",
      " Total payments = $332887\n",
      "4.5% for 48 months, then 9.5%\n",
      " Total payments = $461198\n",
      "fixed, 7%\n",
      " Total payments = $405834\n",
      "fixed 5.0%, 3.25 points\n",
      " Total payments = $333961\n",
      "4.5% for 48 months, then 9.5%\n",
      " Total payments = $462809\n",
      "fixed, 7%\n",
      " Total payments = $407165\n",
      "fixed 5.0%, 3.25 points\n",
      " Total payments = $335034\n",
      "4.5% for 48 months, then 9.5%\n",
      " Total payments = $464421\n",
      "fixed, 7%\n",
      " Total payments = $408495\n",
      "fixed 5.0%, 3.25 points\n",
      " Total payments = $336108\n",
      "4.5% for 48 months, then 9.5%\n",
      " Total payments = $466032\n",
      "fixed, 7%\n",
      " Total payments = $409826\n",
      "fixed 5.0%, 3.25 points\n",
      " Total payments = $337182\n",
      "4.5% for 48 months, then 9.5%\n",
      " Total payments = $467644\n",
      "fixed, 7%\n",
      " Total payments = $411156\n",
      "fixed 5.0%, 3.25 points\n",
      " Total payments = $338255\n",
      "4.5% for 48 months, then 9.5%\n",
      " Total payments = $469255\n",
      "fixed, 7%\n",
      " Total payments = $412487\n",
      "fixed 5.0%, 3.25 points\n",
      " Total payments = $339329\n",
      "4.5% for 48 months, then 9.5%\n",
      " Total payments = $470867\n",
      "fixed, 7%\n",
      " Total payments = $413818\n",
      "fixed 5.0%, 3.25 points\n",
      " Total payments = $340403\n",
      "4.5% for 48 months, then 9.5%\n",
      " Total payments = $472479\n",
      "fixed, 7%\n",
      " Total payments = $415148\n",
      "fixed 5.0%, 3.25 points\n",
      " Total payments = $341476\n",
      "4.5% for 48 months, then 9.5%\n",
      " Total payments = $474090\n",
      "fixed, 7%\n",
      " Total payments = $416479\n",
      "fixed 5.0%, 3.25 points\n",
      " Total payments = $342550\n",
      "4.5% for 48 months, then 9.5%\n",
      " Total payments = $475702\n",
      "fixed, 7%\n",
      " Total payments = $417809\n",
      "fixed 5.0%, 3.25 points\n",
      " Total payments = $343623\n",
      "4.5% for 48 months, then 9.5%\n",
      " Total payments = $477313\n",
      "fixed, 7%\n",
      " Total payments = $419140\n",
      "fixed 5.0%, 3.25 points\n",
      " Total payments = $344697\n",
      "4.5% for 48 months, then 9.5%\n",
      " Total payments = $478925\n",
      "fixed, 7%\n",
      " Total payments = $420471\n",
      "fixed 5.0%, 3.25 points\n",
      " Total payments = $345771\n",
      "4.5% for 48 months, then 9.5%\n",
      " Total payments = $480536\n",
      "fixed, 7%\n",
      " Total payments = $421801\n",
      "fixed 5.0%, 3.25 points\n",
      " Total payments = $346844\n",
      "4.5% for 48 months, then 9.5%\n",
      " Total payments = $482148\n",
      "fixed, 7%\n",
      " Total payments = $423132\n",
      "fixed 5.0%, 3.25 points\n",
      " Total payments = $347918\n",
      "4.5% for 48 months, then 9.5%\n",
      " Total payments = $483759\n",
      "fixed, 7%\n",
      " Total payments = $424462\n",
      "fixed 5.0%, 3.25 points\n",
      " Total payments = $348992\n",
      "4.5% for 48 months, then 9.5%\n",
      " Total payments = $485371\n",
      "fixed, 7%\n",
      " Total payments = $425793\n",
      "fixed 5.0%, 3.25 points\n",
      " Total payments = $350065\n",
      "4.5% for 48 months, then 9.5%\n",
      " Total payments = $486982\n"
     ]
    },
    {
     "name": "stdout",
     "output_type": "stream",
     "text": [
      "fixed, 7%\n",
      " Total payments = $427124\n",
      "fixed 5.0%, 3.25 points\n",
      " Total payments = $351139\n",
      "4.5% for 48 months, then 9.5%\n",
      " Total payments = $488594\n",
      "fixed, 7%\n",
      " Total payments = $428454\n",
      "fixed 5.0%, 3.25 points\n",
      " Total payments = $352213\n",
      "4.5% for 48 months, then 9.5%\n",
      " Total payments = $490206\n",
      "fixed, 7%\n",
      " Total payments = $429785\n",
      "fixed 5.0%, 3.25 points\n",
      " Total payments = $353286\n",
      "4.5% for 48 months, then 9.5%\n",
      " Total payments = $491817\n",
      "fixed, 7%\n",
      " Total payments = $431116\n",
      "fixed 5.0%, 3.25 points\n",
      " Total payments = $354360\n",
      "4.5% for 48 months, then 9.5%\n",
      " Total payments = $493429\n",
      "fixed, 7%\n",
      " Total payments = $432446\n",
      "fixed 5.0%, 3.25 points\n",
      " Total payments = $355434\n",
      "4.5% for 48 months, then 9.5%\n",
      " Total payments = $495040\n",
      "fixed, 7%\n",
      " Total payments = $433777\n",
      "fixed 5.0%, 3.25 points\n",
      " Total payments = $356507\n",
      "4.5% for 48 months, then 9.5%\n",
      " Total payments = $496652\n",
      "fixed, 7%\n",
      " Total payments = $435107\n",
      "fixed 5.0%, 3.25 points\n",
      " Total payments = $357581\n",
      "4.5% for 48 months, then 9.5%\n",
      " Total payments = $498263\n",
      "fixed, 7%\n",
      " Total payments = $436438\n",
      "fixed 5.0%, 3.25 points\n",
      " Total payments = $358654\n",
      "4.5% for 48 months, then 9.5%\n",
      " Total payments = $499875\n",
      "fixed, 7%\n",
      " Total payments = $437769\n",
      "fixed 5.0%, 3.25 points\n",
      " Total payments = $359728\n",
      "4.5% for 48 months, then 9.5%\n",
      " Total payments = $501486\n",
      "fixed, 7%\n",
      " Total payments = $439099\n",
      "fixed 5.0%, 3.25 points\n",
      " Total payments = $360802\n",
      "4.5% for 48 months, then 9.5%\n",
      " Total payments = $503098\n",
      "fixed, 7%\n",
      " Total payments = $440430\n",
      "fixed 5.0%, 3.25 points\n",
      " Total payments = $361875\n",
      "4.5% for 48 months, then 9.5%\n",
      " Total payments = $504709\n",
      "fixed, 7%\n",
      " Total payments = $441760\n",
      "fixed 5.0%, 3.25 points\n",
      " Total payments = $362949\n",
      "4.5% for 48 months, then 9.5%\n",
      " Total payments = $506321\n",
      "fixed, 7%\n",
      " Total payments = $443091\n",
      "fixed 5.0%, 3.25 points\n",
      " Total payments = $364023\n",
      "4.5% for 48 months, then 9.5%\n",
      " Total payments = $507933\n",
      "fixed, 7%\n",
      " Total payments = $444422\n",
      "fixed 5.0%, 3.25 points\n",
      " Total payments = $365096\n",
      "4.5% for 48 months, then 9.5%\n",
      " Total payments = $509544\n",
      "fixed, 7%\n",
      " Total payments = $445752\n",
      "fixed 5.0%, 3.25 points\n",
      " Total payments = $366170\n",
      "4.5% for 48 months, then 9.5%\n",
      " Total payments = $511156\n",
      "fixed, 7%\n",
      " Total payments = $447083\n",
      "fixed 5.0%, 3.25 points\n",
      " Total payments = $367244\n",
      "4.5% for 48 months, then 9.5%\n",
      " Total payments = $512767\n",
      "fixed, 7%\n",
      " Total payments = $448413\n",
      "fixed 5.0%, 3.25 points\n",
      " Total payments = $368317\n",
      "4.5% for 48 months, then 9.5%\n",
      " Total payments = $514379\n",
      "fixed, 7%\n",
      " Total payments = $449744\n",
      "fixed 5.0%, 3.25 points\n",
      " Total payments = $369391\n",
      "4.5% for 48 months, then 9.5%\n",
      " Total payments = $515990\n",
      "fixed, 7%\n",
      " Total payments = $451075\n",
      "fixed 5.0%, 3.25 points\n",
      " Total payments = $370465\n",
      "4.5% for 48 months, then 9.5%\n",
      " Total payments = $517602\n",
      "fixed, 7%\n",
      " Total payments = $452405\n",
      "fixed 5.0%, 3.25 points\n",
      " Total payments = $371538\n",
      "4.5% for 48 months, then 9.5%\n",
      " Total payments = $519213\n",
      "fixed, 7%\n",
      " Total payments = $453736\n",
      "fixed 5.0%, 3.25 points\n",
      " Total payments = $372612\n",
      "4.5% for 48 months, then 9.5%\n",
      " Total payments = $520825\n",
      "fixed, 7%\n",
      " Total payments = $455066\n",
      "fixed 5.0%, 3.25 points\n",
      " Total payments = $373685\n",
      "4.5% for 48 months, then 9.5%\n",
      " Total payments = $522437\n",
      "fixed, 7%\n",
      " Total payments = $456397\n",
      "fixed 5.0%, 3.25 points\n",
      " Total payments = $374759\n",
      "4.5% for 48 months, then 9.5%\n",
      " Total payments = $524048\n",
      "fixed, 7%\n",
      " Total payments = $457728\n",
      "fixed 5.0%, 3.25 points\n",
      " Total payments = $375833\n",
      "4.5% for 48 months, then 9.5%\n",
      " Total payments = $525660\n",
      "fixed, 7%\n",
      " Total payments = $459058\n",
      "fixed 5.0%, 3.25 points\n",
      " Total payments = $376906\n",
      "4.5% for 48 months, then 9.5%\n",
      " Total payments = $527271\n",
      "fixed, 7%\n",
      " Total payments = $460389\n",
      "fixed 5.0%, 3.25 points\n",
      " Total payments = $377980\n",
      "4.5% for 48 months, then 9.5%\n",
      " Total payments = $528883\n",
      "fixed, 7%\n",
      " Total payments = $461719\n",
      "fixed 5.0%, 3.25 points\n",
      " Total payments = $379054\n",
      "4.5% for 48 months, then 9.5%\n",
      " Total payments = $530494\n",
      "fixed, 7%\n",
      " Total payments = $463050\n",
      "fixed 5.0%, 3.25 points\n",
      " Total payments = $380127\n",
      "4.5% for 48 months, then 9.5%\n",
      " Total payments = $532106\n",
      "fixed, 7%\n",
      " Total payments = $464381\n",
      "fixed 5.0%, 3.25 points\n",
      " Total payments = $381201\n",
      "4.5% for 48 months, then 9.5%\n",
      " Total payments = $533717\n",
      "fixed, 7%\n",
      " Total payments = $465711\n",
      "fixed 5.0%, 3.25 points\n",
      " Total payments = $382275\n",
      "4.5% for 48 months, then 9.5%\n",
      " Total payments = $535329\n",
      "fixed, 7%\n",
      " Total payments = $467042\n",
      "fixed 5.0%, 3.25 points\n",
      " Total payments = $383348\n",
      "4.5% for 48 months, then 9.5%\n",
      " Total payments = $536940\n",
      "fixed, 7%\n",
      " Total payments = $468372\n",
      "fixed 5.0%, 3.25 points\n",
      " Total payments = $384422\n",
      "4.5% for 48 months, then 9.5%\n",
      " Total payments = $538552\n",
      "fixed, 7%\n",
      " Total payments = $469703\n",
      "fixed 5.0%, 3.25 points\n",
      " Total payments = $385496\n",
      "4.5% for 48 months, then 9.5%\n",
      " Total payments = $540164\n",
      "fixed, 7%\n",
      " Total payments = $471034\n",
      "fixed 5.0%, 3.25 points\n",
      " Total payments = $386569\n",
      "4.5% for 48 months, then 9.5%\n",
      " Total payments = $541775\n",
      "fixed, 7%\n",
      " Total payments = $472364\n",
      "fixed 5.0%, 3.25 points\n",
      " Total payments = $387643\n",
      "4.5% for 48 months, then 9.5%\n",
      " Total payments = $543387\n",
      "fixed, 7%\n",
      " Total payments = $473695\n",
      "fixed 5.0%, 3.25 points\n",
      " Total payments = $388716\n",
      "4.5% for 48 months, then 9.5%\n",
      " Total payments = $544998\n",
      "fixed, 7%\n",
      " Total payments = $475025\n",
      "fixed 5.0%, 3.25 points\n",
      " Total payments = $389790\n",
      "4.5% for 48 months, then 9.5%\n",
      " Total payments = $546610\n",
      "fixed, 7%\n",
      " Total payments = $476356\n",
      "fixed 5.0%, 3.25 points\n",
      " Total payments = $390864\n",
      "4.5% for 48 months, then 9.5%\n",
      " Total payments = $548221\n",
      "fixed, 7%\n",
      " Total payments = $477687\n",
      "fixed 5.0%, 3.25 points\n",
      " Total payments = $391937\n",
      "4.5% for 48 months, then 9.5%\n",
      " Total payments = $549833\n",
      "fixed, 7%\n",
      " Total payments = $479017\n",
      "fixed 5.0%, 3.25 points\n",
      " Total payments = $393011\n",
      "4.5% for 48 months, then 9.5%\n",
      " Total payments = $551444\n"
     ]
    }
   ],
   "source": [
    "compare_mortgages(amt=200000, years=30, fixed_rate=0.07,\n",
    "                 pts=3.25, pts_rate=0.05, var_rate1=0.045,\n",
    "                 var_rate2=0.095, var_months=48)"
   ]
  },
  {
   "cell_type": "markdown",
   "metadata": {},
   "source": [
    "Notice that we used the keywords rather than the positional arguments in the invocation of $\\text{compare_mortgages}$ because $\\text{compare_mortgages}$ has a large number of formal parameters and using keywords arguments makes it easier to ensure we are supplying the intended actual values to each of the parameters. "
   ]
  },
  {
   "cell_type": "markdown",
   "metadata": {},
   "source": [
    "### f) Method Resolution Order (MRO)\n",
    "The *mro* is a sequence that includes the class, its base classes, and the base classes of that base class and so on until reaching *object* which is the root class of all classes. The ordering is such that the class always appears before its parents and if there are multiple parents they keeps same order as the tuple of base classes. \n",
    "\n",
    "Lets take a look at the example below:"
   ]
  },
  {
   "cell_type": "code",
   "execution_count": 155,
   "metadata": {},
   "outputs": [],
   "source": [
    "class LoggingDict(dict):\n",
    "    def __setitem__(self, key, value):\n",
    "        logging.info('Setting to %r' % (key, value))\n",
    "        super().__setitem__(key, value)"
   ]
  },
  {
   "cell_type": "code",
   "execution_count": 156,
   "metadata": {},
   "outputs": [
    {
     "name": "stdout",
     "output_type": "stream",
     "text": [
      "(<class '__main__.LoggingDict'>, <class 'dict'>, <class 'object'>)\n"
     ]
    }
   ],
   "source": [
    "print(LoggingDict.__mro__)"
   ]
  },
  {
   "cell_type": "markdown",
   "metadata": {},
   "source": [
    "A benefit of indirection is that we don't have to specify the delegate class by name, if you edit the source code to switch to another base class or to some other mapping, the `super()` reference will automatically follow. The indirection depends on both the class where `super()` is called and on the instance's tree of ancestors. The first component is determined by source code for that class. \n",
    "\n",
    "Above, `super()` is called in the $\\text{LoggingDict.__}$$\\texttt{setitem}$__ method. Next we can create new subclass with a tree of ancestors. We can do this by constructing ordered dictionaries without modifying our existing classes."
   ]
  },
  {
   "cell_type": "markdown",
   "metadata": {},
   "source": [
    "### g)  Superclasses\n",
    "\n",
    "Super returns a proxy object that delegates method calls to a parent or sibling class. This is usefule for accessing inherited methods that have been overriden in a class. \n",
    "\n",
    "With single inheritance `super` can be used to refer to a parent class without naming them. \n",
    "\n",
    "Also, `super` can support multiple inheritance in a dynamic execution environment. \n"
   ]
  },
  {
   "cell_type": "code",
   "execution_count": null,
   "metadata": {},
   "outputs": [],
   "source": [
    "# This does the same thing as\n",
    "# super(self, C).method(arg)\n",
    "\n",
    "class C(B):\n",
    "    def method(self, arg):\n",
    "        super().method(arg)"
   ]
  },
  {
   "cell_type": "markdown",
   "metadata": {},
   "source": [
    "Am issue might be the need to match the calling signature of the parent class. One approach is to stick with two arguments, a key and value for methods. \n",
    "\n",
    "A more flexible approach is to have every method in ancestor tree of the object hierarchy cooperatively designed to accept keyword arguments and a keyword arguments dictionary, to remove any arguments that it needs, and forward the remaining arguments using `**kwds` eventually leaving the dictionary empty for the final call in the chain. \n",
    "\n",
    "Each level strips-off the keyword arguments that it needs so that the final empty dict. can be sent to a method that expects no arguments at all (for example $\\text{object.__}$$\\texttt{init}$__ will expect zero arguments)."
   ]
  },
  {
   "cell_type": "code",
   "execution_count": 157,
   "metadata": {},
   "outputs": [],
   "source": [
    "class Shape:\n",
    "    def __init__(self, shapename, **kwds):\n",
    "        self.shapename = shapename\n",
    "        super().__init__(**kwds)\n",
    "\n",
    "class ColoredShape(Shape):\n",
    "    def __init__(self, color, **kwds):\n",
    "        self.color = color\n",
    "        super().__init__(**kwds)"
   ]
  },
  {
   "cell_type": "code",
   "execution_count": 158,
   "metadata": {},
   "outputs": [],
   "source": [
    "cs = ColoredShape(color= 'red', shapename='circle')"
   ]
  },
  {
   "cell_type": "markdown",
   "metadata": {},
   "source": [
    "We have looked at strategies for getting the caller/callee arguments to match. Let's now make sure the target method exists. \n",
    "\n",
    "We know that an *object* has an `__init__` method and so any sequence of calls to `super().__init__` is guranteed to end with a call to $\\text{object.__}$$\\texttt{init}$__ since *object* is always the last class in the mro chain. We're guaranteed that the target of the supe call is guaranteed to exist and won't fail with an `AttributeError`. \n",
    "\n",
    "We can create a root class that is guaranteed to be called before *object* where the job of the root class is to eat the method call without making a forwarding call using super.\n",
    "\n",
    "$\\text{Root.draw}$ can employ defensive programming using an assertion to ensure that it isn't masking some other $\\text{draw()}$ method later in the chain. This can happen if the subclass erroneously incorporated a class that has a $\\text{draw}$ method but doesn't inherit from $\\text{Root}$."
   ]
  },
  {
   "cell_type": "code",
   "execution_count": 159,
   "metadata": {},
   "outputs": [],
   "source": [
    "class Root:\n",
    "    def draw(self):\n",
    "        # the delegation chain stops here\n",
    "        assert not hasattr(super(), 'draw')\n",
    "        \n",
    "class Shape(Root):\n",
    "    def __init__(self, shapename, **kwds):\n",
    "        self.shapename = shapename\n",
    "        super().__init__(**kwds)\n",
    "    def draw(self):\n",
    "        print('Drawing. Setting shape to:', self.shapename)\n",
    "        super().draw()\n",
    "        \n",
    "class ColoredShape(Shape):\n",
    "    def __init__(self, color, **kwds):\n",
    "        self.color = color\n",
    "        super().__init__(**kwds)\n",
    "    def draw(self):\n",
    "        print('Drawing. Setting color to:', self.color)\n",
    "        super().draw()"
   ]
  },
  {
   "cell_type": "code",
   "execution_count": 160,
   "metadata": {},
   "outputs": [
    {
     "name": "stdout",
     "output_type": "stream",
     "text": [
      "(<class '__main__.ColoredShape'>, <class '__main__.Shape'>, <class '__main__.Root'>, <class 'object'>)\n"
     ]
    }
   ],
   "source": [
    "print(ColoredShape.__mro__)"
   ]
  },
  {
   "cell_type": "code",
   "execution_count": 161,
   "metadata": {},
   "outputs": [
    {
     "name": "stdout",
     "output_type": "stream",
     "text": [
      "Drawing. Setting color to: blue\n",
      "Drawing. Setting shape to: square\n"
     ]
    }
   ],
   "source": [
    "cs = ColoredShape(color='blue', shapename='square')\n",
    "cs.draw()"
   ]
  },
  {
   "cell_type": "markdown",
   "metadata": {},
   "source": [
    "If subclasses want to inject other classes into the mro, those other classes also need to inherit from $\\text{Root}$ so that no path for calling $\\text{draw()}$ can reach object without having been stopped by $\\text{Root.draw}$. This should be clearly documented so that someone writing new cooperating classes will know to subclass from $\\text{Root}$."
   ]
  },
  {
   "cell_type": "code",
   "execution_count": null,
   "metadata": {},
   "outputs": [],
   "source": []
  }
 ],
 "metadata": {
  "kernelspec": {
   "display_name": "Python 3",
   "language": "python",
   "name": "python3"
  },
  "language_info": {
   "codemirror_mode": {
    "name": "ipython",
    "version": 3
   },
   "file_extension": ".py",
   "mimetype": "text/x-python",
   "name": "python",
   "nbconvert_exporter": "python",
   "pygments_lexer": "ipython3",
   "version": "3.6.5"
  }
 },
 "nbformat": 4,
 "nbformat_minor": 2
}
