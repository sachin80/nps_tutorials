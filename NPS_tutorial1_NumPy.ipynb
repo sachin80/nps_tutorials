{
 "cells": [
  {
   "cell_type": "markdown",
   "metadata": {},
   "source": [
    "# Tutorial 1 - NumPy"
   ]
  },
  {
   "cell_type": "markdown",
   "metadata": {},
   "source": [
    "### Python Arrays"
   ]
  },
  {
   "cell_type": "code",
   "execution_count": 1,
   "metadata": {},
   "outputs": [
    {
     "name": "stdout",
     "output_type": "stream",
     "text": [
      "First print output: [1, 2, 3, 4, 5, 6, 7, 8]\n",
      "Second print output: [1, 2, 3, 4, 1, 2, 3, 4]\n"
     ]
    }
   ],
   "source": [
    "# Python list is basically an array\n",
    "x = [1,2,3,4]\n",
    "y = [5,6,7,8]\n",
    "# Let's print x + y\n",
    "print('First print output:', x+y)\n",
    "# Let's print x*2\n",
    "print('Second print output:',x*2)"
   ]
  },
  {
   "cell_type": "code",
   "execution_count": 2,
   "metadata": {},
   "outputs": [
    {
     "ename": "TypeError",
     "evalue": "can only concatenate list (not \"int\") to list",
     "output_type": "error",
     "traceback": [
      "\u001b[0;31m---------------------------------------------------------------------------\u001b[0m",
      "\u001b[0;31mTypeError\u001b[0m                                 Traceback (most recent call last)",
      "\u001b[0;32m<ipython-input-2-2366097d8148>\u001b[0m in \u001b[0;36m<module>\u001b[0;34m()\u001b[0m\n\u001b[1;32m      1\u001b[0m \u001b[0;31m# You can't do the following with Python lists\u001b[0m\u001b[0;34m\u001b[0m\u001b[0;34m\u001b[0m\u001b[0m\n\u001b[0;32m----> 2\u001b[0;31m \u001b[0mx\u001b[0m \u001b[0;34m+\u001b[0m \u001b[0;36m10\u001b[0m\u001b[0;34m\u001b[0m\u001b[0m\n\u001b[0m",
      "\u001b[0;31mTypeError\u001b[0m: can only concatenate list (not \"int\") to list"
     ]
    }
   ],
   "source": [
    "# You can't do the following with Python lists\n",
    "x + 10"
   ]
  },
  {
   "cell_type": "markdown",
   "metadata": {},
   "source": [
    "### Numpy\n",
    "Numpy is a Python module (a library) that adds support for large, multi-dimensional arrays and matrices, along with a large collection of high-level mathematical functions to operate on these arrays in Python. Using NumPy in Python gives functionality comparable to MATLAB since they are both interpreted, and they both allow the user to write fast programs as long as most operations work on arrays or\n",
    "matrices instead of scalars.\n",
    "\n",
    "For Matlab users please also see the following:\n",
    "https://docs.scipy.org/doc/numpy-1.15.0/user/numpy-for-matlab-users.html"
   ]
  },
  {
   "cell_type": "code",
   "execution_count": 3,
   "metadata": {},
   "outputs": [],
   "source": [
    "# This is how you import a module.\n",
    "# np is used to shorten the name\n",
    "# Use module_name.function_name() to call specific NumPy methods in code\n",
    "import numpy as np"
   ]
  },
  {
   "cell_type": "markdown",
   "metadata": {},
   "source": [
    "In Python, the `import` statement creates a binding (a place in memory) for module `np`. To call functions that are defined in the module `np` we most use the \"dot notation.\" Below, we create a NumPy array `x` by calling\n",
    "\n",
    "`x = np.array([your list])`"
   ]
  },
  {
   "cell_type": "code",
   "execution_count": 13,
   "metadata": {},
   "outputs": [
    {
     "data": {
      "text/plain": [
       "array([1, 2, 3, 4])"
      ]
     },
     "execution_count": 13,
     "metadata": {},
     "output_type": "execute_result"
    }
   ],
   "source": [
    "# Let's assign arrays  to variables x,y using NumPy\n",
    "x = np.array([1,2,3,4])\n",
    "y = np.array([5,6,7,8])\n",
    "# Let's show the result of x\n",
    "x"
   ]
  },
  {
   "cell_type": "code",
   "execution_count": 17,
   "metadata": {},
   "outputs": [
    {
     "data": {
      "text/plain": [
       "array([11, 12, 13, 14])"
      ]
     },
     "execution_count": 17,
     "metadata": {},
     "output_type": "execute_result"
    }
   ],
   "source": [
    "# This perfroms element-wise addition\n",
    "x + 10"
   ]
  },
  {
   "cell_type": "code",
   "execution_count": 18,
   "metadata": {},
   "outputs": [
    {
     "data": {
      "text/plain": [
       "array([2, 4, 6, 8])"
      ]
     },
     "execution_count": 18,
     "metadata": {},
     "output_type": "execute_result"
    }
   ],
   "source": [
    "# This performs element-wise multiplication\n",
    "x*2"
   ]
  },
  {
   "cell_type": "code",
   "execution_count": 16,
   "metadata": {},
   "outputs": [
    {
     "data": {
      "text/plain": [
       "array([ 6,  8, 10, 12])"
      ]
     },
     "execution_count": 16,
     "metadata": {},
     "output_type": "execute_result"
    }
   ],
   "source": [
    "# Let's add both arrays \n",
    "x + y  # Same as [x[0] + y[0], ... ,x[3] + y[3]]"
   ]
  },
  {
   "cell_type": "code",
   "execution_count": 19,
   "metadata": {},
   "outputs": [
    {
     "data": {
      "text/plain": [
       "array([ 5, 12, 21, 32])"
      ]
     },
     "execution_count": 19,
     "metadata": {},
     "output_type": "execute_result"
    }
   ],
   "source": [
    "# Let's multipy both arrays \n",
    "x * y # Same as [x[0] * y[0], ... ,x[3] * y[3]]"
   ]
  },
  {
   "cell_type": "code",
   "execution_count": 20,
   "metadata": {},
   "outputs": [],
   "source": [
    "# Let's compute a polynomial \n",
    "def f(x):\n",
    "    return 3*x**2 - 2*x + 7"
   ]
  },
  {
   "cell_type": "code",
   "execution_count": 21,
   "metadata": {},
   "outputs": [
    {
     "data": {
      "text/plain": [
       "array([ 8, 15, 28, 47])"
      ]
     },
     "execution_count": 21,
     "metadata": {},
     "output_type": "execute_result"
    }
   ],
   "source": [
    "f(x)"
   ]
  },
  {
   "cell_type": "code",
   "execution_count": 57,
   "metadata": {},
   "outputs": [
    {
     "data": {
      "text/plain": [
       "array([[ 1,  2,  3,  4],\n",
       "       [ 5,  6,  7,  8],\n",
       "       [ 9, 10, 11, 12]])"
      ]
     },
     "execution_count": 57,
     "metadata": {},
     "output_type": "execute_result"
    }
   ],
   "source": [
    "# Let's create a multi-dimensional arrays with NumPy\n",
    "a = np.array([[1,2,3,4], [5,6,7,8],[9,10,11,12]])\n",
    "# The result is a 3 by 4 array\n",
    "a"
   ]
  },
  {
   "cell_type": "code",
   "execution_count": 58,
   "metadata": {},
   "outputs": [
    {
     "data": {
      "text/plain": [
       "7"
      ]
     },
     "execution_count": 58,
     "metadata": {},
     "output_type": "execute_result"
    }
   ],
   "source": [
    "# This selects row 1, column 2\n",
    "a[1,2]"
   ]
  },
  {
   "cell_type": "code",
   "execution_count": 59,
   "metadata": {},
   "outputs": [
    {
     "data": {
      "text/plain": [
       "array([5, 6, 7, 8])"
      ]
     },
     "execution_count": 59,
     "metadata": {},
     "output_type": "execute_result"
    }
   ],
   "source": [
    "# This selects row 1.\n",
    "# Note Python is zero based indexing\n",
    "a[1]"
   ]
  },
  {
   "cell_type": "code",
   "execution_count": 60,
   "metadata": {},
   "outputs": [
    {
     "data": {
      "text/plain": [
       "array([ 3,  7, 11])"
      ]
     },
     "execution_count": 60,
     "metadata": {},
     "output_type": "execute_result"
    }
   ],
   "source": [
    "# This selects column 2\n",
    "a[:, 2]"
   ]
  },
  {
   "cell_type": "code",
   "execution_count": 61,
   "metadata": {},
   "outputs": [
    {
     "data": {
      "text/plain": [
       "array([[ 6,  7],\n",
       "       [10, 11]])"
      ]
     },
     "execution_count": 61,
     "metadata": {},
     "output_type": "execute_result"
    }
   ],
   "source": [
    "# This will select rows 1 to but not including 3 and \n",
    "# columns 1 to but not including 3\n",
    "a[1:3, 1:3]"
   ]
  },
  {
   "cell_type": "code",
   "execution_count": 62,
   "metadata": {},
   "outputs": [
    {
     "data": {
      "text/plain": [
       "array([[ 1,  2,  3,  4],\n",
       "       [ 5, 16, 17,  8],\n",
       "       [ 9, 20, 21, 12]])"
      ]
     },
     "execution_count": 62,
     "metadata": {},
     "output_type": "execute_result"
    }
   ],
   "source": [
    "# This will select a subregion of a and change it\n",
    "a[1:3, 1:3] += 10\n",
    "a"
   ]
  },
  {
   "cell_type": "code",
   "execution_count": 63,
   "metadata": {},
   "outputs": [
    {
     "data": {
      "text/plain": [
       "array([[ 5, 16, 17,  8],\n",
       "       [ 9, 20, 21, 12]])"
      ]
     },
     "execution_count": 63,
     "metadata": {},
     "output_type": "execute_result"
    }
   ],
   "source": [
    "# This will select everything from row 1 onward\n",
    "a[1:]"
   ]
  },
  {
   "cell_type": "code",
   "execution_count": 64,
   "metadata": {},
   "outputs": [
    {
     "data": {
      "text/plain": [
       "array([[1, 2, 3, 4]])"
      ]
     },
     "execution_count": 64,
     "metadata": {},
     "output_type": "execute_result"
    }
   ],
   "source": [
    "# This will select everything up to row 1\n",
    "a[:1]"
   ]
  },
  {
   "cell_type": "code",
   "execution_count": 65,
   "metadata": {},
   "outputs": [
    {
     "data": {
      "text/plain": [
       "array([[ 1,  2,  3,  4],\n",
       "       [ 9, 20, 21, 12]])"
      ]
     },
     "execution_count": 65,
     "metadata": {},
     "output_type": "execute_result"
    }
   ],
   "source": [
    "# This will skip every other row \n",
    "a[::2]"
   ]
  },
  {
   "cell_type": "code",
   "execution_count": 66,
   "metadata": {},
   "outputs": [
    {
     "data": {
      "text/plain": [
       "array([[ 2,  3,  4],\n",
       "       [16, 17,  8],\n",
       "       [20, 21, 12]])"
      ]
     },
     "execution_count": 66,
     "metadata": {},
     "output_type": "execute_result"
    }
   ],
   "source": [
    "# This will select all the rows and columns from 1 onward\n",
    "a[:,1:]"
   ]
  },
  {
   "cell_type": "code",
   "execution_count": 139,
   "metadata": {},
   "outputs": [
    {
     "data": {
      "text/plain": [
       "matrix([[ 1, -2,  3],\n",
       "        [ 0,  4,  5],\n",
       "        [ 7,  8, -9]])"
      ]
     },
     "execution_count": 139,
     "metadata": {},
     "output_type": "execute_result"
    }
   ],
   "source": [
    "# NumPy also has a matrix object that follows linear algebra rules. \n",
    "m = np.matrix([[1,-2, 3],\n",
    "               [0, 4, 5],\n",
    "               [7, 8,-9]])\n",
    "m"
   ]
  },
  {
   "cell_type": "code",
   "execution_count": 140,
   "metadata": {},
   "outputs": [
    {
     "data": {
      "text/plain": [
       "matrix([[ 1,  0,  7],\n",
       "        [-2,  4,  8],\n",
       "        [ 3,  5, -9]])"
      ]
     },
     "execution_count": 140,
     "metadata": {},
     "output_type": "execute_result"
    }
   ],
   "source": [
    "# We can transpose m\n",
    "m.T"
   ]
  },
  {
   "cell_type": "markdown",
   "metadata": {},
   "source": [
    "### Shapes, dimensions, and axis. \n",
    "\n",
    "In NumPy each dimension is called an *axis*. The total number of dimensions(or axis) of an array is called it's *rank*. In the example above b is a 3 by 3 array and therefore it's rank 2. An array's tuple of axis lengths is called the *shape* of the array.\n",
    "\n",
    "Note: this definition is different than linear algebra since a 3 by 3 matrix can have a rank of 3. "
   ]
  },
  {
   "cell_type": "code",
   "execution_count": 141,
   "metadata": {},
   "outputs": [
    {
     "data": {
      "text/plain": [
       "array([[ 4,  5,  6],\n",
       "       [ 7,  8,  9],\n",
       "       [10, 11, 12]])"
      ]
     },
     "execution_count": 141,
     "metadata": {},
     "output_type": "execute_result"
    }
   ],
   "source": [
    "b = np.array([[ 4, 5, 6], \n",
    "              [ 7, 8, 9], \n",
    "              [10,11,12]])\n",
    "b"
   ]
  },
  {
   "cell_type": "code",
   "execution_count": 142,
   "metadata": {},
   "outputs": [
    {
     "data": {
      "text/plain": [
       "(3, 3)"
      ]
     },
     "execution_count": 142,
     "metadata": {},
     "output_type": "execute_result"
    }
   ],
   "source": [
    "# Let's look at the shape of b \n",
    "b.shape"
   ]
  },
  {
   "cell_type": "code",
   "execution_count": 143,
   "metadata": {},
   "outputs": [
    {
     "data": {
      "text/plain": [
       "2"
      ]
     },
     "execution_count": 143,
     "metadata": {},
     "output_type": "execute_result"
    }
   ],
   "source": [
    "# The number of dimensions or \"rank\" of b\n",
    "b.ndim"
   ]
  },
  {
   "cell_type": "code",
   "execution_count": 144,
   "metadata": {},
   "outputs": [
    {
     "data": {
      "text/plain": [
       "9"
      ]
     },
     "execution_count": 144,
     "metadata": {},
     "output_type": "execute_result"
    }
   ],
   "source": [
    "# The size is the total number of elements of b\n",
    "b.size"
   ]
  },
  {
   "cell_type": "code",
   "execution_count": 145,
   "metadata": {},
   "outputs": [
    {
     "data": {
      "text/plain": [
       "3"
      ]
     },
     "execution_count": 145,
     "metadata": {},
     "output_type": "execute_result"
    }
   ],
   "source": [
    "# This will give you the length of axis 0 or # of rows\n",
    "len(b)"
   ]
  },
  {
   "cell_type": "markdown",
   "metadata": {},
   "source": [
    "For 3 dimensional arrays, the depth dimension must be specified first in NumPy. Let's look at an example on why this is the case."
   ]
  },
  {
   "cell_type": "code",
   "execution_count": 158,
   "metadata": {},
   "outputs": [
    {
     "data": {
      "text/plain": [
       "array([[[0., 0., 0., 0.],\n",
       "        [0., 0., 0., 0.],\n",
       "        [0., 0., 0., 0.]],\n",
       "\n",
       "       [[0., 0., 0., 0.],\n",
       "        [0., 0., 0., 0.],\n",
       "        [0., 0., 0., 0.]]])"
      ]
     },
     "execution_count": 158,
     "metadata": {},
     "output_type": "execute_result"
    }
   ],
   "source": [
    "k = np.zeros((2,3,4))\n",
    "k"
   ]
  },
  {
   "cell_type": "code",
   "execution_count": 159,
   "metadata": {},
   "outputs": [
    {
     "data": {
      "text/plain": [
       "[[[0.0, 0.0, 0.0, 0.0], [0.0, 0.0, 0.0, 0.0], [0.0, 0.0, 0.0, 0.0]],\n",
       " [[0.0, 0.0, 0.0, 0.0], [0.0, 0.0, 0.0, 0.0], [0.0, 0.0, 0.0, 0.0]]]"
      ]
     },
     "execution_count": 159,
     "metadata": {},
     "output_type": "execute_result"
    }
   ],
   "source": [
    "# Let's define a Python list (3 brackets deep)\n",
    "l = [[[0., 0., 0., 0.],\n",
    "      [0., 0., 0., 0.],\n",
    "      [0., 0., 0., 0.]],\n",
    "     \n",
    "     [[0., 0., 0., 0.],\n",
    "      [0., 0., 0., 0.],\n",
    "      [0., 0., 0., 0.]]\n",
    "    ]\n",
    "l"
   ]
  },
  {
   "cell_type": "markdown",
   "metadata": {},
   "source": [
    "Above we get the first level of `l` has exactly 2 elements (just as the first dim on `k` which is 2 rows). \n",
    "\n",
    "Each of these in itself is a list with 3 elements, which is the second dim of `k` (3 columns).\n",
    "\n",
    "The lists that are the most deeply nested have 4 elements each, same as the third dim of `k`. \n",
    "\n",
    "This is essentially can be thought of a 4 stacked arrays of 2 rows and columns."
   ]
  },
  {
   "cell_type": "markdown",
   "metadata": {},
   "source": [
    "### Common functions\n",
    "\n",
    "When using a Jupyter Notebook we can always look at the header for a specific method by highlighting it and then pressing the hotkeys:\n",
    "\n",
    "`Shift + Tab`"
   ]
  },
  {
   "cell_type": "code",
   "execution_count": 75,
   "metadata": {},
   "outputs": [
    {
     "data": {
      "text/plain": [
       "array([[0., 0., 0., 0.],\n",
       "       [0., 0., 0., 0.],\n",
       "       [0., 0., 0., 0.]])"
      ]
     },
     "execution_count": 75,
     "metadata": {},
     "output_type": "execute_result"
    }
   ],
   "source": [
    "# Let's set a to a 3 by 4 array of zeros\n",
    "a = np.zeros((3,4))\n",
    "a"
   ]
  },
  {
   "cell_type": "code",
   "execution_count": 76,
   "metadata": {},
   "outputs": [
    {
     "data": {
      "text/plain": [
       "array([[1., 1., 1., 1.],\n",
       "       [1., 1., 1., 1.],\n",
       "       [1., 1., 1., 1.]])"
      ]
     },
     "execution_count": 76,
     "metadata": {},
     "output_type": "execute_result"
    }
   ],
   "source": [
    "# Let's set a to a 3 by 4 array of ones \n",
    "a = np.ones((3,4))\n",
    "a"
   ]
  },
  {
   "cell_type": "code",
   "execution_count": 77,
   "metadata": {},
   "outputs": [
    {
     "data": {
      "text/plain": [
       "array([ 0,  1,  2,  3,  4,  5,  6,  7,  8,  9, 10, 11])"
      ]
     },
     "execution_count": 77,
     "metadata": {},
     "output_type": "execute_result"
    }
   ],
   "source": [
    "# Let's set a to an 12-element array \n",
    "# with indices incremeted by\n",
    "a = np.arange(12)\n",
    "a"
   ]
  },
  {
   "cell_type": "code",
   "execution_count": 79,
   "metadata": {},
   "outputs": [
    {
     "data": {
      "text/plain": [
       "array([0.        , 0.33333333, 0.66666667, 1.        , 1.33333333,\n",
       "       1.66666667])"
      ]
     },
     "execution_count": 79,
     "metadata": {},
     "output_type": "execute_result"
    }
   ],
   "source": [
    "# Let's set a to an array that evenly distributed between\n",
    "# a max and min value with a specified size\n",
    "a = np.linspace(0,5/3, 6)\n",
    "# linspace(min, max, size)\n",
    "a"
   ]
  },
  {
   "cell_type": "code",
   "execution_count": 80,
   "metadata": {},
   "outputs": [
    {
     "data": {
      "text/plain": [
       "array([[ 0.43172945, -0.17629425,  0.06483866, -1.2012376 ],\n",
       "       [ 0.50343819, -0.4381214 ,  2.16523893,  1.44145005],\n",
       "       [ 1.20850245,  1.88568781,  0.73138613,  0.58734712]])"
      ]
     },
     "execution_count": 80,
     "metadata": {},
     "output_type": "execute_result"
    }
   ],
   "source": [
    "# Let's set r to a normally distributed 3 by 4 matrix\n",
    "r = np.random.randn(3,4)\n",
    "r"
   ]
  },
  {
   "cell_type": "code",
   "execution_count": 81,
   "metadata": {},
   "outputs": [
    {
     "data": {
      "text/plain": [
       "array([[0.40608926, 0.2437063 , 0.18260629, 0.11467866],\n",
       "       [0.36886164, 0.11921327, 0.38275333, 0.37289571],\n",
       "       [0.17970467, 0.27870242, 0.41956284, 0.23052329]])"
      ]
     },
     "execution_count": 81,
     "metadata": {},
     "output_type": "execute_result"
    }
   ],
   "source": [
    "# Let's set r to a uniformally distributed 3 by 4 matrix\n",
    "r = np.random.rand(3,4)\n",
    "r"
   ]
  },
  {
   "cell_type": "code",
   "execution_count": 82,
   "metadata": {},
   "outputs": [
    {
     "data": {
      "text/plain": [
       "array([[[ 0.,  0.,  0.,  0.,  0.,  0.,  0.,  0.,  0.,  0.],\n",
       "        [ 0.,  1.,  2.,  3.,  4.,  5.,  6.,  7.,  8.,  9.]],\n",
       "\n",
       "       [[ 1.,  1.,  1.,  1.,  1.,  1.,  1.,  1.,  1.,  1.],\n",
       "        [ 1.,  2.,  3.,  4.,  5.,  6.,  7.,  8.,  9., 10.]],\n",
       "\n",
       "       [[ 2.,  2.,  2.,  2.,  2.,  2.,  2.,  2.,  2.,  2.],\n",
       "        [ 2.,  3.,  4.,  5.,  6.,  7.,  8.,  9., 10., 11.]]])"
      ]
     },
     "execution_count": 82,
     "metadata": {},
     "output_type": "execute_result"
    }
   ],
   "source": [
    "# Let's create a function mapping and assingn to an\n",
    "# array with a shape of our choice\n",
    "\n",
    "# Let's first define the function\n",
    "def my_function(z,y,x):\n",
    "    return x*y + z\n",
    "\n",
    "# Let's use fromfunction to create a mapping \n",
    "# from my_function to a result that creates a\n",
    "# 3 by 2 by 10 array that depends on the x,y,z \n",
    "# coordinates of the array\n",
    "a = np.fromfunction(my_function, (3,2,10))\n",
    "a"
   ]
  },
  {
   "cell_type": "markdown",
   "metadata": {},
   "source": [
    "The above output is 3 by 2 by 10. Meaning 2 is the number of rows, 10 is the number of columns, and 3 is the depth of the array. The depth axis is always first in numpy for 3-dim arrays. "
   ]
  },
  {
   "cell_type": "code",
   "execution_count": 138,
   "metadata": {},
   "outputs": [
    {
     "name": "stdout",
     "output_type": "stream",
     "text": [
      "[ 0  1  2  3  4  5  6  7  8  9 10 11 12 13 14 15 16 17 18 19 20 21 22 23]\n",
      "Rank 1\n",
      "\n",
      "\n",
      "[[[ 0  1  2  3]\n",
      "  [ 4  5  6  7]\n",
      "  [ 8  9 10 11]]\n",
      "\n",
      " [[12 13 14 15]\n",
      "  [16 17 18 19]\n",
      "  [20 21 22 23]]]\n",
      "Rank 3\n"
     ]
    }
   ],
   "source": [
    "# We can also set the shape of an array\n",
    "g = np.arange(24)\n",
    "print(g)\n",
    "print('Rank', g.ndim)\n",
    "print('\\n')\n",
    "g.shape = (2,3,4)\n",
    "print(g)\n",
    "print('Rank',g.ndim)"
   ]
  },
  {
   "cell_type": "code",
   "execution_count": 92,
   "metadata": {},
   "outputs": [
    {
     "data": {
      "text/plain": [
       "array([ 0,  1,  2,  3,  4,  5,  6,  7,  8,  9, 10, 11, 12, 13, 14, 15, 16,\n",
       "       17, 18, 19, 20, 21, 22, 23])"
      ]
     },
     "execution_count": 92,
     "metadata": {},
     "output_type": "execute_result"
    }
   ],
   "source": [
    "# We can create a 1-dimensional 'view' of the array g\n",
    "g.ravel()"
   ]
  },
  {
   "cell_type": "code",
   "execution_count": 93,
   "metadata": {},
   "outputs": [
    {
     "data": {
      "text/plain": [
       "array([ 0,  1,  2,  3,  4,  5,  6,  7,  8,  9, 10, 11, 12, 13, 14, 15, 16,\n",
       "       17, 18, 19, 20, 21, 22, 23])"
      ]
     },
     "execution_count": 93,
     "metadata": {},
     "output_type": "execute_result"
    }
   ],
   "source": [
    "# We can create a 1-dimensional 'copy' of the array g\n",
    "g.flatten()"
   ]
  },
  {
   "cell_type": "markdown",
   "metadata": {},
   "source": [
    "`reshape()` is almost exactly like reshape in MatLab.\n",
    "The reshape function returns a new ndarray object pointing to the same data. "
   ]
  },
  {
   "cell_type": "code",
   "execution_count": 105,
   "metadata": {},
   "outputs": [
    {
     "data": {
      "text/plain": [
       "array([0, 1, 2, 3, 4, 5])"
      ]
     },
     "execution_count": 105,
     "metadata": {},
     "output_type": "execute_result"
    }
   ],
   "source": [
    "# Below is similar to range in Matlab\n",
    "c = np.arange(6)\n",
    "# The result should be an array of length 6 \n",
    "# Incremented by 1 and starting from 0\n",
    "c"
   ]
  },
  {
   "cell_type": "code",
   "execution_count": 106,
   "metadata": {},
   "outputs": [
    {
     "data": {
      "text/plain": [
       "array([0, 1, 2, 3, 4, 5])"
      ]
     },
     "execution_count": 106,
     "metadata": {},
     "output_type": "execute_result"
    }
   ],
   "source": [
    "# Let's reshape the above 1 by 6 array into a 3 by 2\n",
    "c.reshape(3,2) # Note this is in-place, return is void\n",
    "c"
   ]
  },
  {
   "cell_type": "code",
   "execution_count": 107,
   "metadata": {},
   "outputs": [
    {
     "data": {
      "text/plain": [
       "array([[0, 1],\n",
       "       [2, 3],\n",
       "       [4, 5]])"
      ]
     },
     "execution_count": 107,
     "metadata": {},
     "output_type": "execute_result"
    }
   ],
   "source": [
    "# Need to assign c.reshape()\n",
    "c = c.reshape(3,2)\n",
    "c"
   ]
  },
  {
   "cell_type": "code",
   "execution_count": 108,
   "metadata": {},
   "outputs": [
    {
     "data": {
      "text/plain": [
       "array([[0, 1, 2],\n",
       "       [3, 4, 5]])"
      ]
     },
     "execution_count": 108,
     "metadata": {},
     "output_type": "execute_result"
    }
   ],
   "source": [
    "# If we put a -1 as the arg then it will infer the size \n",
    "# of that dim from the other dim\n",
    "c = c.reshape(-1,3)\n",
    "c"
   ]
  },
  {
   "cell_type": "code",
   "execution_count": 109,
   "metadata": {},
   "outputs": [
    {
     "data": {
      "text/plain": [
       "array([[0, 1],\n",
       "       [2, 3],\n",
       "       [4, 5]])"
      ]
     },
     "execution_count": 109,
     "metadata": {},
     "output_type": "execute_result"
    }
   ],
   "source": [
    "# Again\n",
    "c = c.reshape(3, -1)\n",
    "c"
   ]
  },
  {
   "cell_type": "code",
   "execution_count": 110,
   "metadata": {},
   "outputs": [
    {
     "data": {
      "text/plain": [
       "array([[0, 2, 4],\n",
       "       [1, 3, 5]])"
      ]
     },
     "execution_count": 110,
     "metadata": {},
     "output_type": "execute_result"
    }
   ],
   "source": [
    "# Let's transpose c\n",
    "c = c.transpose()\n",
    "c"
   ]
  },
  {
   "cell_type": "code",
   "execution_count": 116,
   "metadata": {},
   "outputs": [
    {
     "data": {
      "text/plain": [
       "array([0, 2, 4, 1, 3, 5, 0, 0, 0, 2, 4, 1, 3, 5])"
      ]
     },
     "execution_count": 116,
     "metadata": {},
     "output_type": "execute_result"
    }
   ],
   "source": [
    "# np.r_ concatenates along the first dimension\n",
    "np.r_[c.flatten(), 0, 0, c.flatten()]"
   ]
  },
  {
   "cell_type": "code",
   "execution_count": 119,
   "metadata": {},
   "outputs": [
    {
     "data": {
      "text/plain": [
       "array([[0, 2, 4],\n",
       "       [1, 3, 5]])"
      ]
     },
     "execution_count": 119,
     "metadata": {},
     "output_type": "execute_result"
    }
   ],
   "source": [
    "c"
   ]
  },
  {
   "cell_type": "code",
   "execution_count": 120,
   "metadata": {},
   "outputs": [
    {
     "data": {
      "text/plain": [
       "array([[0., 0., 0., 0.],\n",
       "       [2., 0., 0., 2.],\n",
       "       [4., 0., 0., 4.],\n",
       "       [1., 0., 0., 1.],\n",
       "       [3., 0., 0., 3.],\n",
       "       [5., 0., 0., 5.]])"
      ]
     },
     "execution_count": 120,
     "metadata": {},
     "output_type": "execute_result"
    }
   ],
   "source": [
    "# np.c_ concatenates along the second dimension\n",
    "np.c_[c.flatten(), np.zeros(6), np.zeros(6), c.flatten()]"
   ]
  },
  {
   "cell_type": "code",
   "execution_count": 135,
   "metadata": {},
   "outputs": [
    {
     "name": "stdout",
     "output_type": "stream",
     "text": [
      "xx size is 100 ; yy size is 100\n"
     ]
    }
   ],
   "source": [
    "# meshgrid is useful for evaluating functions on a grid\n",
    "x = np.arange(-5, 5, .1)\n",
    "y = np.arange(-5, 5, .1)\n",
    "xx, yy = np.meshgrid(x, y, sparse=True)\n",
    "print('xx size is',xx.size,'; yy size is',yy.size)\n",
    "z = np.sin(xx**2 + yy**2) / (xx**2 + yy**2)"
   ]
  },
  {
   "cell_type": "code",
   "execution_count": 140,
   "metadata": {},
   "outputs": [
    {
     "data": {
      "text/plain": [
       "array([[ 1.,  2.],\n",
       "       [nan,  3.],\n",
       "       [nan, nan]])"
      ]
     },
     "execution_count": 140,
     "metadata": {},
     "output_type": "execute_result"
    }
   ],
   "source": [
    "# NaN\n",
    "x = np.array([[1.,2.], [np.nan, 3.],[np.nan,np.nan]])\n",
    "x"
   ]
  },
  {
   "cell_type": "code",
   "execution_count": 141,
   "metadata": {},
   "outputs": [
    {
     "data": {
      "text/plain": [
       "array([1., 2., 3.])"
      ]
     },
     "execution_count": 141,
     "metadata": {},
     "output_type": "execute_result"
    }
   ],
   "source": [
    "# Filter out use isnan()\n",
    "x[~np.isnan(x)]"
   ]
  },
  {
   "cell_type": "code",
   "execution_count": 144,
   "metadata": {},
   "outputs": [
    {
     "data": {
      "text/plain": [
       "array([[[0., 1.],\n",
       "        [2., 3.]],\n",
       "\n",
       "       [[4., 5.],\n",
       "        [6., 7.]]])"
      ]
     },
     "execution_count": 144,
     "metadata": {},
     "output_type": "execute_result"
    }
   ],
   "source": [
    "# Split arrays\n",
    "x = np.arange(8.0).reshape(2, 2, 2)\n",
    "x"
   ]
  },
  {
   "cell_type": "code",
   "execution_count": 145,
   "metadata": {},
   "outputs": [
    {
     "data": {
      "text/plain": [
       "[array([[[0., 1.]],\n",
       " \n",
       "        [[4., 5.]]]), array([[[2., 3.]],\n",
       " \n",
       "        [[6., 7.]]])]"
      ]
     },
     "execution_count": 145,
     "metadata": {},
     "output_type": "execute_result"
    }
   ],
   "source": [
    "# Let's split the array horizontally about the second axis\n",
    "np.hsplit(x, 2)"
   ]
  },
  {
   "cell_type": "code",
   "execution_count": 146,
   "metadata": {},
   "outputs": [
    {
     "data": {
      "text/plain": [
       "[array([[[0., 1.],\n",
       "         [2., 3.]]]), array([[[4., 5.],\n",
       "         [6., 7.]]])]"
      ]
     },
     "execution_count": 146,
     "metadata": {},
     "output_type": "execute_result"
    }
   ],
   "source": [
    "# Let's split vertically about the second axis\n",
    "np.vsplit(x, 2)"
   ]
  },
  {
   "cell_type": "code",
   "execution_count": 147,
   "metadata": {},
   "outputs": [
    {
     "data": {
      "text/plain": [
       "[array([[[0., 1.],\n",
       "         [2., 3.]]]), array([[[4., 5.],\n",
       "         [6., 7.]]]), array([], shape=(0, 2, 2), dtype=float64)]"
      ]
     },
     "execution_count": 147,
     "metadata": {},
     "output_type": "execute_result"
    }
   ],
   "source": [
    "# We also use this which will split the array into\n",
    "# a array with subarray of equal size \n",
    "np.array_split(x, 3)"
   ]
  },
  {
   "cell_type": "markdown",
   "metadata": {},
   "source": [
    "### Universal Functions\n",
    "\n",
    "On ndarrays universal functions can accept an axis as an optional argument. \n"
   ]
  },
  {
   "cell_type": "code",
   "execution_count": 24,
   "metadata": {},
   "outputs": [
    {
     "data": {
      "text/plain": [
       "array([[0, 1],\n",
       "       [2, 3]])"
      ]
     },
     "execution_count": 24,
     "metadata": {},
     "output_type": "execute_result"
    }
   ],
   "source": [
    "# We can combine method calls using the dot notation\n",
    "position = np.arange(4).reshape(2,2)\n",
    "position"
   ]
  },
  {
   "cell_type": "markdown",
   "metadata": {},
   "source": [
    "We will see a lot of assignments like shown above where the first call (after the first dot) creates a 4 element NumPy array (or an array of some shape) and then a second call (after the second dot) where we call  a function that does something to the array. Here we are changing the shape of the array."
   ]
  },
  {
   "cell_type": "code",
   "execution_count": 25,
   "metadata": {},
   "outputs": [
    {
     "data": {
      "text/plain": [
       "array([2, 4])"
      ]
     },
     "execution_count": 25,
     "metadata": {},
     "output_type": "execute_result"
    }
   ],
   "source": [
    "# The universal function sum can have an axis as an arg\n",
    "position.sum(axis = 0) # sum across the rows"
   ]
  },
  {
   "cell_type": "code",
   "execution_count": 27,
   "metadata": {},
   "outputs": [
    {
     "data": {
      "text/plain": [
       "array([1, 5])"
      ]
     },
     "execution_count": 27,
     "metadata": {},
     "output_type": "execute_result"
    }
   ],
   "source": [
    "position.sum(axis = 1) # sum across columns"
   ]
  },
  {
   "cell_type": "markdown",
   "metadata": {},
   "source": [
    "Universal functions can also take the form `ufunc.outer(A,B)` where the ufunc operation will be applied to all pairs (a,b) with a in A and b in B (because of `outer`). \n",
    "\n",
    "For more information on the universal functions that exist in NumPy please visit\n",
    "\n",
    "https://docs.scipy.org/doc/numpy-1.15.0/reference/ufuncs.htmlm"
   ]
  },
  {
   "cell_type": "code",
   "execution_count": 30,
   "metadata": {},
   "outputs": [
    {
     "data": {
      "text/plain": [
       "array([0, 2])"
      ]
     },
     "execution_count": 30,
     "metadata": {},
     "output_type": "execute_result"
    }
   ],
   "source": [
    "# This is all our positions along x axis\n",
    "position[:,0]"
   ]
  },
  {
   "cell_type": "code",
   "execution_count": 32,
   "metadata": {},
   "outputs": [
    {
     "data": {
      "text/plain": [
       "array([1, 3])"
      ]
     },
     "execution_count": 32,
     "metadata": {},
     "output_type": "execute_result"
    }
   ],
   "source": [
    "# This is all our positions along the y axis\n",
    "position[:,1]"
   ]
  },
  {
   "cell_type": "code",
   "execution_count": 34,
   "metadata": {},
   "outputs": [
    {
     "name": "stdout",
     "output_type": "stream",
     "text": [
      "[[ 0 -2]\n",
      " [ 2  0]]\n",
      "[[ 0 -2]\n",
      " [ 2  0]]\n"
     ]
    }
   ],
   "source": [
    "# The universal function is subtract here applied to (A,B)\n",
    "# np.subtract.outer([a1, a2], [b1, b2])\n",
    "# The return we get is     [[a1-b1, a1-b2]\n",
    "#                           [a2-b1, a2-b2]]\n",
    "dx = np.subtract.outer(position[:,0], position[:,0])\n",
    "print(dx)\n",
    "dy = np.subtract.outer(position[:,1], position[:,1])\n",
    "print(dy)"
   ]
  },
  {
   "cell_type": "code",
   "execution_count": 35,
   "metadata": {},
   "outputs": [
    {
     "data": {
      "text/plain": [
       "array([[0.        , 2.82842712],\n",
       "       [2.82842712, 0.        ]])"
      ]
     },
     "execution_count": 35,
     "metadata": {},
     "output_type": "execute_result"
    }
   ],
   "source": [
    "# Let's find the distance\n",
    "distance = np.hypot(dx, dy)\n",
    "distance"
   ]
  },
  {
   "cell_type": "code",
   "execution_count": 44,
   "metadata": {},
   "outputs": [
    {
     "name": "stdout",
     "output_type": "stream",
     "text": [
      "[[0 1]\n",
      " [2 3]]\n"
     ]
    },
    {
     "data": {
      "text/plain": [
       "array([[0, 1],\n",
       "       [4, 9]])"
      ]
     },
     "execution_count": 44,
     "metadata": {},
     "output_type": "execute_result"
    }
   ],
   "source": [
    "print(position)\n",
    "position*position"
   ]
  },
  {
   "cell_type": "code",
   "execution_count": 45,
   "metadata": {},
   "outputs": [
    {
     "data": {
      "text/plain": [
       "array([1., 5.])"
      ]
     },
     "execution_count": 45,
     "metadata": {},
     "output_type": "execute_result"
    }
   ],
   "source": [
    "# Let's normalize the position\n",
    "norm = np.sqrt(position*position).sum(axis=1).reshape(len(position))\n",
    "norm"
   ]
  },
  {
   "cell_type": "markdown",
   "metadata": {},
   "source": [
    "### Iterating \n",
    "\n",
    "Before going over iterating over ndarrays let's quickly review `for` loops in Python. "
   ]
  },
  {
   "cell_type": "markdown",
   "metadata": {},
   "source": [
    "The `range()` function in Python is a built-in function used to generate a sequence of numbers over time. At its simplest, it accepts an integer and returns a range object (a type of iterable). If in line with a `for` statement then the `range()` function is evaluated just before the first iteration of the loop and no reevaluated. It just keeps track of the last number and the step size to provide a flow of numbers."
   ]
  },
  {
   "cell_type": "code",
   "execution_count": 74,
   "metadata": {},
   "outputs": [
    {
     "data": {
      "text/plain": [
       "range(0, 4)"
      ]
     },
     "execution_count": 74,
     "metadata": {},
     "output_type": "execute_result"
    }
   ],
   "source": [
    "# This returns a range object called a \"iterable\" in Python\n",
    "# Which is a handy way of storing large data that\n",
    "# are ready to be iterated over. \n",
    "i = range(4)\n",
    "i"
   ]
  },
  {
   "cell_type": "code",
   "execution_count": 75,
   "metadata": {},
   "outputs": [
    {
     "data": {
      "text/plain": [
       "[0, 1, 2, 3]"
      ]
     },
     "execution_count": 75,
     "metadata": {},
     "output_type": "execute_result"
    }
   ],
   "source": [
    "# What is the above range\n",
    "# We can see what it is by changing it to a list object\n",
    "list(i)"
   ]
  },
  {
   "cell_type": "code",
   "execution_count": 72,
   "metadata": {},
   "outputs": [
    {
     "name": "stdout",
     "output_type": "stream",
     "text": [
      "0\n",
      "1\n",
      "2\n",
      "3\n"
     ]
    }
   ],
   "source": [
    "# We can see that changing the value of x inside the loop \n",
    "# does not affect the number of iterations\n",
    "x = 4\n",
    "for i in range(x):\n",
    "    print(i)\n",
    "    x = 5"
   ]
  },
  {
   "cell_type": "markdown",
   "metadata": {},
   "source": [
    "Note that above the `i` that is used in the `for` loop can be thought of a variable that will be bound to each element in the sequence (or get the same location in memory that is occupied by the element in the sequence) resulting from `range()`. We can then use `i` to continuously perform operations. "
   ]
  },
  {
   "cell_type": "code",
   "execution_count": 76,
   "metadata": {},
   "outputs": [
    {
     "name": "stdout",
     "output_type": "stream",
     "text": [
      "0\n",
      "1\n",
      "2\n",
      "3\n",
      "0\n",
      "1\n",
      "0\n",
      "1\n",
      "0\n",
      "1\n"
     ]
    }
   ],
   "source": [
    "# The outer loop range is evaluated only once. \n",
    "# The inner loop is evaluated each time the inner for\n",
    "# statement is reached. \n",
    "x = 4\n",
    "for j in range(x):\n",
    "    for i in range(x):\n",
    "        print(i)\n",
    "        x = 2"
   ]
  },
  {
   "cell_type": "markdown",
   "metadata": {},
   "source": [
    "Let's now start iterating over arrays. "
   ]
  },
  {
   "cell_type": "code",
   "execution_count": 46,
   "metadata": {},
   "outputs": [
    {
     "data": {
      "text/plain": [
       "array([[[ 0,  1,  2,  3],\n",
       "        [ 4,  5,  6,  7],\n",
       "        [ 8,  9, 10, 11]],\n",
       "\n",
       "       [[12, 13, 14, 15],\n",
       "        [16, 17, 18, 19],\n",
       "        [20, 21, 22, 23]]])"
      ]
     },
     "execution_count": 46,
     "metadata": {},
     "output_type": "execute_result"
    }
   ],
   "source": [
    "# Let's first create a rank 3 NumPy array\n",
    "c = np.arange(24).reshape(2,3,4) \n",
    "c"
   ]
  },
  {
   "cell_type": "code",
   "execution_count": 69,
   "metadata": {},
   "outputs": [
    {
     "name": "stdout",
     "output_type": "stream",
     "text": [
      "Output for (1, 3, 4) \n",
      "[[ 0  1  2  3]\n",
      " [ 4  5  6  7]\n",
      " [ 8  9 10 11]]\n",
      "Output for (2, 3, 4) \n",
      "[[12 13 14 15]\n",
      " [16 17 18 19]\n",
      " [20 21 22 23]]\n"
     ]
    }
   ],
   "source": [
    "# Let's iterate over the multi-dim array\n",
    "count = 0\n",
    "for m in c:\n",
    "    count += 1\n",
    "    print('Output for (' + str(count) + ', 3, 4) ')\n",
    "    print(m)"
   ]
  },
  {
   "cell_type": "code",
   "execution_count": 68,
   "metadata": {},
   "outputs": [
    {
     "data": {
      "text/plain": [
       "True"
      ]
     },
     "execution_count": 68,
     "metadata": {},
     "output_type": "execute_result"
    }
   ],
   "source": [
    "# Note that len(c) == c.shape[0]\n",
    "len(c) == c.shape[0]"
   ]
  },
  {
   "cell_type": "code",
   "execution_count": 71,
   "metadata": {},
   "outputs": [
    {
     "name": "stdout",
     "output_type": "stream",
     "text": [
      "Output for (0, 3, 4) \n",
      "[[ 0  1  2  3]\n",
      " [ 4  5  6  7]\n",
      " [ 8  9 10 11]]\n",
      "Output for (1, 3, 4) \n",
      "[[12 13 14 15]\n",
      " [16 17 18 19]\n",
      " [20 21 22 23]]\n"
     ]
    }
   ],
   "source": [
    "for l in range(len(c)):\n",
    "    print('Output for (' + str(l) + ', 3, 4) ')\n",
    "    print(c[l])"
   ]
  },
  {
   "cell_type": "code",
   "execution_count": 78,
   "metadata": {},
   "outputs": [
    {
     "name": "stdout",
     "output_type": "stream",
     "text": [
      "Output: 0\n",
      "Output: 1\n",
      "Output: 2\n",
      "Output: 3\n",
      "Output: 4\n",
      "Output: 5\n",
      "Output: 6\n",
      "Output: 7\n",
      "Output: 8\n",
      "Output: 9\n",
      "Output: 10\n",
      "Output: 11\n",
      "Output: 12\n",
      "Output: 13\n",
      "Output: 14\n",
      "Output: 15\n",
      "Output: 16\n",
      "Output: 17\n",
      "Output: 18\n",
      "Output: 19\n",
      "Output: 20\n",
      "Output: 21\n",
      "Output: 22\n",
      "Output: 23\n"
     ]
    }
   ],
   "source": [
    "# print out all elements of the ndarray we first need to \n",
    "# flatten the array \n",
    "for l in c.flat:\n",
    "    print(\"Output:\", l)"
   ]
  },
  {
   "cell_type": "markdown",
   "metadata": {},
   "source": [
    "### Stacking arrays\n",
    "\n",
    "We can also stack (concatenate) arrays in NumPy. "
   ]
  },
  {
   "cell_type": "code",
   "execution_count": 79,
   "metadata": {},
   "outputs": [
    {
     "data": {
      "text/plain": [
       "array([[1., 1., 1., 1.],\n",
       "       [1., 1., 1., 1.],\n",
       "       [1., 1., 1., 1.]])"
      ]
     },
     "execution_count": 79,
     "metadata": {},
     "output_type": "execute_result"
    }
   ],
   "source": [
    "# Using full(shape, fill_value) wlll create an array \n",
    "# with the given shape and fill_value\n",
    "q1 = np.full((3,4), 1.0)\n",
    "q1"
   ]
  },
  {
   "cell_type": "code",
   "execution_count": 80,
   "metadata": {},
   "outputs": [
    {
     "data": {
      "text/plain": [
       "array([[2., 2., 2., 2.],\n",
       "       [2., 2., 2., 2.],\n",
       "       [2., 2., 2., 2.],\n",
       "       [2., 2., 2., 2.]])"
      ]
     },
     "execution_count": 80,
     "metadata": {},
     "output_type": "execute_result"
    }
   ],
   "source": [
    "q2 = np.full((4,4), 2.0)\n",
    "q2"
   ]
  },
  {
   "cell_type": "code",
   "execution_count": 83,
   "metadata": {},
   "outputs": [
    {
     "data": {
      "text/plain": [
       "array([[1., 1., 1., 1.],\n",
       "       [1., 1., 1., 1.],\n",
       "       [1., 1., 1., 1.],\n",
       "       [2., 2., 2., 2.],\n",
       "       [2., 2., 2., 2.],\n",
       "       [2., 2., 2., 2.],\n",
       "       [2., 2., 2., 2.]])"
      ]
     },
     "execution_count": 83,
     "metadata": {},
     "output_type": "execute_result"
    }
   ],
   "source": [
    "# Let's stack the array vertically \n",
    "# The number of columns of both the arrays must be equal\n",
    "q3 = np.vstack([q1, q2])\n",
    "q3"
   ]
  },
  {
   "cell_type": "code",
   "execution_count": 84,
   "metadata": {},
   "outputs": [
    {
     "data": {
      "text/plain": [
       "array([[1., 1., 1., 1., 1., 1., 1., 1.],\n",
       "       [1., 1., 1., 1., 1., 1., 1., 1.],\n",
       "       [1., 1., 1., 1., 1., 1., 1., 1.],\n",
       "       [2., 2., 2., 2., 2., 2., 2., 2.],\n",
       "       [2., 2., 2., 2., 2., 2., 2., 2.],\n",
       "       [2., 2., 2., 2., 2., 2., 2., 2.],\n",
       "       [2., 2., 2., 2., 2., 2., 2., 2.]])"
      ]
     },
     "execution_count": 84,
     "metadata": {},
     "output_type": "execute_result"
    }
   ],
   "source": [
    "# We can also do a horizontal stack\n",
    "# The number of rows must be equal\n",
    "q4 = np.hstack([q3, q3])\n",
    "q4"
   ]
  },
  {
   "cell_type": "code",
   "execution_count": 85,
   "metadata": {},
   "outputs": [
    {
     "data": {
      "text/plain": [
       "array([[1., 1., 1., 1.],\n",
       "       [1., 1., 1., 1.],\n",
       "       [1., 1., 1., 1.],\n",
       "       [2., 2., 2., 2.],\n",
       "       [2., 2., 2., 2.],\n",
       "       [2., 2., 2., 2.],\n",
       "       [2., 2., 2., 2.]])"
      ]
     },
     "execution_count": 85,
     "metadata": {},
     "output_type": "execute_result"
    }
   ],
   "source": [
    "# The concatenate function can work along any existing axis\n",
    "q5 = np.concatenate([q1, q2], axis=0)\n",
    "q5"
   ]
  },
  {
   "cell_type": "code",
   "execution_count": 87,
   "metadata": {},
   "outputs": [
    {
     "data": {
      "text/plain": [
       "array([[[1., 1., 1., 1.],\n",
       "        [1., 1., 1., 1.],\n",
       "        [1., 1., 1., 1.],\n",
       "        [2., 2., 2., 2.],\n",
       "        [2., 2., 2., 2.],\n",
       "        [2., 2., 2., 2.],\n",
       "        [2., 2., 2., 2.]],\n",
       "\n",
       "       [[1., 1., 1., 1.],\n",
       "        [1., 1., 1., 1.],\n",
       "        [1., 1., 1., 1.],\n",
       "        [2., 2., 2., 2.],\n",
       "        [2., 2., 2., 2.],\n",
       "        [2., 2., 2., 2.],\n",
       "        [2., 2., 2., 2.]]])"
      ]
     },
     "execution_count": 87,
     "metadata": {},
     "output_type": "execute_result"
    }
   ],
   "source": [
    "# The stack function will stack along a new axis\n",
    "# The array has to be the same shape\n",
    "q6 = np.stack([q3, q5])\n",
    "q6"
   ]
  },
  {
   "cell_type": "markdown",
   "metadata": {},
   "source": [
    "### Memory and Datatypes\n",
    "*dtype* describes a single item in the array\n",
    "\n",
    " - type **scalar type** of the data one of:\n",
    "   int8 to float64\n",
    "   str, unicode, void (flexible size)\n",
    " - itemsize **size** of data block\n",
    " - byteorder big-endian is >| , little-endian is <|, native to system is =, and not applicable is |"
   ]
  },
  {
   "cell_type": "code",
   "execution_count": 104,
   "metadata": {},
   "outputs": [
    {
     "data": {
      "text/plain": [
       "array([1., 2., 3., 4.])"
      ]
     },
     "execution_count": 104,
     "metadata": {},
     "output_type": "execute_result"
    }
   ],
   "source": [
    "# We can specify the type of any array with dtype\n",
    "d = np.array([1, 2, 3, 4], dtype = np.float)\n",
    "d"
   ]
  },
  {
   "cell_type": "code",
   "execution_count": 105,
   "metadata": {},
   "outputs": [
    {
     "data": {
      "text/plain": [
       "dtype('float64')"
      ]
     },
     "execution_count": 105,
     "metadata": {},
     "output_type": "execute_result"
    }
   ],
   "source": [
    "# Let's check the type of the array\n",
    "d.dtype"
   ]
  },
  {
   "cell_type": "code",
   "execution_count": 100,
   "metadata": {},
   "outputs": [
    {
     "data": {
      "text/plain": [
       "8"
      ]
     },
     "execution_count": 100,
     "metadata": {},
     "output_type": "execute_result"
    }
   ],
   "source": [
    "# Let's check the number of bytes \n",
    "d.itemsize"
   ]
  },
  {
   "cell_type": "code",
   "execution_count": 101,
   "metadata": {},
   "outputs": [
    {
     "data": {
      "text/plain": [
       "<memory at 0x106f6ce88>"
      ]
     },
     "execution_count": 101,
     "metadata": {},
     "output_type": "execute_result"
    }
   ],
   "source": [
    "# Let's check the memory location\n",
    "d.data"
   ]
  },
  {
   "cell_type": "code",
   "execution_count": 102,
   "metadata": {},
   "outputs": [
    {
     "data": {
      "text/plain": [
       "b'\\x00\\x00\\x00\\x00\\x00\\x00\\xf0?\\x00\\x00\\x00\\x00\\x00\\x00\\x00@\\x00\\x00\\x00\\x00\\x00\\x00\\x08@\\x00\\x00\\x00\\x00\\x00\\x00\\x10@'"
      ]
     },
     "execution_count": 102,
     "metadata": {},
     "output_type": "execute_result"
    }
   ],
   "source": [
    "# Let's check the binary representation \n",
    "bytes(d.data)"
   ]
  },
  {
   "cell_type": "code",
   "execution_count": 103,
   "metadata": {},
   "outputs": [
    {
     "data": {
      "text/plain": [
       "'='"
      ]
     },
     "execution_count": 103,
     "metadata": {},
     "output_type": "execute_result"
    }
   ],
   "source": [
    "# Let's check the byteorder\n",
    "d.dtype.byteorder"
   ]
  },
  {
   "cell_type": "code",
   "execution_count": 92,
   "metadata": {},
   "outputs": [],
   "source": [
    "# Let's cast the above array to an integer of 1 byte\n",
    "d =  d.astype(np.int8)"
   ]
  },
  {
   "cell_type": "code",
   "execution_count": 93,
   "metadata": {},
   "outputs": [
    {
     "data": {
      "text/plain": [
       "1"
      ]
     },
     "execution_count": 93,
     "metadata": {},
     "output_type": "execute_result"
    }
   ],
   "source": [
    "# Let's check the number of bytes\n",
    "d.itemsize"
   ]
  },
  {
   "cell_type": "code",
   "execution_count": 94,
   "metadata": {},
   "outputs": [
    {
     "data": {
      "text/plain": [
       "<memory at 0x106f6cd08>"
      ]
     },
     "execution_count": 94,
     "metadata": {},
     "output_type": "execute_result"
    }
   ],
   "source": [
    "# Let's check the memory location\n",
    "d.data"
   ]
  },
  {
   "cell_type": "code",
   "execution_count": 95,
   "metadata": {},
   "outputs": [
    {
     "data": {
      "text/plain": [
       "b'\\x01\\x02\\x03\\x04'"
      ]
     },
     "execution_count": 95,
     "metadata": {},
     "output_type": "execute_result"
    }
   ],
   "source": [
    "# Let's check the binary rep\n",
    "bytes(d.data)"
   ]
  },
  {
   "cell_type": "markdown",
   "metadata": {},
   "source": [
    "### Strides\n",
    "Let's look at the way in which NumPy performs indexing. "
   ]
  },
  {
   "cell_type": "code",
   "execution_count": 169,
   "metadata": {},
   "outputs": [
    {
     "data": {
      "text/plain": [
       "array([[1, 2, 3],\n",
       "       [4, 5, 6],\n",
       "       [7, 8, 9]], dtype=int8)"
      ]
     },
     "execution_count": 169,
     "metadata": {},
     "output_type": "execute_result"
    }
   ],
   "source": [
    "x = np.array([[1, 2, 3], \n",
    "              [4, 5, 6],\n",
    "              [7, 8, 9]], dtype = np.int8)\n",
    "x"
   ]
  },
  {
   "cell_type": "code",
   "execution_count": 170,
   "metadata": {},
   "outputs": [
    {
     "data": {
      "text/plain": [
       "b'\\x01\\x02\\x03\\x04\\x05\\x06\\x07\\x08\\t'"
      ]
     },
     "execution_count": 170,
     "metadata": {},
     "output_type": "execute_result"
    }
   ],
   "source": [
    "bytes(x.data)"
   ]
  },
  {
   "cell_type": "markdown",
   "metadata": {},
   "source": [
    "A which byte above does the item `x[1,2]` begin?\n",
    "\n",
    "To answer this we must consider **strides**. Strides are the number of bytes to jump to find the next element in data. In Python there is 1 stride per jump per dimension. "
   ]
  },
  {
   "cell_type": "code",
   "execution_count": 146,
   "metadata": {},
   "outputs": [
    {
     "data": {
      "text/plain": [
       "(3, 1)"
      ]
     },
     "execution_count": 146,
     "metadata": {},
     "output_type": "execute_result"
    }
   ],
   "source": [
    "# Let's look at the strides for x\n",
    "x.strides"
   ]
  },
  {
   "cell_type": "markdown",
   "metadata": {},
   "source": [
    "In above cell results in the tuple `(3,1)`. Here 3 corresponds to the number of bytes that must be moved in the first dimension (along the rows). The second element 1 corresponds to the number of bytes to jump in the second dimension. "
   ]
  },
  {
   "cell_type": "code",
   "execution_count": 148,
   "metadata": {},
   "outputs": [
    {
     "data": {
      "text/plain": [
       "6"
      ]
     },
     "execution_count": 148,
     "metadata": {},
     "output_type": "execute_result"
    }
   ],
   "source": [
    "# Let's use the the above information to find x[1,2]\n",
    "# Jump 1 step along the first dim and jump 2 along second\n",
    "byte_offset = 3*1 + 1*2\n",
    "# Flatten x\n",
    "x.flat[byte_offset]"
   ]
  },
  {
   "cell_type": "code",
   "execution_count": 149,
   "metadata": {},
   "outputs": [
    {
     "data": {
      "text/plain": [
       "6"
      ]
     },
     "execution_count": 149,
     "metadata": {},
     "output_type": "execute_result"
    }
   ],
   "source": [
    "x[1, 2]"
   ]
  },
  {
   "cell_type": "code",
   "execution_count": 150,
   "metadata": {},
   "outputs": [
    {
     "data": {
      "text/plain": [
       "(6, 2)"
      ]
     },
     "execution_count": 150,
     "metadata": {},
     "output_type": "execute_result"
    }
   ],
   "source": [
    "x = np.array([[1, 2, 3],\n",
    "              [4, 5, 6]], dtype = np.int16)\n",
    "# Each integer is 2 bytes or 16 bits\n",
    "x.strides "
   ]
  },
  {
   "cell_type": "code",
   "execution_count": 151,
   "metadata": {},
   "outputs": [
    {
     "data": {
      "text/plain": [
       "b'\\x01\\x00\\x02\\x00\\x03\\x00\\x04\\x00\\x05\\x00\\x06\\x00'"
      ]
     },
     "execution_count": 151,
     "metadata": {},
     "output_type": "execute_result"
    }
   ],
   "source": [
    "bytes(x.data)"
   ]
  },
  {
   "cell_type": "markdown",
   "metadata": {},
   "source": [
    "Python (and C) follows *row-major* ordering of data. \n",
    "\n",
    "Matlab (and Fortran) follow *column-major* ordering. \n",
    "\n",
    "  <img src='images/row_and_column_major_order.png'>\n",
    " \n",
    "Here we show the order of data access depending on if the programming language follows row-major ordering (left column below) or column-major ordering (right column below).\n",
    "\n",
    "$$\n",
    "  A=\n",
    "  \\left[ {\\begin{array}{ccc}\n",
    "   a_{11} & a_{12} & a_{13}\\\\\n",
    "   a_{21} & a_{22} & a_{23}\\\\\n",
    "   a_{31} & a_{32} & a_{33}\\\\\n",
    "  \\end{array} } \\right]\n",
    "   \\rightarrow\n",
    "   \\left[ {\\begin{array}{ccc}\n",
    "   A[0, 0] & A[0, 1] & A[0, 2]\\\\\n",
    "   A[1, 0] & A[1, 1] & A[1, 2]\\\\\n",
    "   A[2, 0] & A[2, 1] & A[2, 2]\\\\\n",
    "  \\end{array} } \\right]\n",
    "$$\n",
    "\n",
    "|Address | Access | Value  ||Address | Access | Value  | \n",
    "|--------|--------|--------||--------|--------|--------|\n",
    "|    0   | A[0, 0]|$a_{11}$||    0   | A[0, 0]|$a_{11}$|\n",
    "|    1   | A[0, 1]|$a_{12}$||    1   | A[1, 0]|$a_{21}$|\n",
    "|    2   | A[0, 2]|$a_{13}$||    2   | A[2, 0]|$a_{31}$|\n",
    "|    3   | A[1, 0]|$a_{21}$||    3   | A[0, 1]|$a_{12}$|\n",
    "|    4   | A[1, 1]|$a_{22}$||    4   | A[1, 1]|$a_{22}$|\n",
    "|    5   | A[1, 2]|$a_{23}$||    5   | A[2, 1]|$a_{32}$|\n",
    "|    6   | A[2, 0]|$a_{31}$||    6   | A[0, 2]|$a_{13}$|\n",
    "|    7   | A[2, 1]|$a_{32}$||    7   | A[1, 2]|$a_{23}$|\n",
    "|    8   | A[2, 2]|$a_{33}$||    8   | A[2, 2]|$a_{33}$|\n"
   ]
  },
  {
   "cell_type": "markdown",
   "metadata": {},
   "source": [
    "The memory layout can affect performance."
   ]
  },
  {
   "cell_type": "code",
   "execution_count": 153,
   "metadata": {},
   "outputs": [
    {
     "data": {
      "text/plain": [
       "((2000,), (2000,))"
      ]
     },
     "execution_count": 153,
     "metadata": {},
     "output_type": "execute_result"
    }
   ],
   "source": [
    "x = np.zeros((2000, ))\n",
    "# Let's skip every 67 elements\n",
    "y = np.zeros((2000*67, ))[::67]\n",
    "# The shape of x and y are the same\n",
    "x.shape, y.shape"
   ]
  },
  {
   "cell_type": "code",
   "execution_count": 154,
   "metadata": {},
   "outputs": [
    {
     "name": "stdout",
     "output_type": "stream",
     "text": [
      "2.45 µs ± 518 ns per loop (mean ± std. dev. of 7 runs, 100000 loops each)\n"
     ]
    }
   ],
   "source": [
    "# Let's time summing over the array x\n",
    "%timeit x.sum()"
   ]
  },
  {
   "cell_type": "code",
   "execution_count": 155,
   "metadata": {},
   "outputs": [
    {
     "name": "stdout",
     "output_type": "stream",
     "text": [
      "4.21 µs ± 317 ns per loop (mean ± std. dev. of 7 runs, 100000 loops each)\n"
     ]
    }
   ],
   "source": [
    "# Let's time summing over the array y\n",
    "%timeit y.sum()"
   ]
  },
  {
   "cell_type": "code",
   "execution_count": 157,
   "metadata": {},
   "outputs": [
    {
     "data": {
      "text/plain": [
       "((8,), (536,))"
      ]
     },
     "execution_count": 157,
     "metadata": {},
     "output_type": "execute_result"
    }
   ],
   "source": [
    "x.strides, y.strides"
   ]
  },
  {
   "cell_type": "markdown",
   "metadata": {},
   "source": [
    "As we can see, array y has a larger stride. The CPU pulls data from main memory to the cache in blocks of contiguous memory. If many arrays are consecutively operated to fit on a single memory block (smaller stride) then fewer transfers are needed and the computation is faster. "
   ]
  },
  {
   "cell_type": "markdown",
   "metadata": {},
   "source": [
    "### Memory layout\n",
    "\n",
    "In general, the contiguous block of memory can be accessed using an indexing scheme. Such an indexing scheme is defined by *shape* and *data type*. This is what you define for a new array."
   ]
  },
  {
   "cell_type": "code",
   "execution_count": 161,
   "metadata": {},
   "outputs": [
    {
     "data": {
      "text/plain": [
       "(3, 3)"
      ]
     },
     "execution_count": 161,
     "metadata": {},
     "output_type": "execute_result"
    }
   ],
   "source": [
    "# Let's use shape and dtype to define a new array\n",
    "z = np.arange(9).reshape(3,3).astype(np.int16)\n",
    "# Let's get the shape\n",
    "z.shape"
   ]
  },
  {
   "cell_type": "code",
   "execution_count": 167,
   "metadata": {},
   "outputs": [
    {
     "data": {
      "text/plain": [
       "2"
      ]
     },
     "execution_count": 167,
     "metadata": {},
     "output_type": "execute_result"
    }
   ],
   "source": [
    "# Let's get the number of dims\n",
    "z.ndim"
   ]
  },
  {
   "cell_type": "code",
   "execution_count": 159,
   "metadata": {},
   "outputs": [
    {
     "data": {
      "text/plain": [
       "2"
      ]
     },
     "execution_count": 159,
     "metadata": {},
     "output_type": "execute_result"
    }
   ],
   "source": [
    "# Let's get the item size\n",
    "z.itemsize"
   ]
  },
  {
   "cell_type": "code",
   "execution_count": 162,
   "metadata": {},
   "outputs": [
    {
     "data": {
      "text/plain": [
       "(6, 2)"
      ]
     },
     "execution_count": 162,
     "metadata": {},
     "output_type": "execute_result"
    }
   ],
   "source": [
    "# Let's compute the strides \n",
    "strides = z.shape[1]*z.itemsize, z.itemsize\n",
    "strides"
   ]
  },
  {
   "cell_type": "code",
   "execution_count": 163,
   "metadata": {},
   "outputs": [
    {
     "data": {
      "text/plain": [
       "(6, 2)"
      ]
     },
     "execution_count": 163,
     "metadata": {},
     "output_type": "execute_result"
    }
   ],
   "source": [
    "# Let's verify\n",
    "z.strides"
   ]
  },
  {
   "cell_type": "code",
   "execution_count": 166,
   "metadata": {},
   "outputs": [
    {
     "name": "stdout",
     "output_type": "stream",
     "text": [
      "Start offset is 8 \n",
      " End offset is 10\n"
     ]
    }
   ],
   "source": [
    "# We can find the start and end byte offsets of a specific\n",
    "# index using strides\n",
    "offset_start = 0\n",
    "index = (1,1)\n",
    "for i in range(z.ndim):\n",
    "    offset_start += strides[i] * index[i]\n",
    "offset_end = offset_start + z.itemsize\n",
    "print('Start offset is', offset_start, '\\n', 'End offset is', offset_end)"
   ]
  },
  {
   "cell_type": "markdown",
   "metadata": {},
   "source": [
    "The memory layout for z is shown below."
   ]
  },
  {
   "cell_type": "raw",
   "metadata": {},
   "source": [
    "Item layout\n",
    "\n",
    "               shape[1]\n",
    "                 (=3)\n",
    "            ┌───────────┐\n",
    "\n",
    "         ┌  ┌───┬───┬───┐  ┐\n",
    "         │  │ 0 │ 1 │ 2 │  │\n",
    "         │  ├───┼───┼───┤  │\n",
    "shape[0] │  │ 3 │ 4 │ 5 │  │ len(z)\n",
    " (=3)    │  ├───┼───┼───┤  │  (=3)\n",
    "         │  │ 6 │ 7 │ 8 │  │\n",
    "         └  └───┴───┴───┘  ┘\n",
    "\n",
    "Flattened item layout\n",
    "\n",
    "┌───┬───┬───┬───┬───┬───┬───┬───┬───┐\n",
    "│ 0 │ 1 │ 2 │ 3 │ 4 │ 5 │ 6 │ 7 │ 8 │\n",
    "└───┴───┴───┴───┴───┴───┴───┴───┴───┘\n",
    "\n",
    "└───────────────────────────────────┘\n",
    "               z.size\n",
    "                (=9)\n",
    "\n",
    "Memory layout (C order, big endian)\n",
    "\n",
    "                         strides[1]\n",
    "                           (=2)\n",
    "                  ┌─────────────────────┐\n",
    "\n",
    "          ┌       ┌──────────┬──────────┐ ┐\n",
    "          │ p+00: │ 00000000 │ 00000000 │ │\n",
    "          │       ├──────────┼──────────┤ │\n",
    "          │ p+02: │ 00000000 │ 00000001 │ │ strides[0]\n",
    "          │       ├──────────┼──────────┤ │   (=2x3)\n",
    "          │ p+04  │ 00000000 │ 00000010 │ │\n",
    "          │       ├──────────┼──────────┤ ┘\n",
    "          │ p+06  │ 00000000 │ 00000011 │\n",
    "          │       ├──────────┼──────────┤\n",
    "z.nbytes  │ p+08: │ 00000000 │ 00000100 │\n",
    "(=3x3x2)  │       ├──────────┼──────────┤\n",
    "          │ p+10: │ 00000000 │ 00000101 │\n",
    "          │       ├──────────┼──────────┤\n",
    "          │ p+12: │ 00000000 │ 00000110 │\n",
    "          │       ├──────────┼──────────┤\n",
    "          │ p+14: │ 00000000 │ 00000111 │\n",
    "          │       ├──────────┼──────────┤\n",
    "          │ p+16: │ 00000000 │ 00001000 │\n",
    "          └       └──────────┴──────────┘\n",
    "\n",
    "                  └─────────────────────┘\n",
    "                        z.itemsize\n",
    "                     z.dtype.itemsize\n",
    "                           (=2)"
   ]
  },
  {
   "cell_type": "markdown",
   "metadata": {},
   "source": [
    "### Views and copies of data\n",
    "\n",
    "*Views* and *copies* of data can be used for optimization of numerical computations. First, let's distinguish between *basic indexing* and *fancy indexing*. Basic indexing or just indexing will return a view while fancy indexing will return a copy of the data. This difference is important because the base array is modified in indexing whereas the base array is not modified in fancy indexing.  \n",
    "\n",
    "Let's look at examples below. "
   ]
  },
  {
   "cell_type": "markdown",
   "metadata": {},
   "source": [
    "First, let's consider what we mean by basic indexing, views, and changing the base array with the example below. "
   ]
  },
  {
   "cell_type": "code",
   "execution_count": 181,
   "metadata": {},
   "outputs": [
    {
     "name": "stdout",
     "output_type": "stream",
     "text": [
      "The base array for z is [0. 0. 0. 0. 0. 0. 0. 0. 0.]\n",
      "The base array for z is now [1. 1. 1. 0. 0. 0. 0. 0. 0.]\n"
     ]
    }
   ],
   "source": [
    "z = np.zeros(9)\n",
    "print('The base array for z is', z)\n",
    "# Lets's create a view of data using basic indexing\n",
    "z_view = z[:3] \n",
    "# The ellipsis below means for all indices\n",
    "z_view[...] = 1\n",
    "print('The base array for z is now', z) # changes base "
   ]
  },
  {
   "cell_type": "markdown",
   "metadata": {},
   "source": [
    "Second, let's consider what we mean by fancy indexing, copies, and not changing the base array with the example below."
   ]
  },
  {
   "cell_type": "code",
   "execution_count": 180,
   "metadata": {},
   "outputs": [
    {
     "name": "stdout",
     "output_type": "stream",
     "text": [
      "The base array for z is [0. 0. 0. 0. 0. 0. 0. 0. 0.]\n",
      "The base array for z is now [0. 0. 0. 0. 0. 0. 0. 0. 0.]\n"
     ]
    }
   ],
   "source": [
    "# Let's set z back to original array\n",
    "z = np.zeros(9)\n",
    "print('The base array for z is', z)\n",
    "#Let's create a copy of data using fancy indexing\n",
    "z_copy = z[[0, 1, 2]]\n",
    "z_copy[...] = 1\n",
    "print('The base array for z is now', z) # doesn't change base "
   ]
  },
  {
   "cell_type": "markdown",
   "metadata": {},
   "source": [
    "If you use fancy indexing it's better to keep a copy of your fancy index and work with it as shown below."
   ]
  },
  {
   "cell_type": "code",
   "execution_count": 182,
   "metadata": {},
   "outputs": [
    {
     "name": "stdout",
     "output_type": "stream",
     "text": [
      "[1. 1. 1. 0. 0. 0. 0. 0. 0.]\n"
     ]
    }
   ],
   "source": [
    "z = np.zeros(9)\n",
    "# Let's make a copy of our fancy index\n",
    "index = [0, 1, 2]\n",
    "z[index] = 1\n",
    "print(z)"
   ]
  },
  {
   "cell_type": "markdown",
   "metadata": {},
   "source": [
    "If you don't know whether you're indexing is creating a view or copy of the data then you can check the base data. If the result is `None` then the result is a copy as shown below. "
   ]
  },
  {
   "cell_type": "code",
   "execution_count": 186,
   "metadata": {},
   "outputs": [
    {
     "name": "stdout",
     "output_type": "stream",
     "text": [
      "z = \n",
      " [[0.07044807 0.40267768 0.53826605 0.10275411 0.11239758]\n",
      " [0.1496346  0.7069368  0.26483219 0.8475687  0.95261254]\n",
      " [0.87768467 0.03034713 0.30686387 0.83845492 0.67201406]\n",
      " [0.4187745  0.11383059 0.91553949 0.10420176 0.70397835]\n",
      " [0.92877527 0.60539578 0.05725155 0.81402303 0.52538476]]\n"
     ]
    },
    {
     "data": {
      "text/plain": [
       "True"
      ]
     },
     "execution_count": 186,
     "metadata": {},
     "output_type": "execute_result"
    }
   ],
   "source": [
    "# arg1 = start, arg2 = end, arg3 = shape \n",
    "z = np.random.uniform(0, 1, (5,5))\n",
    "print('z = \\n', z)\n",
    "# create a view of z, take up to row 3 and all columns\n",
    "z1 = z[:3, :]\n",
    "# create a copy of z, take rows 1, 2, 3 and all columns\n",
    "z2 = z[[0, 1, 2], :]\n",
    "# allclose(a, b) returns true if all elements of a and b\n",
    "# are equal within a tolerance\n",
    "np.allclose(z1, z2)"
   ]
  },
  {
   "cell_type": "code",
   "execution_count": 189,
   "metadata": {},
   "outputs": [
    {
     "name": "stdout",
     "output_type": "stream",
     "text": [
      "z1 base is z is True\n",
      "z2 base is z is False\n",
      "z2 base is None is True\n"
     ]
    }
   ],
   "source": [
    "# Let's now check the base of z1 and z2\n",
    "print('z1 base is z is', z1.base is z)\n",
    "print('z2 base is z is', z2.base is z)\n",
    "print('z2 base is None is', z2.base is None)"
   ]
  },
  {
   "cell_type": "markdown",
   "metadata": {},
   "source": [
    "Some NumPy functions like `ravel` return a view when possible while others like ` flatten` will return a copy. "
   ]
  },
  {
   "cell_type": "code",
   "execution_count": 198,
   "metadata": {},
   "outputs": [
    {
     "name": "stdout",
     "output_type": "stream",
     "text": [
      "True\n",
      "False\n",
      "False\n"
     ]
    }
   ],
   "source": [
    "z = np.zeros((5,5))\n",
    "# Below we will get a view\n",
    "print(z.ravel().base is z)\n",
    "# Below we will get a copy since we are skipping\n",
    "print(z[::2, ::2].ravel().base is z)\n",
    "# Below we will get a copy \n",
    "print(z.flatten().base is z)"
   ]
  },
  {
   "cell_type": "markdown",
   "metadata": {},
   "source": [
    "We can also use structural indexing tools. One such is `np.newaxis` object that can be used within array indices to add a new dimension of size 1, creating a view of the original data. "
   ]
  },
  {
   "cell_type": "code",
   "execution_count": 71,
   "metadata": {},
   "outputs": [
    {
     "data": {
      "text/plain": [
       "(5, 7)"
      ]
     },
     "execution_count": 71,
     "metadata": {},
     "output_type": "execute_result"
    }
   ],
   "source": [
    "y = np.arange(35).reshape(5,7)\n",
    "y.shape"
   ]
  },
  {
   "cell_type": "code",
   "execution_count": 72,
   "metadata": {},
   "outputs": [
    {
     "data": {
      "text/plain": [
       "(5, 1, 7)"
      ]
     },
     "execution_count": 72,
     "metadata": {},
     "output_type": "execute_result"
    }
   ],
   "source": [
    "# This will create a view of the data and add a dim of size 1\n",
    "y[:, np.newaxis,:].shape"
   ]
  },
  {
   "cell_type": "code",
   "execution_count": 73,
   "metadata": {},
   "outputs": [
    {
     "data": {
      "text/plain": [
       "array([0, 1, 2, 3, 4])"
      ]
     },
     "execution_count": 73,
     "metadata": {},
     "output_type": "execute_result"
    }
   ],
   "source": [
    "x = np.arange(5)\n",
    "x"
   ]
  },
  {
   "cell_type": "code",
   "execution_count": 74,
   "metadata": {},
   "outputs": [
    {
     "data": {
      "text/plain": [
       "array([[0],\n",
       "       [1],\n",
       "       [2],\n",
       "       [3],\n",
       "       [4]])"
      ]
     },
     "execution_count": 74,
     "metadata": {},
     "output_type": "execute_result"
    }
   ],
   "source": [
    "x[:, np.newaxis]"
   ]
  },
  {
   "cell_type": "code",
   "execution_count": 75,
   "metadata": {},
   "outputs": [
    {
     "data": {
      "text/plain": [
       "array([[0, 1, 2, 3, 4]])"
      ]
     },
     "execution_count": 75,
     "metadata": {},
     "output_type": "execute_result"
    }
   ],
   "source": [
    "x[np.newaxis, :]"
   ]
  },
  {
   "cell_type": "code",
   "execution_count": 76,
   "metadata": {},
   "outputs": [
    {
     "data": {
      "text/plain": [
       "array([[0, 1, 2, 3, 4],\n",
       "       [1, 2, 3, 4, 5],\n",
       "       [2, 3, 4, 5, 6],\n",
       "       [3, 4, 5, 6, 7],\n",
       "       [4, 5, 6, 7, 8]])"
      ]
     },
     "execution_count": 76,
     "metadata": {},
     "output_type": "execute_result"
    }
   ],
   "source": [
    "# This will broadcast\n",
    "x[:, np.newaxis] + x[np.newaxis, :]"
   ]
  },
  {
   "cell_type": "markdown",
   "metadata": {},
   "source": [
    "### Temporary copies\n",
    "\n",
    "Copies can be made explicitly like before but the most general case is the implicit creation of intermediate copies. This is the case when you doing some arithmetic with arrays. Let's look at examples. "
   ]
  },
  {
   "cell_type": "code",
   "execution_count": 201,
   "metadata": {},
   "outputs": [
    {
     "data": {
      "text/plain": [
       "array([4, 4, 4, 4, 4, 4, 4, 4, 4, 4])"
      ]
     },
     "execution_count": 201,
     "metadata": {},
     "output_type": "execute_result"
    }
   ],
   "source": [
    "x = np.ones(10, dtype = np.int)\n",
    "y = np.ones(10, dtype = np.int)\n",
    "# Below we are creating intermediate copies\n",
    "# There is one copy that is created for 2*x and one for 2*y\n",
    "# There is another copy for 2*x + 2*y\n",
    "A = 2*x + 2*y\n",
    "A"
   ]
  },
  {
   "cell_type": "markdown",
   "metadata": {},
   "source": [
    "In the above example intermediate arrays have been created but if these array are large then you must be careful. If you don't need x and y after then an alternative solution is below."
   ]
  },
  {
   "cell_type": "code",
   "execution_count": 200,
   "metadata": {},
   "outputs": [
    {
     "data": {
      "text/plain": [
       "array([4, 4, 4, 4, 4, 4, 4, 4, 4, 4])"
      ]
     },
     "execution_count": 200,
     "metadata": {},
     "output_type": "execute_result"
    }
   ],
   "source": [
    "x = np.ones(10, dtype = np.int)\n",
    "y = np.ones(10, dtype = np.int)\n",
    "np.multiply(x, 2, out = x)\n",
    "np.multiply(y, 2, out = y)\n",
    "np.add(x, y, out = x)"
   ]
  },
  {
   "cell_type": "markdown",
   "metadata": {},
   "source": [
    "Using the above solution no temporary array ahs been created. There are cases where copies need to be created. Let's look at a couple of performance test. "
   ]
  },
  {
   "cell_type": "code",
   "execution_count": 20,
   "metadata": {},
   "outputs": [],
   "source": [
    "# Let's look at performance\n",
    "x = np.ones(10000000, dtype = np.int)\n",
    "y = np.ones(10000000, dtype = np.int)\n",
    "z = np.zeros(10000000, dtype=np.int)"
   ]
  },
  {
   "cell_type": "code",
   "execution_count": 21,
   "metadata": {},
   "outputs": [
    {
     "name": "stdout",
     "output_type": "stream",
     "text": [
      "21.4 ms ± 1.4 ms per loop (mean ± std. dev. of 7 runs, 10 loops each)\n"
     ]
    }
   ],
   "source": [
    "# Here a temporary array has been created\n",
    "%timeit z = x + y"
   ]
  },
  {
   "cell_type": "code",
   "execution_count": 22,
   "metadata": {},
   "outputs": [
    {
     "name": "stdout",
     "output_type": "stream",
     "text": [
      "14.9 ms ± 237 µs per loop (mean ± std. dev. of 7 runs, 100 loops each)\n"
     ]
    }
   ],
   "source": [
    "# Here a temporary array has not been created\n",
    "%timeit np.add(x, y, out = z)"
   ]
  },
  {
   "cell_type": "markdown",
   "metadata": {},
   "source": [
    "Finally, if we're given two arrays z1 and z2 we would like to know if z2 is a view of z1. If yes, what is the view?"
   ]
  },
  {
   "cell_type": "code",
   "execution_count": 23,
   "metadata": {},
   "outputs": [],
   "source": [
    "z1 = np.arange(10)\n",
    "# z1[start:stop:step], -1 means the last indice\n",
    "z2 = z1[1:-1:2]"
   ]
  },
  {
   "cell_type": "code",
   "execution_count": 24,
   "metadata": {},
   "outputs": [
    {
     "name": "stdout",
     "output_type": "stream",
     "text": [
      "True\n"
     ]
    }
   ],
   "source": [
    "# Let's check if it's a view\n",
    "print(z2.base is z1)"
   ]
  },
  {
   "cell_type": "markdown",
   "metadata": {},
   "source": [
    "Since z2 is a view of z1  it can be expressed as `z2 = z1[start:stop:step]`. For step we can use the strides property of any array that gives the number of bytes that go from one element to the next. Because both arrays are only 1 dimenisonal we can compare the first stride.  "
   ]
  },
  {
   "cell_type": "code",
   "execution_count": 25,
   "metadata": {},
   "outputs": [
    {
     "name": "stdout",
     "output_type": "stream",
     "text": [
      "2\n"
     ]
    }
   ],
   "source": [
    "# // means floor division\n",
    "step = z2.strides[0] // z1.strides[0]\n",
    "print(step)"
   ]
  },
  {
   "cell_type": "markdown",
   "metadata": {},
   "source": [
    "To find the start and stop indices we can take advantage of `byte_bounds` method that returns a pointer to the end-points of an array:"
   ]
  },
  {
   "cell_type": "raw",
   "metadata": {},
   "source": [
    " byte_bounds(Z1)[0]                  byte_bounds(Z1)[-1]\n",
    "          ↓                                   ↓\n",
    "   ╌╌╌┬───┬───┬───┬───┬───┬───┬───┬───┬───┬───┬╌╌\n",
    "Z1    │ 0 │ 1 │ 2 │ 3 │ 4 │ 5 │ 6 │ 7 │ 8 │ 9 │\n",
    "   ╌╌╌┴───┴───┴───┴───┴───┴───┴───┴───┴───┴───┴╌╌\n",
    "\n",
    "      byte_bounds(Z2)[0]      byte_bounds(Z2)[-1]\n",
    "              ↓                       ↓\n",
    "   ╌╌╌╌╌╌╌┬───┬╌╌╌┬───┬╌╌╌┬───┬╌╌╌┬───┬╌╌╌╌╌╌╌╌╌╌\n",
    "Z2        │ 1 │   │ 3 │   │ 5 │   │ 7 │\n",
    "   ╌╌╌╌╌╌╌┴───┴╌╌╌┴───┴╌╌╌┴───┴╌╌╌┴───┴╌╌╌╌╌╌╌╌╌╌\n",
    "    "
   ]
  },
  {
   "cell_type": "code",
   "execution_count": 30,
   "metadata": {},
   "outputs": [
    {
     "name": "stdout",
     "output_type": "stream",
     "text": [
      "Start byte offset for z2 is 8\n",
      "Stop byte offset for z2 is -16\n"
     ]
    }
   ],
   "source": [
    "# Following the above diagram, we want to know the \n",
    "# starting offset from z1 for z2\n",
    "offset_start = np.byte_bounds(z2)[0] - np.byte_bounds(z1)[0]\n",
    "print('Start byte offset for z2 is', offset_start)\n",
    "\n",
    "# Following the above diagram, qwe want to know the \n",
    "# stop offset from z1 for z2\n",
    "offset_stop = np.byte_bounds(z2)[-1] - np.byte_bounds(z1)[-1]\n",
    "print('Stop byte offset for z2 is', offset_stop)"
   ]
  },
  {
   "cell_type": "markdown",
   "metadata": {},
   "source": [
    "Converting the byte offset to indices is straightforward using `itemsize`:"
   ]
  },
  {
   "cell_type": "code",
   "execution_count": 36,
   "metadata": {},
   "outputs": [
    {
     "name": "stdout",
     "output_type": "stream",
     "text": [
      "(start = 1 , stop = 8 , step = 2 )\n"
     ]
    }
   ],
   "source": [
    "start = offset_start // z1.itemsize\n",
    "# Note the offset_stop is negative so need the size of z1\n",
    "stop = z1.size + offset_stop // z1.itemsize\n",
    "print('(start =',start,',','stop =', stop,',','step =', step,')')"
   ]
  },
  {
   "cell_type": "code",
   "execution_count": 37,
   "metadata": {},
   "outputs": [
    {
     "name": "stdout",
     "output_type": "stream",
     "text": [
      "True\n"
     ]
    }
   ],
   "source": [
    "# Let's check the results\n",
    "print(np.allclose(z1[start:stop:step], z2))"
   ]
  },
  {
   "cell_type": "markdown",
   "metadata": {},
   "source": [
    "### Broadcasting \n",
    "\n",
    "Refers to how Numpy treats arrays with different shapes during arithmetic operatons. In general, the smaller array is broadcasted to the larger array. Broadcasting usually leads to efficient algorithm implementation since there isn't a need for needless copies of data. Broadcasting can also lead to inefficient implementations as well. The rules are stated below. "
   ]
  },
  {
   "cell_type": "markdown",
   "metadata": {},
   "source": [
    "Start with trailing dimensions and work forward. The two dimensions are compatible if: \n",
    "\n",
    "1) they are equal \n",
    "\n",
    "2) one of them is 1. \n",
    "\n",
    "When either of the dimension compared is 1 the other is used, dim with size 1 are stretched or \"copied\" to match.\n",
    "\n",
    "More information about broadcasting in NumPy can be found here:\n",
    "https://docs.scipy.org/doc/numpy-1.15.0/user/basics.broadcasting.html\n",
    "\n",
    "Here are some examples. Note we have aligned the trailing dim:"
   ]
  },
  {
   "cell_type": "raw",
   "metadata": {},
   "source": [
    "A      (2d array):  5 x 4\n",
    "B      (1d array):      1\n",
    "Result (2d array):  5 x 4\n",
    "\n",
    "A      (2d array):  5 x 4\n",
    "B      (1d array):      4\n",
    "Result (2d array):  5 x 4\n",
    "\n",
    "A      (3d array):  15 x 3 x 5\n",
    "B      (3d array):  15 x 1 x 5\n",
    "Result (3d array):  15 x 3 x 5\n",
    "\n",
    "A      (3d array):  15 x 3 x 5\n",
    "B      (2d array):       3 x 5\n",
    "Result (3d array):  15 x 3 x 5\n",
    "\n",
    "A      (3d array):  15 x 3 x 5\n",
    "B      (2d array):       3 x 1\n",
    "Result (3d array):  15 x 3 x 5"
   ]
  },
  {
   "cell_type": "markdown",
   "metadata": {},
   "source": [
    "Here are examples of shapes that don't broadcast:"
   ]
  },
  {
   "cell_type": "raw",
   "metadata": {},
   "source": [
    "A      (1d array):  3\n",
    "B      (1d array):  4 # trailing dimensions do not match\n",
    "\n",
    "A      (2d array):      2 x 1\n",
    "B      (3d array):  8 x 4 x 3 # second from last dimensions mismatched"
   ]
  },
  {
   "cell_type": "code",
   "execution_count": 116,
   "metadata": {},
   "outputs": [
    {
     "name": "stdout",
     "output_type": "stream",
     "text": [
      " x = \n",
      " [0 1 2 3]\n",
      "The shape of x is (4,)\n",
      "\n",
      "\n",
      " xx = \n",
      " [[0]\n",
      " [1]\n",
      " [2]\n",
      " [3]]\n",
      "The shape of xx is (4, 1)\n",
      "\n",
      "\n",
      "y = \n",
      " [1. 1. 1. 1. 1.]\n",
      "The shape of y is (5,)\n",
      "\n",
      "\n"
     ]
    }
   ],
   "source": [
    "# Let's look at an example\n",
    "x = np.arange(4)\n",
    "print(' x = \\n', x)\n",
    "print('The shape of x is', x.shape)\n",
    "print('\\n')\n",
    "\n",
    "xx = x.reshape(4,1)\n",
    "print(' xx = \\n', xx)\n",
    "print('The shape of xx is', xx.shape)\n",
    "print('\\n')\n",
    "\n",
    "y = np.ones(5)\n",
    "print('y = \\n', y)\n",
    "print('The shape of y is', y.shape)\n",
    "print('\\n')"
   ]
  },
  {
   "cell_type": "code",
   "execution_count": 109,
   "metadata": {},
   "outputs": [
    {
     "ename": "ValueError",
     "evalue": "operands could not be broadcast together with shapes (4,) (5,) ",
     "output_type": "error",
     "traceback": [
      "\u001b[0;31m---------------------------------------------------------------------------\u001b[0m",
      "\u001b[0;31mValueError\u001b[0m                                Traceback (most recent call last)",
      "\u001b[0;32m<ipython-input-109-082452e8ae19>\u001b[0m in \u001b[0;36m<module>\u001b[0;34m()\u001b[0m\n\u001b[1;32m      2\u001b[0m \u001b[0;31m# x (1d array): 4\u001b[0m\u001b[0;34m\u001b[0m\u001b[0;34m\u001b[0m\u001b[0m\n\u001b[1;32m      3\u001b[0m \u001b[0;31m# y (1d array): 5\u001b[0m\u001b[0;34m\u001b[0m\u001b[0;34m\u001b[0m\u001b[0m\n\u001b[0;32m----> 4\u001b[0;31m \u001b[0mx\u001b[0m \u001b[0;34m+\u001b[0m \u001b[0my\u001b[0m\u001b[0;34m\u001b[0m\u001b[0m\n\u001b[0m",
      "\u001b[0;31mValueError\u001b[0m: operands could not be broadcast together with shapes (4,) (5,) "
     ]
    }
   ],
   "source": [
    "# This will not work since the trailing dims are\n",
    "# x (1d array): 4\n",
    "# y (1d array): 5\n",
    "x + y"
   ]
  },
  {
   "cell_type": "code",
   "execution_count": 110,
   "metadata": {},
   "outputs": [
    {
     "name": "stdout",
     "output_type": "stream",
     "text": [
      "[[1. 1. 1. 1. 1.]\n",
      " [2. 2. 2. 2. 2.]\n",
      " [3. 3. 3. 3. 3.]\n",
      " [4. 4. 4. 4. 4.]]\n"
     ]
    }
   ],
   "source": [
    "# This will work since \n",
    "#     xx (2d array): 4 x 1\n",
    "#      y (1d array):     5\n",
    "# Result (2d array): 4 x 5\n",
    "result = xx+y\n",
    "print(result)"
   ]
  },
  {
   "cell_type": "code",
   "execution_count": 119,
   "metadata": {},
   "outputs": [
    {
     "data": {
      "text/plain": [
       "array([[[0, 1, 2, 3, 4]]])"
      ]
     },
     "execution_count": 119,
     "metadata": {},
     "output_type": "execute_result"
    }
   ],
   "source": [
    "# More examples\n",
    "h = np.arange(5).reshape(1,1,5)\n",
    "h"
   ]
  },
  {
   "cell_type": "code",
   "execution_count": 120,
   "metadata": {},
   "outputs": [
    {
     "data": {
      "text/plain": [
       "array([[[10, 21, 32, 43, 54]]])"
      ]
     },
     "execution_count": 120,
     "metadata": {},
     "output_type": "execute_result"
    }
   ],
   "source": [
    "#      h (3d array): 1 x 1 x 5\n",
    "#        (1d array):         5\n",
    "# Result (3d array): 1 x 1 x 5\n",
    "# Same as h + [[[10, 20, 30, 40, 50]]]\n",
    "h + [10, 20, 30, 40, 50]"
   ]
  },
  {
   "cell_type": "code",
   "execution_count": 121,
   "metadata": {},
   "outputs": [
    {
     "data": {
      "text/plain": [
       "array([[0, 1, 2],\n",
       "       [3, 4, 5]])"
      ]
     },
     "execution_count": 121,
     "metadata": {},
     "output_type": "execute_result"
    }
   ],
   "source": [
    "k = np.arange(6).reshape(2, 3)\n",
    "k"
   ]
  },
  {
   "cell_type": "code",
   "execution_count": 122,
   "metadata": {},
   "outputs": [
    {
     "data": {
      "text/plain": [
       "array([[100, 101, 102],\n",
       "       [203, 204, 205]])"
      ]
     },
     "execution_count": 122,
     "metadata": {},
     "output_type": "execute_result"
    }
   ],
   "source": [
    "#      k (2d array): 2 x 3\n",
    "#        (2d array): 2 x 1      \n",
    "# Result (2d array): 2 x 3\n",
    "# Same as k + [[100, 100, 100], [200, 200, 200]]\n",
    "k + [[100], [200]]"
   ]
  },
  {
   "cell_type": "code",
   "execution_count": 123,
   "metadata": {},
   "outputs": [
    {
     "data": {
      "text/plain": [
       "array([[100, 201, 302],\n",
       "       [103, 204, 305]])"
      ]
     },
     "execution_count": 123,
     "metadata": {},
     "output_type": "execute_result"
    }
   ],
   "source": [
    "#      k (2d array): 2 x 3\n",
    "#        (1d array):     3      \n",
    "# Result (2d array): 2 x 3\n",
    "# Same as k + [[100, 200, 300], [100, 200, 300]]\n",
    "k + [100, 200, 300]"
   ]
  },
  {
   "cell_type": "code",
   "execution_count": 124,
   "metadata": {},
   "outputs": [
    {
     "data": {
      "text/plain": [
       "array([[1000, 1001, 1002],\n",
       "       [1003, 1004, 1005]])"
      ]
     },
     "execution_count": 124,
     "metadata": {},
     "output_type": "execute_result"
    }
   ],
   "source": [
    "# Same as k + [[1000, 1000, 1000], [1000, 1000, 1000]]\n",
    "k + 1000"
   ]
  },
  {
   "cell_type": "markdown",
   "metadata": {},
   "source": [
    "### Logical Indexing\n",
    "\n",
    "We can use masks and boolean indexes."
   ]
  },
  {
   "cell_type": "code",
   "execution_count": 44,
   "metadata": {},
   "outputs": [
    {
     "data": {
      "text/plain": [
       "array([[ 0,  1,  2,  3,  4,  5,  6],\n",
       "       [ 7,  8,  9, 10, 11, 12, 13],\n",
       "       [14, 15, 16, 17, 18, 19, 20],\n",
       "       [21, 22, 23, 24, 25, 26, 27],\n",
       "       [28, 29, 30, 31, 32, 33, 34]])"
      ]
     },
     "execution_count": 44,
     "metadata": {},
     "output_type": "execute_result"
    }
   ],
   "source": [
    "y = np.arange(35).reshape(5,7)\n",
    "y"
   ]
  },
  {
   "cell_type": "code",
   "execution_count": 46,
   "metadata": {},
   "outputs": [
    {
     "data": {
      "text/plain": [
       "array([[False, False, False, False, False, False, False],\n",
       "       [False, False, False, False, False, False, False],\n",
       "       [False, False, False, False, False, False, False],\n",
       "       [ True,  True,  True,  True,  True,  True,  True],\n",
       "       [ True,  True,  True,  True,  True,  True,  True]])"
      ]
     },
     "execution_count": 46,
     "metadata": {},
     "output_type": "execute_result"
    }
   ],
   "source": [
    "# The elements are iterated and returned in row-major\n",
    "# order. The result is a copy of the data not a view as\n",
    "# with slices.\n",
    "b = y > 20\n",
    "b"
   ]
  },
  {
   "cell_type": "code",
   "execution_count": 47,
   "metadata": {},
   "outputs": [
    {
     "data": {
      "text/plain": [
       "array([21, 22, 23, 24, 25, 26, 27, 28, 29, 30, 31, 32, 33, 34])"
      ]
     },
     "execution_count": 47,
     "metadata": {},
     "output_type": "execute_result"
    }
   ],
   "source": [
    "y[b]"
   ]
  },
  {
   "cell_type": "code",
   "execution_count": 49,
   "metadata": {},
   "outputs": [
    {
     "name": "stdout",
     "output_type": "stream",
     "text": [
      "[[21 22 23 24 25 26 27]\n",
      " [28 29 30 31 32 33 34]]\n",
      "\n",
      "\n",
      "[[21 22 23 24 25 26 27]\n",
      " [28 29 30 31 32 33 34]]\n"
     ]
    }
   ],
   "source": [
    "print(y[b[:, 5]])\n",
    "print('\\n')\n",
    "print(y[[False, False, False, True, True]])"
   ]
  },
  {
   "cell_type": "markdown",
   "metadata": {},
   "source": [
    "As shown in the example above if the boolean array, b, has fewer dimensions than the array that is being indexed then this is equivalent to `y[b,:,:,...]` where y is indxed by b followed by as many `:` are needed to fill out the shape of y. Above example is `y[b,:]`."
   ]
  },
  {
   "cell_type": "markdown",
   "metadata": {},
   "source": [
    "### More Fancy Indexing\n",
    "\n",
    "Let's look at more examples of fancy (or advanced) indexing. "
   ]
  },
  {
   "cell_type": "code",
   "execution_count": 53,
   "metadata": {},
   "outputs": [
    {
     "name": "stdout",
     "output_type": "stream",
     "text": [
      "[51 92 14 71 60 20 82 86 74 74]\n"
     ]
    }
   ],
   "source": [
    "# Let's create a random array\n",
    "# Set the seed state to 42\n",
    "rand = np.random.RandomState(42)\n",
    "x = rand.randint(100, size = 10)\n",
    "print(x)"
   ]
  },
  {
   "cell_type": "code",
   "execution_count": 40,
   "metadata": {},
   "outputs": [
    {
     "data": {
      "text/plain": [
       "[71, 86, 14]"
      ]
     },
     "execution_count": 40,
     "metadata": {},
     "output_type": "execute_result"
    }
   ],
   "source": [
    "# This will return a Python list\n",
    "[x[3], x[7], x[2]]"
   ]
  },
  {
   "cell_type": "code",
   "execution_count": 41,
   "metadata": {},
   "outputs": [
    {
     "data": {
      "text/plain": [
       "array([71, 86, 14])"
      ]
     },
     "execution_count": 41,
     "metadata": {},
     "output_type": "execute_result"
    }
   ],
   "source": [
    "# Let's use fancy indexing to return an array copy\n",
    "ind = [3, 7, 2]\n",
    "x[ind]"
   ]
  },
  {
   "cell_type": "markdown",
   "metadata": {},
   "source": [
    "When using fancy indexing the shape of the result will reflect the shape of the index arrays rather than the array being indexed. "
   ]
  },
  {
   "cell_type": "code",
   "execution_count": 43,
   "metadata": {},
   "outputs": [
    {
     "data": {
      "text/plain": [
       "array([[71, 86],\n",
       "       [60, 20]])"
      ]
     },
     "execution_count": 43,
     "metadata": {},
     "output_type": "execute_result"
    }
   ],
   "source": [
    "ind = np.array([[3, 7],\n",
    "                [4, 5]])\n",
    "x[ind]"
   ]
  },
  {
   "cell_type": "code",
   "execution_count": 78,
   "metadata": {},
   "outputs": [
    {
     "data": {
      "text/plain": [
       "array([[ 0,  1,  2,  3],\n",
       "       [ 4,  5,  6,  7],\n",
       "       [ 8,  9, 10, 11]])"
      ]
     },
     "execution_count": 78,
     "metadata": {},
     "output_type": "execute_result"
    }
   ],
   "source": [
    "x = np.arange(12).reshape(3,4)\n",
    "x"
   ]
  },
  {
   "cell_type": "code",
   "execution_count": 56,
   "metadata": {},
   "outputs": [
    {
     "data": {
      "text/plain": [
       "5"
      ]
     },
     "execution_count": 56,
     "metadata": {},
     "output_type": "execute_result"
    }
   ],
   "source": [
    "# This is the same as x[1,1]\n",
    "x[(1,1)]"
   ]
  },
  {
   "cell_type": "code",
   "execution_count": 51,
   "metadata": {},
   "outputs": [
    {
     "data": {
      "text/plain": [
       "array([ 2,  5, 11])"
      ]
     },
     "execution_count": 51,
     "metadata": {},
     "output_type": "execute_result"
    }
   ],
   "source": [
    "row = np.array([0, 1, 2])\n",
    "col = np.array([2, 1, 3])\n",
    "# This is the same as returning x[0,2], x[1,1], x[2,3]\n",
    "x[row,col]"
   ]
  },
  {
   "cell_type": "markdown",
   "metadata": {},
   "source": [
    "Let's combine basic indexing (using slices) and fancy indexing (using arrays). "
   ]
  },
  {
   "cell_type": "code",
   "execution_count": 58,
   "metadata": {},
   "outputs": [
    {
     "data": {
      "text/plain": [
       "array([[5, 6]])"
      ]
     },
     "execution_count": 58,
     "metadata": {},
     "output_type": "execute_result"
    }
   ],
   "source": [
    "# Here we get a copy\n",
    "# Is the same as x[1,1], x[1,2]\n",
    "x[1:2, [1,2]]"
   ]
  },
  {
   "cell_type": "code",
   "execution_count": 88,
   "metadata": {},
   "outputs": [
    {
     "data": {
      "text/plain": [
       "array([11, 14, 17])"
      ]
     },
     "execution_count": 88,
     "metadata": {},
     "output_type": "execute_result"
    }
   ],
   "source": [
    "z = np.arange(27).reshape(3,3,3)\n",
    "# Below is the same as z[1, :, :, 2]\n",
    "z[1,...,2]"
   ]
  },
  {
   "cell_type": "markdown",
   "metadata": {},
   "source": [
    "In general it is preferable to use slicing or basic for indexing. More information about NumPy indexing can be found here\n",
    "https://docs.scipy.org/doc/numpy/reference/arrays.indexing.html"
   ]
  },
  {
   "cell_type": "markdown",
   "metadata": {},
   "source": [
    "Some more examples."
   ]
  },
  {
   "cell_type": "code",
   "execution_count": 99,
   "metadata": {},
   "outputs": [],
   "source": [
    "# Let'se select all the rows that sum up to less than equal\n",
    "# to a certain value\n",
    "x = np.array([[0, 1],\n",
    "              [1, 1],\n",
    "              [2, 2]])\n",
    "# Let's sum along the last dimension\n",
    "rowsum = x.sum(-1)"
   ]
  },
  {
   "cell_type": "code",
   "execution_count": 103,
   "metadata": {},
   "outputs": [
    {
     "data": {
      "text/plain": [
       "array([ True,  True, False])"
      ]
     },
     "execution_count": 103,
     "metadata": {},
     "output_type": "execute_result"
    }
   ],
   "source": [
    "rowsum <= 2"
   ]
  },
  {
   "cell_type": "code",
   "execution_count": 102,
   "metadata": {},
   "outputs": [
    {
     "data": {
      "text/plain": [
       "array([[0, 1],\n",
       "       [1, 1]])"
      ]
     },
     "execution_count": 102,
     "metadata": {},
     "output_type": "execute_result"
    }
   ],
   "source": [
    "x[rowsum <= 2, :]"
   ]
  },
  {
   "cell_type": "code",
   "execution_count": 170,
   "metadata": {},
   "outputs": [
    {
     "name": "stdout",
     "output_type": "stream",
     "text": [
      "[-1.25       -0.89285714 -0.53571429 -0.17857143  0.17857143  0.53571429\n",
      "  0.89285714  1.25      ]\n",
      "(8,)\n"
     ]
    }
   ],
   "source": [
    "# We can change a row vector to a 2 dim column vector \n",
    "# using None  \n",
    "ymin, ymax, yn = -1.25, 1.25, int(25/3)\n",
    "y = np.linspace(ymin, ymax, yn, dtype = np.float)\n",
    "print(y)\n",
    "print(y.shape)"
   ]
  },
  {
   "cell_type": "code",
   "execution_count": 171,
   "metadata": {},
   "outputs": [
    {
     "name": "stdout",
     "output_type": "stream",
     "text": [
      "[[-1.25      ]\n",
      " [-0.89285714]\n",
      " [-0.53571429]\n",
      " [-0.17857143]\n",
      " [ 0.17857143]\n",
      " [ 0.53571429]\n",
      " [ 0.89285714]\n",
      " [ 1.25      ]]\n",
      "(8, 1)\n"
     ]
    }
   ],
   "source": [
    "y = y[:, None]\n",
    "print(y)\n",
    "print(y.shape)"
   ]
  },
  {
   "cell_type": "markdown",
   "metadata": {},
   "source": [
    "Finally, this is a good NumPy cheat sheet:\n",
    "\n",
    "<img src=\"images/numpy_cheat_sheet.jpg\">"
   ]
  },
  {
   "cell_type": "markdown",
   "metadata": {},
   "source": [
    "To view the a bigger version go to:\n",
    "https://s3.amazonaws.com/assets.datacamp.com/blog_assets/Numpy_Python_Cheat_Sheet.pdf"
   ]
  },
  {
   "cell_type": "markdown",
   "metadata": {},
   "source": [
    "### NumPy for Code Vectorization\n",
    "\n",
    "Let's look at using NumPy for vectorizing code and see the performance benefits. Let's start with a program that simulates a random walk. "
   ]
  },
  {
   "cell_type": "markdown",
   "metadata": {},
   "source": [
    "Object-Oriented Approach:"
   ]
  },
  {
   "cell_type": "code",
   "execution_count": 173,
   "metadata": {},
   "outputs": [],
   "source": [
    "import random\n",
    "\n",
    "class RandomWalker:\n",
    "    def __init__(self):\n",
    "        self.position = 0\n",
    "        \n",
    "    def walk(self, n):\n",
    "        self.position = 0\n",
    "        for i in range(n):\n",
    "            yield self.position\n",
    "            self.position += 2*random.randint(0,1) - 1"
   ]
  },
  {
   "cell_type": "code",
   "execution_count": 174,
   "metadata": {},
   "outputs": [
    {
     "name": "stdout",
     "output_type": "stream",
     "text": [
      "1.37 ms ± 11.3 µs per loop (mean ± std. dev. of 7 runs, 1000 loops each)\n"
     ]
    }
   ],
   "source": [
    "%%timeit\n",
    "walker = RandomWalker()\n",
    "walk = [position for position in walker.walk(1000)]"
   ]
  },
  {
   "cell_type": "markdown",
   "metadata": {},
   "source": [
    "Procedural Approach:"
   ]
  },
  {
   "cell_type": "code",
   "execution_count": 177,
   "metadata": {},
   "outputs": [],
   "source": [
    "def random_walk(n):\n",
    "    position = 0\n",
    "    walk = [position]\n",
    "    for i in range(n):\n",
    "        position += 2*random.randint(0,1) - 1\n",
    "        walk.append(position)\n",
    "    return walk"
   ]
  },
  {
   "cell_type": "code",
   "execution_count": 178,
   "metadata": {},
   "outputs": [
    {
     "name": "stdout",
     "output_type": "stream",
     "text": [
      "1.26 ms ± 31.4 µs per loop (mean ± std. dev. of 7 runs, 1000 loops each)\n"
     ]
    }
   ],
   "source": [
    "%timeit walk=random_walk(1000)"
   ]
  },
  {
   "cell_type": "markdown",
   "metadata": {},
   "source": [
    "The procedural approach saves a few cycles but is not much more efficient. "
   ]
  },
  {
   "cell_type": "markdown",
   "metadata": {},
   "source": [
    "Here we are using the Python *itertools*, which is a set of functions in Python for creating iterators for efficient looping.\n",
    "\n",
    "For more information go to: \n",
    "https://docs.python.org/3/library/itertools.html"
   ]
  },
  {
   "cell_type": "code",
   "execution_count": 180,
   "metadata": {},
   "outputs": [
    {
     "data": {
      "text/plain": [
       "<itertools.accumulate at 0x1145afb48>"
      ]
     },
     "execution_count": 180,
     "metadata": {},
     "output_type": "execute_result"
    }
   ],
   "source": [
    "# Let's use Python itertool called accumulate\n",
    "from itertools import accumulate\n",
    "\n",
    "# This example returns a iterator that is the same as\n",
    "# a[0], a[0] + a[1], a[0] + a[1] + a[2], [0] + a[1] + a[2] + a[3]\n",
    "accumulate([1, 2, 3, 4])"
   ]
  },
  {
   "cell_type": "code",
   "execution_count": 181,
   "metadata": {},
   "outputs": [
    {
     "data": {
      "text/plain": [
       "[1, 3, 6, 10]"
      ]
     },
     "execution_count": 181,
     "metadata": {},
     "output_type": "execute_result"
    }
   ],
   "source": [
    "# We can use list object to return a list\n",
    "list(accumulate([1, 2, 3, 4]))"
   ]
  },
  {
   "cell_type": "code",
   "execution_count": 184,
   "metadata": {},
   "outputs": [],
   "source": [
    "# Let's try writing the random_walk function by first \n",
    "# generating all the steps and accumulate them without\n",
    "# any loops\n",
    "\n",
    "def random_walk_faster(n = 1000):\n",
    "    from itertools import accumulate\n",
    "    steps = random.choices([-1, +1], k = n)\n",
    "    return [0] + list(accumulate(steps))"
   ]
  },
  {
   "cell_type": "code",
   "execution_count": 186,
   "metadata": {},
   "outputs": [
    {
     "name": "stdout",
     "output_type": "stream",
     "text": [
      "245 µs ± 34.3 µs per loop (mean ± std. dev. of 7 runs, 1000 loops each)\n"
     ]
    }
   ],
   "source": [
    "%timeit random_walk_faster(1000)"
   ]
  },
  {
   "cell_type": "markdown",
   "metadata": {},
   "source": [
    "Above we have vectorized our function, instead of looping for picking sequential steps and add them to the current position we first generated all the steps at once and use the `accumulate` function to compute all the positions."
   ]
  },
  {
   "cell_type": "markdown",
   "metadata": {},
   "source": [
    "Now let's use the power of NumPy vectorization!"
   ]
  },
  {
   "cell_type": "code",
   "execution_count": 187,
   "metadata": {},
   "outputs": [],
   "source": [
    "def random_walk_fastest(n=1000):\n",
    "    steps = np.random.choice([-1, +1], n)\n",
    "    return np.cumsum(steps)"
   ]
  },
  {
   "cell_type": "code",
   "execution_count": 189,
   "metadata": {},
   "outputs": [
    {
     "name": "stdout",
     "output_type": "stream",
     "text": [
      "21.1 µs ± 4.08 µs per loop (mean ± std. dev. of 7 runs, 10000 loops each)\n"
     ]
    }
   ],
   "source": [
    "%timeit walk = random_walk_fastest(1000)"
   ]
  },
  {
   "cell_type": "markdown",
   "metadata": {},
   "source": [
    "Wow! That was about a 10x speed improvement! \n",
    "\n",
    "With NumPy the readibility of the code may suffer and so it's important to comment the code."
   ]
  },
  {
   "cell_type": "markdown",
   "metadata": {},
   "source": [
    "Some more NumPy vectorization.\n",
    "\n",
    "Sometimes a problem is inherently vectorizable and requires only a few tricks to make it faster. "
   ]
  },
  {
   "cell_type": "code",
   "execution_count": 192,
   "metadata": {},
   "outputs": [],
   "source": [
    "def add_python(z1, z2):\n",
    "    # Here zip(z1, z2) creates an iterator of tuples \n",
    "    #for corresponding elements in both arrays or\n",
    "    # (z1[0], z2[0]), (z1[1], z2[1]), (z1[2], z2[2]), ...\n",
    "    return [z1 + z2 for (z1, z2) in zip (z1, z2)]"
   ]
  },
  {
   "cell_type": "code",
   "execution_count": 193,
   "metadata": {},
   "outputs": [],
   "source": [
    "# Vectorized version using NumPy\n",
    "def add_numpy(z1, z2):\n",
    "    return np.add(z1, z2)"
   ]
  },
  {
   "cell_type": "markdown",
   "metadata": {},
   "source": [
    "### Typical NumPy patterns for Machine Learning\n",
    "\n",
    "A lot of the time we would like to split data into training, testing, and validation sets. This can require a lot of time and is a part of data preparation. Much of this work is performed using tools like NumPy and Pandas (Pandas will be the topic of a future notebook) and before using a Machine Learning framework like Tensorflow. Below are some examples of common patterns for preparing data. "
   ]
  },
  {
   "cell_type": "markdown",
   "metadata": {},
   "source": [
    "Let's look at some of the things we can do to ensure that we are performing cross-validation. Let's do this for the MNIST dataset. "
   ]
  },
  {
   "cell_type": "code",
   "execution_count": 371,
   "metadata": {},
   "outputs": [
    {
     "data": {
      "text/plain": [
       "{'DESCR': 'mldata.org dataset: mnist-original',\n",
       " 'COL_NAMES': ['label', 'data'],\n",
       " 'target': array([0., 0., 0., ..., 9., 9., 9.]),\n",
       " 'data': array([[0, 0, 0, ..., 0, 0, 0],\n",
       "        [0, 0, 0, ..., 0, 0, 0],\n",
       "        [0, 0, 0, ..., 0, 0, 0],\n",
       "        ...,\n",
       "        [0, 0, 0, ..., 0, 0, 0],\n",
       "        [0, 0, 0, ..., 0, 0, 0],\n",
       "        [0, 0, 0, ..., 0, 0, 0]], dtype=uint8)}"
      ]
     },
     "execution_count": 371,
     "metadata": {},
     "output_type": "execute_result"
    }
   ],
   "source": [
    "# Let's use sklearn library to import MNIST data\n",
    "from sklearn.datasets import fetch_mldata\n",
    "mnist = fetch_mldata('MNIST original')\n",
    "mnist"
   ]
  },
  {
   "cell_type": "code",
   "execution_count": 372,
   "metadata": {},
   "outputs": [],
   "source": [
    "# Note that DESCR is the the key describing the dataset \n",
    "# The 'data' key containing an array \n",
    "# with one row per instance and one column per feature\n",
    "# The 'target' key has an array with labels \n",
    "\n",
    "X, y = mnist[\"data\"], mnist[\"target\"]"
   ]
  },
  {
   "cell_type": "markdown",
   "metadata": {},
   "source": [
    "A lot of the time we want to put a test set aside before inspecting the data. MNIST luckily is already split inot a training set (first 60,000) and a test set (last 10,000)."
   ]
  },
  {
   "cell_type": "code",
   "execution_count": 373,
   "metadata": {},
   "outputs": [],
   "source": [
    "X_train, X_test, y_train, y_test = X[:60000], X[60000:], y[:60000], y[600000:]"
   ]
  },
  {
   "cell_type": "markdown",
   "metadata": {},
   "source": [
    "Now we want to ensure that the cross-validation folds are similar. We can do this by shuffling the data."
   ]
  },
  {
   "cell_type": "code",
   "execution_count": 374,
   "metadata": {},
   "outputs": [],
   "source": [
    "# Let's create a random NumPy array that that is (6000,)\n",
    "shuffle_index = np.random.permutation(60000)\n",
    "# Let's shuffle the training set using our shuffle index\n",
    "X_train, y_train = X_train[shuffle_index], y_train[shuffle_index]"
   ]
  },
  {
   "cell_type": "markdown",
   "metadata": {},
   "source": [
    "We can use the above dataset to create a  binary classifier to classify particular digits. "
   ]
  }
 ],
 "metadata": {
  "kernelspec": {
   "display_name": "Python 3",
   "language": "python",
   "name": "python3"
  },
  "language_info": {
   "codemirror_mode": {
    "name": "ipython",
    "version": 3
   },
   "file_extension": ".py",
   "mimetype": "text/x-python",
   "name": "python",
   "nbconvert_exporter": "python",
   "pygments_lexer": "ipython3",
   "version": "3.6.5"
  }
 },
 "nbformat": 4,
 "nbformat_minor": 2
}
